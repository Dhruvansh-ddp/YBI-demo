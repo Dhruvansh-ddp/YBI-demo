{
  "nbformat": 4,
  "nbformat_minor": 0,
  "metadata": {
    "colab": {
      "provenance": []
    },
    "kernelspec": {
      "name": "python3",
      "display_name": "Python 3"
    },
    "language_info": {
      "name": "python"
    }
  },
  "cells": [
    {
      "cell_type": "markdown",
      "source": [
        "# Movie_Recommendation"
      ],
      "metadata": {
        "id": "fvCg-SI0Z5Fq"
      }
    },
    {
      "cell_type": "markdown",
      "source": [
        "Objective: To create a movie recommendation system based on movie features like genre, keywords, tagline, cast, and director. The code uses the concept of TF-IDF (Term Frequency-Inverse Document Frequency) vectorization to convert the movie features into numerical tokens and then calculates the cosine similarity between movies to find similar recommendations."
      ],
      "metadata": {
        "id": "XB_M_gQObK6K"
      }
    },
    {
      "cell_type": "markdown",
      "source": [
        "Data Source:\n",
        "Github, YBI"
      ],
      "metadata": {
        "id": "e2lQPbhPdPUj"
      }
    },
    {
      "cell_type": "markdown",
      "source": [
        "**Import Library**\n",
        "\n"
      ],
      "metadata": {
        "id": "Eo_2Zj3gGXff"
      }
    },
    {
      "cell_type": "code",
      "execution_count": 26,
      "metadata": {
        "id": "yAzoEmI_jBFA"
      },
      "outputs": [],
      "source": [
        "import pandas as pd"
      ]
    },
    {
      "cell_type": "code",
      "source": [
        "import numpy as np"
      ],
      "metadata": {
        "id": "yuZMQe5cFV6k"
      },
      "execution_count": 27,
      "outputs": []
    },
    {
      "cell_type": "markdown",
      "source": [
        "**Import Dataset**"
      ],
      "metadata": {
        "id": "ULZhQtJZGk15"
      }
    },
    {
      "cell_type": "code",
      "source": [
        "df = pd.read_csv('https://raw.githubusercontent.com/YBI-Foundation/Dataset/main/Movies%20Recommendation.csv')"
      ],
      "metadata": {
        "id": "uDMelIktFbdb"
      },
      "execution_count": 28,
      "outputs": []
    },
    {
      "cell_type": "code",
      "source": [
        "df.head()"
      ],
      "metadata": {
        "colab": {
          "base_uri": "https://localhost:8080/",
          "height": 716
        },
        "id": "xv0r7aVpFqPP",
        "outputId": "080d4b99-6d82-4063-92fb-6ea8db5aee7e"
      },
      "execution_count": 29,
      "outputs": [
        {
          "output_type": "execute_result",
          "data": {
            "text/plain": [
              "   Movie_ID      Movie_Title                       Movie_Genre Movie_Language  \\\n",
              "0         1       Four Rooms                      Crime Comedy             en   \n",
              "1         2        Star Wars  Adventure Action Science Fiction             en   \n",
              "2         3     Finding Nemo                  Animation Family             en   \n",
              "3         4     Forrest Gump              Comedy Drama Romance             en   \n",
              "4         5  American Beauty                             Drama             en   \n",
              "\n",
              "   Movie_Budget  Movie_Popularity Movie_Release_Date  Movie_Revenue  \\\n",
              "0       4000000         22.876230         09-12-1995        4300000   \n",
              "1      11000000        126.393695         25-05-1977      775398007   \n",
              "2      94000000         85.688789         30-05-2003      940335536   \n",
              "3      55000000        138.133331         06-07-1994      677945399   \n",
              "4      15000000         80.878605         15-09-1999      356296601   \n",
              "\n",
              "   Movie_Runtime  Movie_Vote  ...  \\\n",
              "0           98.0         6.5  ...   \n",
              "1          121.0         8.1  ...   \n",
              "2          100.0         7.6  ...   \n",
              "3          142.0         8.2  ...   \n",
              "4          122.0         7.9  ...   \n",
              "\n",
              "                                      Movie_Homepage  \\\n",
              "0                                                NaN   \n",
              "1  http://www.starwars.com/films/star-wars-episod...   \n",
              "2              http://movies.disney.com/finding-nemo   \n",
              "3                                                NaN   \n",
              "4                      http://www.dreamworks.com/ab/   \n",
              "\n",
              "                                      Movie_Keywords  \\\n",
              "0          hotel new year's eve witch bet hotel room   \n",
              "1        android galaxy hermit death star lightsaber   \n",
              "2  father son relationship harbor underwater fish...   \n",
              "3  vietnam veteran hippie mentally disabled runni...   \n",
              "4  male nudity female nudity adultery midlife cri...   \n",
              "\n",
              "                                      Movie_Overview  \\\n",
              "0  It's Ted the Bellhop's first night on the job....   \n",
              "1  Princess Leia is captured and held hostage by ...   \n",
              "2  Nemo, an adventurous young clownfish, is unexp...   \n",
              "3  A man with a low IQ has accomplished great thi...   \n",
              "4  Lester Burnham, a depressed suburban father in...   \n",
              "\n",
              "                              Movie_Production_House  \\\n",
              "0  [{\"name\": \"Miramax Films\", \"id\": 14}, {\"name\":...   \n",
              "1  [{\"name\": \"Lucasfilm\", \"id\": 1}, {\"name\": \"Twe...   \n",
              "2     [{\"name\": \"Pixar Animation Studios\", \"id\": 3}]   \n",
              "3          [{\"name\": \"Paramount Pictures\", \"id\": 4}]   \n",
              "4  [{\"name\": \"DreamWorks SKG\", \"id\": 27}, {\"name\"...   \n",
              "\n",
              "                            Movie_Production_Country  \\\n",
              "0  [{\"iso_3166_1\": \"US\", \"name\": \"United States o...   \n",
              "1  [{\"iso_3166_1\": \"US\", \"name\": \"United States o...   \n",
              "2  [{\"iso_3166_1\": \"US\", \"name\": \"United States o...   \n",
              "3  [{\"iso_3166_1\": \"US\", \"name\": \"United States o...   \n",
              "4  [{\"iso_3166_1\": \"US\", \"name\": \"United States o...   \n",
              "\n",
              "                      Movie_Spoken_Language  \\\n",
              "0  [{\"iso_639_1\": \"en\", \"name\": \"English\"}]   \n",
              "1  [{\"iso_639_1\": \"en\", \"name\": \"English\"}]   \n",
              "2  [{\"iso_639_1\": \"en\", \"name\": \"English\"}]   \n",
              "3  [{\"iso_639_1\": \"en\", \"name\": \"English\"}]   \n",
              "4  [{\"iso_639_1\": \"en\", \"name\": \"English\"}]   \n",
              "\n",
              "                                       Movie_Tagline  \\\n",
              "0  Twelve outrageous guests. Four scandalous requ...   \n",
              "1       A long time ago in a galaxy far, far away...   \n",
              "2  There are 3.7 trillion fish in the ocean, they...   \n",
              "3  The world will never be the same, once you've ...   \n",
              "4                                       Look closer.   \n",
              "\n",
              "                                          Movie_Cast  \\\n",
              "0  Tim Roth Antonio Banderas Jennifer Beals Madon...   \n",
              "1  Mark Hamill Harrison Ford Carrie Fisher Peter ...   \n",
              "2  Albert Brooks Ellen DeGeneres Alexander Gould ...   \n",
              "3  Tom Hanks Robin Wright Gary Sinise Mykelti Wil...   \n",
              "4  Kevin Spacey Annette Bening Thora Birch Wes Be...   \n",
              "\n",
              "                                          Movie_Crew   Movie_Director  \n",
              "0  [{'name': 'Allison Anders', 'gender': 1, 'depa...   Allison Anders  \n",
              "1  [{'name': 'George Lucas', 'gender': 2, 'depart...     George Lucas  \n",
              "2  [{'name': 'Andrew Stanton', 'gender': 2, 'depa...   Andrew Stanton  \n",
              "3  [{'name': 'Alan Silvestri', 'gender': 2, 'depa...  Robert Zemeckis  \n",
              "4  [{'name': 'Thomas Newman', 'gender': 2, 'depar...       Sam Mendes  \n",
              "\n",
              "[5 rows x 21 columns]"
            ],
            "text/html": [
              "\n",
              "\n",
              "  <div id=\"df-6f4ab378-f90f-4eab-b94c-710f5be5bdab\">\n",
              "    <div class=\"colab-df-container\">\n",
              "      <div>\n",
              "<style scoped>\n",
              "    .dataframe tbody tr th:only-of-type {\n",
              "        vertical-align: middle;\n",
              "    }\n",
              "\n",
              "    .dataframe tbody tr th {\n",
              "        vertical-align: top;\n",
              "    }\n",
              "\n",
              "    .dataframe thead th {\n",
              "        text-align: right;\n",
              "    }\n",
              "</style>\n",
              "<table border=\"1\" class=\"dataframe\">\n",
              "  <thead>\n",
              "    <tr style=\"text-align: right;\">\n",
              "      <th></th>\n",
              "      <th>Movie_ID</th>\n",
              "      <th>Movie_Title</th>\n",
              "      <th>Movie_Genre</th>\n",
              "      <th>Movie_Language</th>\n",
              "      <th>Movie_Budget</th>\n",
              "      <th>Movie_Popularity</th>\n",
              "      <th>Movie_Release_Date</th>\n",
              "      <th>Movie_Revenue</th>\n",
              "      <th>Movie_Runtime</th>\n",
              "      <th>Movie_Vote</th>\n",
              "      <th>...</th>\n",
              "      <th>Movie_Homepage</th>\n",
              "      <th>Movie_Keywords</th>\n",
              "      <th>Movie_Overview</th>\n",
              "      <th>Movie_Production_House</th>\n",
              "      <th>Movie_Production_Country</th>\n",
              "      <th>Movie_Spoken_Language</th>\n",
              "      <th>Movie_Tagline</th>\n",
              "      <th>Movie_Cast</th>\n",
              "      <th>Movie_Crew</th>\n",
              "      <th>Movie_Director</th>\n",
              "    </tr>\n",
              "  </thead>\n",
              "  <tbody>\n",
              "    <tr>\n",
              "      <th>0</th>\n",
              "      <td>1</td>\n",
              "      <td>Four Rooms</td>\n",
              "      <td>Crime Comedy</td>\n",
              "      <td>en</td>\n",
              "      <td>4000000</td>\n",
              "      <td>22.876230</td>\n",
              "      <td>09-12-1995</td>\n",
              "      <td>4300000</td>\n",
              "      <td>98.0</td>\n",
              "      <td>6.5</td>\n",
              "      <td>...</td>\n",
              "      <td>NaN</td>\n",
              "      <td>hotel new year's eve witch bet hotel room</td>\n",
              "      <td>It's Ted the Bellhop's first night on the job....</td>\n",
              "      <td>[{\"name\": \"Miramax Films\", \"id\": 14}, {\"name\":...</td>\n",
              "      <td>[{\"iso_3166_1\": \"US\", \"name\": \"United States o...</td>\n",
              "      <td>[{\"iso_639_1\": \"en\", \"name\": \"English\"}]</td>\n",
              "      <td>Twelve outrageous guests. Four scandalous requ...</td>\n",
              "      <td>Tim Roth Antonio Banderas Jennifer Beals Madon...</td>\n",
              "      <td>[{'name': 'Allison Anders', 'gender': 1, 'depa...</td>\n",
              "      <td>Allison Anders</td>\n",
              "    </tr>\n",
              "    <tr>\n",
              "      <th>1</th>\n",
              "      <td>2</td>\n",
              "      <td>Star Wars</td>\n",
              "      <td>Adventure Action Science Fiction</td>\n",
              "      <td>en</td>\n",
              "      <td>11000000</td>\n",
              "      <td>126.393695</td>\n",
              "      <td>25-05-1977</td>\n",
              "      <td>775398007</td>\n",
              "      <td>121.0</td>\n",
              "      <td>8.1</td>\n",
              "      <td>...</td>\n",
              "      <td>http://www.starwars.com/films/star-wars-episod...</td>\n",
              "      <td>android galaxy hermit death star lightsaber</td>\n",
              "      <td>Princess Leia is captured and held hostage by ...</td>\n",
              "      <td>[{\"name\": \"Lucasfilm\", \"id\": 1}, {\"name\": \"Twe...</td>\n",
              "      <td>[{\"iso_3166_1\": \"US\", \"name\": \"United States o...</td>\n",
              "      <td>[{\"iso_639_1\": \"en\", \"name\": \"English\"}]</td>\n",
              "      <td>A long time ago in a galaxy far, far away...</td>\n",
              "      <td>Mark Hamill Harrison Ford Carrie Fisher Peter ...</td>\n",
              "      <td>[{'name': 'George Lucas', 'gender': 2, 'depart...</td>\n",
              "      <td>George Lucas</td>\n",
              "    </tr>\n",
              "    <tr>\n",
              "      <th>2</th>\n",
              "      <td>3</td>\n",
              "      <td>Finding Nemo</td>\n",
              "      <td>Animation Family</td>\n",
              "      <td>en</td>\n",
              "      <td>94000000</td>\n",
              "      <td>85.688789</td>\n",
              "      <td>30-05-2003</td>\n",
              "      <td>940335536</td>\n",
              "      <td>100.0</td>\n",
              "      <td>7.6</td>\n",
              "      <td>...</td>\n",
              "      <td>http://movies.disney.com/finding-nemo</td>\n",
              "      <td>father son relationship harbor underwater fish...</td>\n",
              "      <td>Nemo, an adventurous young clownfish, is unexp...</td>\n",
              "      <td>[{\"name\": \"Pixar Animation Studios\", \"id\": 3}]</td>\n",
              "      <td>[{\"iso_3166_1\": \"US\", \"name\": \"United States o...</td>\n",
              "      <td>[{\"iso_639_1\": \"en\", \"name\": \"English\"}]</td>\n",
              "      <td>There are 3.7 trillion fish in the ocean, they...</td>\n",
              "      <td>Albert Brooks Ellen DeGeneres Alexander Gould ...</td>\n",
              "      <td>[{'name': 'Andrew Stanton', 'gender': 2, 'depa...</td>\n",
              "      <td>Andrew Stanton</td>\n",
              "    </tr>\n",
              "    <tr>\n",
              "      <th>3</th>\n",
              "      <td>4</td>\n",
              "      <td>Forrest Gump</td>\n",
              "      <td>Comedy Drama Romance</td>\n",
              "      <td>en</td>\n",
              "      <td>55000000</td>\n",
              "      <td>138.133331</td>\n",
              "      <td>06-07-1994</td>\n",
              "      <td>677945399</td>\n",
              "      <td>142.0</td>\n",
              "      <td>8.2</td>\n",
              "      <td>...</td>\n",
              "      <td>NaN</td>\n",
              "      <td>vietnam veteran hippie mentally disabled runni...</td>\n",
              "      <td>A man with a low IQ has accomplished great thi...</td>\n",
              "      <td>[{\"name\": \"Paramount Pictures\", \"id\": 4}]</td>\n",
              "      <td>[{\"iso_3166_1\": \"US\", \"name\": \"United States o...</td>\n",
              "      <td>[{\"iso_639_1\": \"en\", \"name\": \"English\"}]</td>\n",
              "      <td>The world will never be the same, once you've ...</td>\n",
              "      <td>Tom Hanks Robin Wright Gary Sinise Mykelti Wil...</td>\n",
              "      <td>[{'name': 'Alan Silvestri', 'gender': 2, 'depa...</td>\n",
              "      <td>Robert Zemeckis</td>\n",
              "    </tr>\n",
              "    <tr>\n",
              "      <th>4</th>\n",
              "      <td>5</td>\n",
              "      <td>American Beauty</td>\n",
              "      <td>Drama</td>\n",
              "      <td>en</td>\n",
              "      <td>15000000</td>\n",
              "      <td>80.878605</td>\n",
              "      <td>15-09-1999</td>\n",
              "      <td>356296601</td>\n",
              "      <td>122.0</td>\n",
              "      <td>7.9</td>\n",
              "      <td>...</td>\n",
              "      <td>http://www.dreamworks.com/ab/</td>\n",
              "      <td>male nudity female nudity adultery midlife cri...</td>\n",
              "      <td>Lester Burnham, a depressed suburban father in...</td>\n",
              "      <td>[{\"name\": \"DreamWorks SKG\", \"id\": 27}, {\"name\"...</td>\n",
              "      <td>[{\"iso_3166_1\": \"US\", \"name\": \"United States o...</td>\n",
              "      <td>[{\"iso_639_1\": \"en\", \"name\": \"English\"}]</td>\n",
              "      <td>Look closer.</td>\n",
              "      <td>Kevin Spacey Annette Bening Thora Birch Wes Be...</td>\n",
              "      <td>[{'name': 'Thomas Newman', 'gender': 2, 'depar...</td>\n",
              "      <td>Sam Mendes</td>\n",
              "    </tr>\n",
              "  </tbody>\n",
              "</table>\n",
              "<p>5 rows × 21 columns</p>\n",
              "</div>\n",
              "      <button class=\"colab-df-convert\" onclick=\"convertToInteractive('df-6f4ab378-f90f-4eab-b94c-710f5be5bdab')\"\n",
              "              title=\"Convert this dataframe to an interactive table.\"\n",
              "              style=\"display:none;\">\n",
              "\n",
              "  <svg xmlns=\"http://www.w3.org/2000/svg\" height=\"24px\"viewBox=\"0 0 24 24\"\n",
              "       width=\"24px\">\n",
              "    <path d=\"M0 0h24v24H0V0z\" fill=\"none\"/>\n",
              "    <path d=\"M18.56 5.44l.94 2.06.94-2.06 2.06-.94-2.06-.94-.94-2.06-.94 2.06-2.06.94zm-11 1L8.5 8.5l.94-2.06 2.06-.94-2.06-.94L8.5 2.5l-.94 2.06-2.06.94zm10 10l.94 2.06.94-2.06 2.06-.94-2.06-.94-.94-2.06-.94 2.06-2.06.94z\"/><path d=\"M17.41 7.96l-1.37-1.37c-.4-.4-.92-.59-1.43-.59-.52 0-1.04.2-1.43.59L10.3 9.45l-7.72 7.72c-.78.78-.78 2.05 0 2.83L4 21.41c.39.39.9.59 1.41.59.51 0 1.02-.2 1.41-.59l7.78-7.78 2.81-2.81c.8-.78.8-2.07 0-2.86zM5.41 20L4 18.59l7.72-7.72 1.47 1.35L5.41 20z\"/>\n",
              "  </svg>\n",
              "      </button>\n",
              "\n",
              "\n",
              "\n",
              "    <div id=\"df-3b087c85-cd50-43cf-bdf7-91d1470e4b48\">\n",
              "      <button class=\"colab-df-quickchart\" onclick=\"quickchart('df-3b087c85-cd50-43cf-bdf7-91d1470e4b48')\"\n",
              "              title=\"Suggest charts.\"\n",
              "              style=\"display:none;\">\n",
              "\n",
              "<svg xmlns=\"http://www.w3.org/2000/svg\" height=\"24px\"viewBox=\"0 0 24 24\"\n",
              "     width=\"24px\">\n",
              "    <g>\n",
              "        <path d=\"M19 3H5c-1.1 0-2 .9-2 2v14c0 1.1.9 2 2 2h14c1.1 0 2-.9 2-2V5c0-1.1-.9-2-2-2zM9 17H7v-7h2v7zm4 0h-2V7h2v10zm4 0h-2v-4h2v4z\"/>\n",
              "    </g>\n",
              "</svg>\n",
              "      </button>\n",
              "    </div>\n",
              "\n",
              "<style>\n",
              "  .colab-df-quickchart {\n",
              "    background-color: #E8F0FE;\n",
              "    border: none;\n",
              "    border-radius: 50%;\n",
              "    cursor: pointer;\n",
              "    display: none;\n",
              "    fill: #1967D2;\n",
              "    height: 32px;\n",
              "    padding: 0 0 0 0;\n",
              "    width: 32px;\n",
              "  }\n",
              "\n",
              "  .colab-df-quickchart:hover {\n",
              "    background-color: #E2EBFA;\n",
              "    box-shadow: 0px 1px 2px rgba(60, 64, 67, 0.3), 0px 1px 3px 1px rgba(60, 64, 67, 0.15);\n",
              "    fill: #174EA6;\n",
              "  }\n",
              "\n",
              "  [theme=dark] .colab-df-quickchart {\n",
              "    background-color: #3B4455;\n",
              "    fill: #D2E3FC;\n",
              "  }\n",
              "\n",
              "  [theme=dark] .colab-df-quickchart:hover {\n",
              "    background-color: #434B5C;\n",
              "    box-shadow: 0px 1px 3px 1px rgba(0, 0, 0, 0.15);\n",
              "    filter: drop-shadow(0px 1px 2px rgba(0, 0, 0, 0.3));\n",
              "    fill: #FFFFFF;\n",
              "  }\n",
              "</style>\n",
              "\n",
              "    <script>\n",
              "      async function quickchart(key) {\n",
              "        const containerElement = document.querySelector('#' + key);\n",
              "        const charts = await google.colab.kernel.invokeFunction(\n",
              "            'suggestCharts', [key], {});\n",
              "      }\n",
              "    </script>\n",
              "\n",
              "      <script>\n",
              "\n",
              "function displayQuickchartButton(domScope) {\n",
              "  let quickchartButtonEl =\n",
              "    domScope.querySelector('#df-3b087c85-cd50-43cf-bdf7-91d1470e4b48 button.colab-df-quickchart');\n",
              "  quickchartButtonEl.style.display =\n",
              "    google.colab.kernel.accessAllowed ? 'block' : 'none';\n",
              "}\n",
              "\n",
              "        displayQuickchartButton(document);\n",
              "      </script>\n",
              "      <style>\n",
              "    .colab-df-container {\n",
              "      display:flex;\n",
              "      flex-wrap:wrap;\n",
              "      gap: 12px;\n",
              "    }\n",
              "\n",
              "    .colab-df-convert {\n",
              "      background-color: #E8F0FE;\n",
              "      border: none;\n",
              "      border-radius: 50%;\n",
              "      cursor: pointer;\n",
              "      display: none;\n",
              "      fill: #1967D2;\n",
              "      height: 32px;\n",
              "      padding: 0 0 0 0;\n",
              "      width: 32px;\n",
              "    }\n",
              "\n",
              "    .colab-df-convert:hover {\n",
              "      background-color: #E2EBFA;\n",
              "      box-shadow: 0px 1px 2px rgba(60, 64, 67, 0.3), 0px 1px 3px 1px rgba(60, 64, 67, 0.15);\n",
              "      fill: #174EA6;\n",
              "    }\n",
              "\n",
              "    [theme=dark] .colab-df-convert {\n",
              "      background-color: #3B4455;\n",
              "      fill: #D2E3FC;\n",
              "    }\n",
              "\n",
              "    [theme=dark] .colab-df-convert:hover {\n",
              "      background-color: #434B5C;\n",
              "      box-shadow: 0px 1px 3px 1px rgba(0, 0, 0, 0.15);\n",
              "      filter: drop-shadow(0px 1px 2px rgba(0, 0, 0, 0.3));\n",
              "      fill: #FFFFFF;\n",
              "    }\n",
              "  </style>\n",
              "\n",
              "      <script>\n",
              "        const buttonEl =\n",
              "          document.querySelector('#df-6f4ab378-f90f-4eab-b94c-710f5be5bdab button.colab-df-convert');\n",
              "        buttonEl.style.display =\n",
              "          google.colab.kernel.accessAllowed ? 'block' : 'none';\n",
              "\n",
              "        async function convertToInteractive(key) {\n",
              "          const element = document.querySelector('#df-6f4ab378-f90f-4eab-b94c-710f5be5bdab');\n",
              "          const dataTable =\n",
              "            await google.colab.kernel.invokeFunction('convertToInteractive',\n",
              "                                                     [key], {});\n",
              "          if (!dataTable) return;\n",
              "\n",
              "          const docLinkHtml = 'Like what you see? Visit the ' +\n",
              "            '<a target=\"_blank\" href=https://colab.research.google.com/notebooks/data_table.ipynb>data table notebook</a>'\n",
              "            + ' to learn more about interactive tables.';\n",
              "          element.innerHTML = '';\n",
              "          dataTable['output_type'] = 'display_data';\n",
              "          await google.colab.output.renderOutput(dataTable, element);\n",
              "          const docLink = document.createElement('div');\n",
              "          docLink.innerHTML = docLinkHtml;\n",
              "          element.appendChild(docLink);\n",
              "        }\n",
              "      </script>\n",
              "    </div>\n",
              "  </div>\n"
            ]
          },
          "metadata": {},
          "execution_count": 29
        }
      ]
    },
    {
      "cell_type": "code",
      "source": [
        "df.info()"
      ],
      "metadata": {
        "colab": {
          "base_uri": "https://localhost:8080/"
        },
        "id": "F2EC2DJkFwLN",
        "outputId": "c61b73eb-3f0a-4543-e601-736b86e7a443"
      },
      "execution_count": 30,
      "outputs": [
        {
          "output_type": "stream",
          "name": "stdout",
          "text": [
            "<class 'pandas.core.frame.DataFrame'>\n",
            "RangeIndex: 4760 entries, 0 to 4759\n",
            "Data columns (total 21 columns):\n",
            " #   Column                    Non-Null Count  Dtype  \n",
            "---  ------                    --------------  -----  \n",
            " 0   Movie_ID                  4760 non-null   int64  \n",
            " 1   Movie_Title               4760 non-null   object \n",
            " 2   Movie_Genre               4760 non-null   object \n",
            " 3   Movie_Language            4760 non-null   object \n",
            " 4   Movie_Budget              4760 non-null   int64  \n",
            " 5   Movie_Popularity          4760 non-null   float64\n",
            " 6   Movie_Release_Date        4760 non-null   object \n",
            " 7   Movie_Revenue             4760 non-null   int64  \n",
            " 8   Movie_Runtime             4758 non-null   float64\n",
            " 9   Movie_Vote                4760 non-null   float64\n",
            " 10  Movie_Vote_Count          4760 non-null   int64  \n",
            " 11  Movie_Homepage            1699 non-null   object \n",
            " 12  Movie_Keywords            4373 non-null   object \n",
            " 13  Movie_Overview            4757 non-null   object \n",
            " 14  Movie_Production_House    4760 non-null   object \n",
            " 15  Movie_Production_Country  4760 non-null   object \n",
            " 16  Movie_Spoken_Language     4760 non-null   object \n",
            " 17  Movie_Tagline             3942 non-null   object \n",
            " 18  Movie_Cast                4733 non-null   object \n",
            " 19  Movie_Crew                4760 non-null   object \n",
            " 20  Movie_Director            4738 non-null   object \n",
            "dtypes: float64(3), int64(4), object(14)\n",
            "memory usage: 781.1+ KB\n"
          ]
        }
      ]
    },
    {
      "cell_type": "code",
      "source": [
        "df.shape"
      ],
      "metadata": {
        "colab": {
          "base_uri": "https://localhost:8080/"
        },
        "id": "s4vuGChJF5rQ",
        "outputId": "e105f5c6-9710-4dd7-d5ad-dfe15e353487"
      },
      "execution_count": 31,
      "outputs": [
        {
          "output_type": "execute_result",
          "data": {
            "text/plain": [
              "(4760, 21)"
            ]
          },
          "metadata": {},
          "execution_count": 31
        }
      ]
    },
    {
      "cell_type": "code",
      "source": [
        "df.columns"
      ],
      "metadata": {
        "colab": {
          "base_uri": "https://localhost:8080/"
        },
        "id": "z4JfQdFTGEiM",
        "outputId": "76243e1a-c99f-4653-a9dc-9ccb3bc7c10d"
      },
      "execution_count": 32,
      "outputs": [
        {
          "output_type": "execute_result",
          "data": {
            "text/plain": [
              "Index(['Movie_ID', 'Movie_Title', 'Movie_Genre', 'Movie_Language',\n",
              "       'Movie_Budget', 'Movie_Popularity', 'Movie_Release_Date',\n",
              "       'Movie_Revenue', 'Movie_Runtime', 'Movie_Vote', 'Movie_Vote_Count',\n",
              "       'Movie_Homepage', 'Movie_Keywords', 'Movie_Overview',\n",
              "       'Movie_Production_House', 'Movie_Production_Country',\n",
              "       'Movie_Spoken_Language', 'Movie_Tagline', 'Movie_Cast', 'Movie_Crew',\n",
              "       'Movie_Director'],\n",
              "      dtype='object')"
            ]
          },
          "metadata": {},
          "execution_count": 32
        }
      ]
    },
    {
      "cell_type": "markdown",
      "source": [
        "**Get Feature Selection**"
      ],
      "metadata": {
        "id": "n5CNXSlqGJI4"
      }
    },
    {
      "cell_type": "code",
      "source": [
        "df_features = df[['Movie_Genre','Movie_Keywords','Movie_Tagline','Movie_Cast','Movie_Director']].fillna('')"
      ],
      "metadata": {
        "id": "wL55Nqy_G19G"
      },
      "execution_count": 33,
      "outputs": []
    },
    {
      "cell_type": "code",
      "source": [
        "df_features.shape"
      ],
      "metadata": {
        "colab": {
          "base_uri": "https://localhost:8080/"
        },
        "id": "yKk7ouFxJ9hh",
        "outputId": "c9e0e668-dd16-486b-8f42-9154afd48a84"
      },
      "execution_count": 34,
      "outputs": [
        {
          "output_type": "execute_result",
          "data": {
            "text/plain": [
              "(4760, 5)"
            ]
          },
          "metadata": {},
          "execution_count": 34
        }
      ]
    },
    {
      "cell_type": "code",
      "source": [
        "df_features"
      ],
      "metadata": {
        "colab": {
          "base_uri": "https://localhost:8080/",
          "height": 1000
        },
        "id": "xlvJdNwkKIcR",
        "outputId": "f6ec71fb-141e-4b2b-e401-2a35b83e0534"
      },
      "execution_count": 35,
      "outputs": [
        {
          "output_type": "execute_result",
          "data": {
            "text/plain": [
              "                           Movie_Genre  \\\n",
              "0                         Crime Comedy   \n",
              "1     Adventure Action Science Fiction   \n",
              "2                     Animation Family   \n",
              "3                 Comedy Drama Romance   \n",
              "4                                Drama   \n",
              "...                                ...   \n",
              "4755                            Horror   \n",
              "4756               Comedy Family Drama   \n",
              "4757                    Thriller Drama   \n",
              "4758                            Family   \n",
              "4759                       Documentary   \n",
              "\n",
              "                                         Movie_Keywords  \\\n",
              "0             hotel new year's eve witch bet hotel room   \n",
              "1           android galaxy hermit death star lightsaber   \n",
              "2     father son relationship harbor underwater fish...   \n",
              "3     vietnam veteran hippie mentally disabled runni...   \n",
              "4     male nudity female nudity adultery midlife cri...   \n",
              "...                                                 ...   \n",
              "4755                                                      \n",
              "4756                                                      \n",
              "4757                     christian film sex trafficking   \n",
              "4758                                                      \n",
              "4759  music actors legendary perfomer classic hollyw...   \n",
              "\n",
              "                                          Movie_Tagline  \\\n",
              "0     Twelve outrageous guests. Four scandalous requ...   \n",
              "1          A long time ago in a galaxy far, far away...   \n",
              "2     There are 3.7 trillion fish in the ocean, they...   \n",
              "3     The world will never be the same, once you've ...   \n",
              "4                                          Look closer.   \n",
              "...                                                 ...   \n",
              "4755                The hot spot where Satan's waitin'.   \n",
              "4756           It’s better to stand out than to fit in.   \n",
              "4757           She never knew it could happen to her...   \n",
              "4758                                                      \n",
              "4759                                                      \n",
              "\n",
              "                                             Movie_Cast     Movie_Director  \n",
              "0     Tim Roth Antonio Banderas Jennifer Beals Madon...     Allison Anders  \n",
              "1     Mark Hamill Harrison Ford Carrie Fisher Peter ...       George Lucas  \n",
              "2     Albert Brooks Ellen DeGeneres Alexander Gould ...     Andrew Stanton  \n",
              "3     Tom Hanks Robin Wright Gary Sinise Mykelti Wil...    Robert Zemeckis  \n",
              "4     Kevin Spacey Annette Bening Thora Birch Wes Be...         Sam Mendes  \n",
              "...                                                 ...                ...  \n",
              "4755  Lisa Hart Carroll Michael Des Barres Paul Drak...         Pece Dingo  \n",
              "4756  Roni Akurati Brighton Sharbino Jason Lee Anjul...       Frank Lotito  \n",
              "4757  Nicole Smolen Kim Baldwin Ariana Stephens Brys...       Jaco Booyens  \n",
              "4758                                                                        \n",
              "4759                                    Tony Oppedisano  Simon Napier-Bell  \n",
              "\n",
              "[4760 rows x 5 columns]"
            ],
            "text/html": [
              "\n",
              "\n",
              "  <div id=\"df-265d6504-0ee9-4ea3-83bf-2c511bd3ba51\">\n",
              "    <div class=\"colab-df-container\">\n",
              "      <div>\n",
              "<style scoped>\n",
              "    .dataframe tbody tr th:only-of-type {\n",
              "        vertical-align: middle;\n",
              "    }\n",
              "\n",
              "    .dataframe tbody tr th {\n",
              "        vertical-align: top;\n",
              "    }\n",
              "\n",
              "    .dataframe thead th {\n",
              "        text-align: right;\n",
              "    }\n",
              "</style>\n",
              "<table border=\"1\" class=\"dataframe\">\n",
              "  <thead>\n",
              "    <tr style=\"text-align: right;\">\n",
              "      <th></th>\n",
              "      <th>Movie_Genre</th>\n",
              "      <th>Movie_Keywords</th>\n",
              "      <th>Movie_Tagline</th>\n",
              "      <th>Movie_Cast</th>\n",
              "      <th>Movie_Director</th>\n",
              "    </tr>\n",
              "  </thead>\n",
              "  <tbody>\n",
              "    <tr>\n",
              "      <th>0</th>\n",
              "      <td>Crime Comedy</td>\n",
              "      <td>hotel new year's eve witch bet hotel room</td>\n",
              "      <td>Twelve outrageous guests. Four scandalous requ...</td>\n",
              "      <td>Tim Roth Antonio Banderas Jennifer Beals Madon...</td>\n",
              "      <td>Allison Anders</td>\n",
              "    </tr>\n",
              "    <tr>\n",
              "      <th>1</th>\n",
              "      <td>Adventure Action Science Fiction</td>\n",
              "      <td>android galaxy hermit death star lightsaber</td>\n",
              "      <td>A long time ago in a galaxy far, far away...</td>\n",
              "      <td>Mark Hamill Harrison Ford Carrie Fisher Peter ...</td>\n",
              "      <td>George Lucas</td>\n",
              "    </tr>\n",
              "    <tr>\n",
              "      <th>2</th>\n",
              "      <td>Animation Family</td>\n",
              "      <td>father son relationship harbor underwater fish...</td>\n",
              "      <td>There are 3.7 trillion fish in the ocean, they...</td>\n",
              "      <td>Albert Brooks Ellen DeGeneres Alexander Gould ...</td>\n",
              "      <td>Andrew Stanton</td>\n",
              "    </tr>\n",
              "    <tr>\n",
              "      <th>3</th>\n",
              "      <td>Comedy Drama Romance</td>\n",
              "      <td>vietnam veteran hippie mentally disabled runni...</td>\n",
              "      <td>The world will never be the same, once you've ...</td>\n",
              "      <td>Tom Hanks Robin Wright Gary Sinise Mykelti Wil...</td>\n",
              "      <td>Robert Zemeckis</td>\n",
              "    </tr>\n",
              "    <tr>\n",
              "      <th>4</th>\n",
              "      <td>Drama</td>\n",
              "      <td>male nudity female nudity adultery midlife cri...</td>\n",
              "      <td>Look closer.</td>\n",
              "      <td>Kevin Spacey Annette Bening Thora Birch Wes Be...</td>\n",
              "      <td>Sam Mendes</td>\n",
              "    </tr>\n",
              "    <tr>\n",
              "      <th>...</th>\n",
              "      <td>...</td>\n",
              "      <td>...</td>\n",
              "      <td>...</td>\n",
              "      <td>...</td>\n",
              "      <td>...</td>\n",
              "    </tr>\n",
              "    <tr>\n",
              "      <th>4755</th>\n",
              "      <td>Horror</td>\n",
              "      <td></td>\n",
              "      <td>The hot spot where Satan's waitin'.</td>\n",
              "      <td>Lisa Hart Carroll Michael Des Barres Paul Drak...</td>\n",
              "      <td>Pece Dingo</td>\n",
              "    </tr>\n",
              "    <tr>\n",
              "      <th>4756</th>\n",
              "      <td>Comedy Family Drama</td>\n",
              "      <td></td>\n",
              "      <td>It’s better to stand out than to fit in.</td>\n",
              "      <td>Roni Akurati Brighton Sharbino Jason Lee Anjul...</td>\n",
              "      <td>Frank Lotito</td>\n",
              "    </tr>\n",
              "    <tr>\n",
              "      <th>4757</th>\n",
              "      <td>Thriller Drama</td>\n",
              "      <td>christian film sex trafficking</td>\n",
              "      <td>She never knew it could happen to her...</td>\n",
              "      <td>Nicole Smolen Kim Baldwin Ariana Stephens Brys...</td>\n",
              "      <td>Jaco Booyens</td>\n",
              "    </tr>\n",
              "    <tr>\n",
              "      <th>4758</th>\n",
              "      <td>Family</td>\n",
              "      <td></td>\n",
              "      <td></td>\n",
              "      <td></td>\n",
              "      <td></td>\n",
              "    </tr>\n",
              "    <tr>\n",
              "      <th>4759</th>\n",
              "      <td>Documentary</td>\n",
              "      <td>music actors legendary perfomer classic hollyw...</td>\n",
              "      <td></td>\n",
              "      <td>Tony Oppedisano</td>\n",
              "      <td>Simon Napier-Bell</td>\n",
              "    </tr>\n",
              "  </tbody>\n",
              "</table>\n",
              "<p>4760 rows × 5 columns</p>\n",
              "</div>\n",
              "      <button class=\"colab-df-convert\" onclick=\"convertToInteractive('df-265d6504-0ee9-4ea3-83bf-2c511bd3ba51')\"\n",
              "              title=\"Convert this dataframe to an interactive table.\"\n",
              "              style=\"display:none;\">\n",
              "\n",
              "  <svg xmlns=\"http://www.w3.org/2000/svg\" height=\"24px\"viewBox=\"0 0 24 24\"\n",
              "       width=\"24px\">\n",
              "    <path d=\"M0 0h24v24H0V0z\" fill=\"none\"/>\n",
              "    <path d=\"M18.56 5.44l.94 2.06.94-2.06 2.06-.94-2.06-.94-.94-2.06-.94 2.06-2.06.94zm-11 1L8.5 8.5l.94-2.06 2.06-.94-2.06-.94L8.5 2.5l-.94 2.06-2.06.94zm10 10l.94 2.06.94-2.06 2.06-.94-2.06-.94-.94-2.06-.94 2.06-2.06.94z\"/><path d=\"M17.41 7.96l-1.37-1.37c-.4-.4-.92-.59-1.43-.59-.52 0-1.04.2-1.43.59L10.3 9.45l-7.72 7.72c-.78.78-.78 2.05 0 2.83L4 21.41c.39.39.9.59 1.41.59.51 0 1.02-.2 1.41-.59l7.78-7.78 2.81-2.81c.8-.78.8-2.07 0-2.86zM5.41 20L4 18.59l7.72-7.72 1.47 1.35L5.41 20z\"/>\n",
              "  </svg>\n",
              "      </button>\n",
              "\n",
              "\n",
              "\n",
              "    <div id=\"df-d3be8af9-c389-4c8a-a5de-9b7e862deedb\">\n",
              "      <button class=\"colab-df-quickchart\" onclick=\"quickchart('df-d3be8af9-c389-4c8a-a5de-9b7e862deedb')\"\n",
              "              title=\"Suggest charts.\"\n",
              "              style=\"display:none;\">\n",
              "\n",
              "<svg xmlns=\"http://www.w3.org/2000/svg\" height=\"24px\"viewBox=\"0 0 24 24\"\n",
              "     width=\"24px\">\n",
              "    <g>\n",
              "        <path d=\"M19 3H5c-1.1 0-2 .9-2 2v14c0 1.1.9 2 2 2h14c1.1 0 2-.9 2-2V5c0-1.1-.9-2-2-2zM9 17H7v-7h2v7zm4 0h-2V7h2v10zm4 0h-2v-4h2v4z\"/>\n",
              "    </g>\n",
              "</svg>\n",
              "      </button>\n",
              "    </div>\n",
              "\n",
              "<style>\n",
              "  .colab-df-quickchart {\n",
              "    background-color: #E8F0FE;\n",
              "    border: none;\n",
              "    border-radius: 50%;\n",
              "    cursor: pointer;\n",
              "    display: none;\n",
              "    fill: #1967D2;\n",
              "    height: 32px;\n",
              "    padding: 0 0 0 0;\n",
              "    width: 32px;\n",
              "  }\n",
              "\n",
              "  .colab-df-quickchart:hover {\n",
              "    background-color: #E2EBFA;\n",
              "    box-shadow: 0px 1px 2px rgba(60, 64, 67, 0.3), 0px 1px 3px 1px rgba(60, 64, 67, 0.15);\n",
              "    fill: #174EA6;\n",
              "  }\n",
              "\n",
              "  [theme=dark] .colab-df-quickchart {\n",
              "    background-color: #3B4455;\n",
              "    fill: #D2E3FC;\n",
              "  }\n",
              "\n",
              "  [theme=dark] .colab-df-quickchart:hover {\n",
              "    background-color: #434B5C;\n",
              "    box-shadow: 0px 1px 3px 1px rgba(0, 0, 0, 0.15);\n",
              "    filter: drop-shadow(0px 1px 2px rgba(0, 0, 0, 0.3));\n",
              "    fill: #FFFFFF;\n",
              "  }\n",
              "</style>\n",
              "\n",
              "    <script>\n",
              "      async function quickchart(key) {\n",
              "        const containerElement = document.querySelector('#' + key);\n",
              "        const charts = await google.colab.kernel.invokeFunction(\n",
              "            'suggestCharts', [key], {});\n",
              "      }\n",
              "    </script>\n",
              "\n",
              "      <script>\n",
              "\n",
              "function displayQuickchartButton(domScope) {\n",
              "  let quickchartButtonEl =\n",
              "    domScope.querySelector('#df-d3be8af9-c389-4c8a-a5de-9b7e862deedb button.colab-df-quickchart');\n",
              "  quickchartButtonEl.style.display =\n",
              "    google.colab.kernel.accessAllowed ? 'block' : 'none';\n",
              "}\n",
              "\n",
              "        displayQuickchartButton(document);\n",
              "      </script>\n",
              "      <style>\n",
              "    .colab-df-container {\n",
              "      display:flex;\n",
              "      flex-wrap:wrap;\n",
              "      gap: 12px;\n",
              "    }\n",
              "\n",
              "    .colab-df-convert {\n",
              "      background-color: #E8F0FE;\n",
              "      border: none;\n",
              "      border-radius: 50%;\n",
              "      cursor: pointer;\n",
              "      display: none;\n",
              "      fill: #1967D2;\n",
              "      height: 32px;\n",
              "      padding: 0 0 0 0;\n",
              "      width: 32px;\n",
              "    }\n",
              "\n",
              "    .colab-df-convert:hover {\n",
              "      background-color: #E2EBFA;\n",
              "      box-shadow: 0px 1px 2px rgba(60, 64, 67, 0.3), 0px 1px 3px 1px rgba(60, 64, 67, 0.15);\n",
              "      fill: #174EA6;\n",
              "    }\n",
              "\n",
              "    [theme=dark] .colab-df-convert {\n",
              "      background-color: #3B4455;\n",
              "      fill: #D2E3FC;\n",
              "    }\n",
              "\n",
              "    [theme=dark] .colab-df-convert:hover {\n",
              "      background-color: #434B5C;\n",
              "      box-shadow: 0px 1px 3px 1px rgba(0, 0, 0, 0.15);\n",
              "      filter: drop-shadow(0px 1px 2px rgba(0, 0, 0, 0.3));\n",
              "      fill: #FFFFFF;\n",
              "    }\n",
              "  </style>\n",
              "\n",
              "      <script>\n",
              "        const buttonEl =\n",
              "          document.querySelector('#df-265d6504-0ee9-4ea3-83bf-2c511bd3ba51 button.colab-df-convert');\n",
              "        buttonEl.style.display =\n",
              "          google.colab.kernel.accessAllowed ? 'block' : 'none';\n",
              "\n",
              "        async function convertToInteractive(key) {\n",
              "          const element = document.querySelector('#df-265d6504-0ee9-4ea3-83bf-2c511bd3ba51');\n",
              "          const dataTable =\n",
              "            await google.colab.kernel.invokeFunction('convertToInteractive',\n",
              "                                                     [key], {});\n",
              "          if (!dataTable) return;\n",
              "\n",
              "          const docLinkHtml = 'Like what you see? Visit the ' +\n",
              "            '<a target=\"_blank\" href=https://colab.research.google.com/notebooks/data_table.ipynb>data table notebook</a>'\n",
              "            + ' to learn more about interactive tables.';\n",
              "          element.innerHTML = '';\n",
              "          dataTable['output_type'] = 'display_data';\n",
              "          await google.colab.output.renderOutput(dataTable, element);\n",
              "          const docLink = document.createElement('div');\n",
              "          docLink.innerHTML = docLinkHtml;\n",
              "          element.appendChild(docLink);\n",
              "        }\n",
              "      </script>\n",
              "    </div>\n",
              "  </div>\n"
            ]
          },
          "metadata": {},
          "execution_count": 35
        }
      ]
    },
    {
      "cell_type": "code",
      "source": [
        "x = df_features['Movie_Genre'] + ' ' + df_features['Movie_Keywords'] + ' ' + df_features['Movie_Tagline'] + ' ' + df_features['Movie_Cast']+ ' ' + df_features['Movie_Director']"
      ],
      "metadata": {
        "id": "7Fjn1yqTKYli"
      },
      "execution_count": 36,
      "outputs": []
    },
    {
      "cell_type": "code",
      "source": [
        "x.shape"
      ],
      "metadata": {
        "colab": {
          "base_uri": "https://localhost:8080/"
        },
        "id": "iiXbOgm_LYHL",
        "outputId": "3f89e614-f88a-4217-cf58-97cf80fbae32"
      },
      "execution_count": 37,
      "outputs": [
        {
          "output_type": "execute_result",
          "data": {
            "text/plain": [
              "(4760,)"
            ]
          },
          "metadata": {},
          "execution_count": 37
        }
      ]
    },
    {
      "cell_type": "markdown",
      "source": [
        "**Get Features Text Conversion to Tokens**"
      ],
      "metadata": {
        "id": "hQKmJSRfMPL9"
      }
    },
    {
      "cell_type": "code",
      "source": [
        "from sklearn.feature_extraction.text import TfidfVectorizer"
      ],
      "metadata": {
        "id": "P_edtKd-MX4Y"
      },
      "execution_count": 38,
      "outputs": []
    },
    {
      "cell_type": "code",
      "source": [
        "tfidf = TfidfVectorizer()"
      ],
      "metadata": {
        "id": "UaKk8tZtMm5m"
      },
      "execution_count": 39,
      "outputs": []
    },
    {
      "cell_type": "code",
      "source": [
        "x = tfidf.fit_transform(x)"
      ],
      "metadata": {
        "id": "-WAWkI3VMwSt"
      },
      "execution_count": 40,
      "outputs": []
    },
    {
      "cell_type": "code",
      "source": [
        "x.shape"
      ],
      "metadata": {
        "colab": {
          "base_uri": "https://localhost:8080/"
        },
        "id": "7lK5Z7OvM4mm",
        "outputId": "31f21219-3641-4ac6-b866-861d426b3c7f"
      },
      "execution_count": 41,
      "outputs": [
        {
          "output_type": "execute_result",
          "data": {
            "text/plain": [
              "(4760, 17258)"
            ]
          },
          "metadata": {},
          "execution_count": 41
        }
      ]
    },
    {
      "cell_type": "code",
      "source": [
        "print(x)"
      ],
      "metadata": {
        "colab": {
          "base_uri": "https://localhost:8080/"
        },
        "id": "aSlE1tePM90-",
        "outputId": "1036fa4a-181c-48c8-890b-23844d9b6f5a"
      },
      "execution_count": 42,
      "outputs": [
        {
          "output_type": "stream",
          "name": "stdout",
          "text": [
            "  (0, 617)\t0.1633382144407513\n",
            "  (0, 492)\t0.1432591540388685\n",
            "  (0, 15413)\t0.1465525095337543\n",
            "  (0, 9675)\t0.14226057295252661\n",
            "  (0, 9465)\t0.1659841367820977\n",
            "  (0, 1390)\t0.16898383612799558\n",
            "  (0, 7825)\t0.09799561597509843\n",
            "  (0, 1214)\t0.13865857545144072\n",
            "  (0, 729)\t0.13415063359531618\n",
            "  (0, 13093)\t0.1432591540388685\n",
            "  (0, 15355)\t0.10477815972666779\n",
            "  (0, 9048)\t0.0866842116160778\n",
            "  (0, 11161)\t0.06250380151644369\n",
            "  (0, 16773)\t0.17654247479915475\n",
            "  (0, 5612)\t0.08603537588547631\n",
            "  (0, 16735)\t0.10690083751525419\n",
            "  (0, 7904)\t0.13348000542112332\n",
            "  (0, 15219)\t0.09800472886453934\n",
            "  (0, 11242)\t0.07277788238484746\n",
            "  (0, 3878)\t0.11998399582562203\n",
            "  (0, 5499)\t0.11454057510303811\n",
            "  (0, 7071)\t0.19822417598406614\n",
            "  (0, 7454)\t0.14745635785412262\n",
            "  (0, 1495)\t0.19712637387361423\n",
            "  (0, 9206)\t0.15186283580984414\n",
            "  :\t:\n",
            "  (4757, 5455)\t0.12491480594769522\n",
            "  (4757, 2967)\t0.16273475835631626\n",
            "  (4757, 8464)\t0.23522565554066333\n",
            "  (4757, 6938)\t0.17088173678136628\n",
            "  (4757, 8379)\t0.17480603856721913\n",
            "  (4757, 15303)\t0.07654356007668191\n",
            "  (4757, 15384)\t0.09754322497537371\n",
            "  (4757, 7649)\t0.11479421494340192\n",
            "  (4757, 10896)\t0.14546473055066447\n",
            "  (4757, 4494)\t0.05675298448720501\n",
            "  (4758, 5238)\t1.0\n",
            "  (4759, 11264)\t0.33947721804318337\n",
            "  (4759, 11708)\t0.33947721804318337\n",
            "  (4759, 205)\t0.3237911628497312\n",
            "  (4759, 8902)\t0.3040290704566037\n",
            "  (4759, 14062)\t0.3237911628497312\n",
            "  (4759, 3058)\t0.2812896191863103\n",
            "  (4759, 7130)\t0.26419662449963793\n",
            "  (4759, 10761)\t0.3126617295732147\n",
            "  (4759, 4358)\t0.18306542312175342\n",
            "  (4759, 14051)\t0.20084315377640435\n",
            "  (4759, 5690)\t0.19534291014627303\n",
            "  (4759, 15431)\t0.19628653185946862\n",
            "  (4759, 1490)\t0.21197258705292082\n",
            "  (4759, 10666)\t0.15888268987343043\n"
          ]
        }
      ]
    },
    {
      "cell_type": "markdown",
      "source": [
        "**Get Similarity Score Using Cosine Similarity**"
      ],
      "metadata": {
        "id": "-awaRmptNKh_"
      }
    },
    {
      "cell_type": "code",
      "source": [
        "from sklearn.metrics.pairwise import cosine_similarity"
      ],
      "metadata": {
        "id": "VgRv5O2TNYU9"
      },
      "execution_count": 43,
      "outputs": []
    },
    {
      "cell_type": "code",
      "source": [
        "Similarity_Score = cosine_similarity(x)"
      ],
      "metadata": {
        "id": "_5zHIkxvNn31"
      },
      "execution_count": 44,
      "outputs": []
    },
    {
      "cell_type": "code",
      "source": [
        "Similarity_Score"
      ],
      "metadata": {
        "colab": {
          "base_uri": "https://localhost:8080/"
        },
        "id": "iItb2j8XNxio",
        "outputId": "7eabd6fc-c162-4f77-beca-704dd5faf2a0"
      },
      "execution_count": 45,
      "outputs": [
        {
          "output_type": "execute_result",
          "data": {
            "text/plain": [
              "array([[1.        , 0.01351235, 0.03570468, ..., 0.        , 0.        ,\n",
              "        0.        ],\n",
              "       [0.01351235, 1.        , 0.00806674, ..., 0.        , 0.        ,\n",
              "        0.        ],\n",
              "       [0.03570468, 0.00806674, 1.        , ..., 0.        , 0.08014876,\n",
              "        0.        ],\n",
              "       ...,\n",
              "       [0.        , 0.        , 0.        , ..., 1.        , 0.        ,\n",
              "        0.        ],\n",
              "       [0.        , 0.        , 0.08014876, ..., 0.        , 1.        ,\n",
              "        0.        ],\n",
              "       [0.        , 0.        , 0.        , ..., 0.        , 0.        ,\n",
              "        1.        ]])"
            ]
          },
          "metadata": {},
          "execution_count": 45
        }
      ]
    },
    {
      "cell_type": "code",
      "source": [
        "Similarity_Score.shape"
      ],
      "metadata": {
        "colab": {
          "base_uri": "https://localhost:8080/"
        },
        "id": "MgKg6Cs0N2FT",
        "outputId": "1b3b1c91-c591-4168-c4f8-067b56c71cba"
      },
      "execution_count": 46,
      "outputs": [
        {
          "output_type": "execute_result",
          "data": {
            "text/plain": [
              "(4760, 4760)"
            ]
          },
          "metadata": {},
          "execution_count": 46
        }
      ]
    },
    {
      "cell_type": "markdown",
      "source": [
        "**Get Movie Name as Input form User & Validate for Closest Spelling**"
      ],
      "metadata": {
        "id": "hikt4IxgOJSV"
      }
    },
    {
      "cell_type": "code",
      "source": [
        "Favourite_Movie_Name = input(' Enter your favourite movie name :')"
      ],
      "metadata": {
        "colab": {
          "base_uri": "https://localhost:8080/"
        },
        "id": "JwU3UaDuOacT",
        "outputId": "170f52f9-ca55-46cb-b908-2060b7aff707"
      },
      "execution_count": 52,
      "outputs": [
        {
          "name": "stdout",
          "output_type": "stream",
          "text": [
            " Enter your favourite movie name :love\n"
          ]
        }
      ]
    },
    {
      "cell_type": "code",
      "source": [
        "All_Movies_Title_List = df['Movie_Title'].tolist()"
      ],
      "metadata": {
        "id": "FgFKRuW5TjzQ"
      },
      "execution_count": 53,
      "outputs": []
    },
    {
      "cell_type": "code",
      "source": [
        "import difflib"
      ],
      "metadata": {
        "id": "7V4SQa0QUbqu"
      },
      "execution_count": 54,
      "outputs": []
    },
    {
      "cell_type": "code",
      "source": [
        "Movie_Recommendation = difflib.get_close_matches(Favourite_Movie_Name, All_Movies_Title_List)\n",
        "print(Movie_Recommendation)"
      ],
      "metadata": {
        "colab": {
          "base_uri": "https://localhost:8080/"
        },
        "id": "LRWR3xvTUq2j",
        "outputId": "eb0e5bc5-9d06-4bfd-d66a-cc269364346b"
      },
      "execution_count": 55,
      "outputs": [
        {
          "output_type": "stream",
          "name": "stdout",
          "text": [
            "['Beloved', 'Chloe', 'Alive']\n"
          ]
        }
      ]
    },
    {
      "cell_type": "code",
      "source": [
        "Close_Match = Movie_Recommendation[0]\n",
        "print(Close_Match)"
      ],
      "metadata": {
        "colab": {
          "base_uri": "https://localhost:8080/"
        },
        "id": "9-Qc4dtqVWr_",
        "outputId": "7bbcae72-0af8-4c48-a88f-e0411cb4518b"
      },
      "execution_count": 56,
      "outputs": [
        {
          "output_type": "stream",
          "name": "stdout",
          "text": [
            "Beloved\n"
          ]
        }
      ]
    },
    {
      "cell_type": "code",
      "source": [
        "Index_of_Close_Match_Movie = df[df.Movie_Title == Close_Match]['Movie_ID'].values[0]\n",
        "print(Index_of_Close_Match_Movie)"
      ],
      "metadata": {
        "id": "ccPY0fFDVl5T"
      },
      "execution_count": null,
      "outputs": []
    },
    {
      "cell_type": "code",
      "source": [
        "Recommendation_Score = list(enumerate(Similarity_Score[Index_of_Close_Match_Movie]))\n",
        "print(Recommendation_Score)"
      ],
      "metadata": {
        "colab": {
          "base_uri": "https://localhost:8080/"
        },
        "id": "LVMjDcEQWLfV",
        "outputId": "da421955-a114-4604-c0b1-90fbbdeb5f52"
      },
      "execution_count": 58,
      "outputs": [
        {
          "output_type": "stream",
          "name": "stdout",
          "text": [
            "[(0, 0.007715071890311533), (1, 0.0), (2, 0.00460582403803784), (3, 0.0171208501197933), (4, 0.0035576881444419144), (5, 0.003381876597953319), (6, 0.0), (7, 0.013990279754859072), (8, 0.024139333604827017), (9, 0.004967385756887638), (10, 0.005720339952020939), (11, 0.028575951338850464), (12, 0.009332901572397943), (13, 0.0), (14, 0.004911842244312453), (15, 0.0217907542011867), (16, 0.002810390065620565), (17, 0.0), (18, 0.008380338934332198), (19, 0.003253239077482603), (20, 0.003526831196926696), (21, 0.06441753280316576), (22, 0.0), (23, 0.003513749119253273), (24, 0.0022022421226389802), (25, 0.007229424638522223), (26, 0.003299172017586711), (27, 0.0), (28, 0.04404231463803187), (29, 0.008322648177314795), (30, 0.0), (31, 0.061820502009099755), (32, 0.0029569052637916037), (33, 0.007723616233196436), (34, 0.003508636273261681), (35, 0.025054497429463286), (36, 0.0), (37, 0.024787249099754206), (38, 0.0187615580298083), (39, 0.010779664773960739), (40, 0.033545845554649095), (41, 0.024732907920257268), (42, 0.0), (43, 0.003094933569055445), (44, 0.0028068180234205055), (45, 0.07608366820984105), (46, 0.010269712996742656), (47, 0.0), (48, 0.009629778411611415), (49, 0.0), (50, 0.010911744557658407), (51, 0.0035475757884747988), (52, 0.0032239709800181344), (53, 0.0), (54, 0.0), (55, 0.0), (56, 0.01093035736297928), (57, 0.013280942948750487), (58, 0.004500833729073703), (59, 0.022767970369326845), (60, 0.007476129158071793), (61, 0.0033289598899823923), (62, 0.003722701729843548), (63, 0.018802222673487072), (64, 0.004495747338881366), (65, 0.005323025732386847), (66, 0.003365266854150942), (67, 0.014602438832980008), (68, 0.003576013758936244), (69, 0.0), (70, 0.0), (71, 0.0034543416495507796), (72, 0.005205857269782868), (73, 0.06475704997697057), (74, 0.01500378055429026), (75, 0.018033939461164033), (76, 0.0), (77, 0.0), (78, 0.004512092635778428), (79, 0.008712392289737853), (80, 0.0049183524048460525), (81, 0.0), (82, 0.01070548077055021), (83, 0.005439480063206283), (84, 0.005255725783809709), (85, 0.0032437538735505503), (86, 0.004616349496170721), (87, 0.0032550015304189665), (88, 0.004427318970656033), (89, 0.0), (90, 0.0), (91, 0.03701856818363323), (92, 0.002967353965805222), (93, 0.0), (94, 0.004929378152273963), (95, 0.0), (96, 0.008088756228558702), (97, 0.007669633560069435), (98, 0.003301684011695674), (99, 0.0), (100, 0.04157181530921768), (101, 0.0119033590804645), (102, 0.00586439166291083), (103, 0.0029205008116943), (104, 0.008794817887012495), (105, 0.056249302374220565), (106, 0.006727646096680469), (107, 0.003824223769985629), (108, 0.04649390758931792), (109, 0.0033616280388234078), (110, 0.005486016842508459), (111, 0.04574795762891469), (112, 0.04194225563869643), (113, 0.01185890186260455), (114, 0.0033750510125623292), (115, 0.0423143093633602), (116, 0.0031823597151726416), (117, 0.0), (118, 0.0), (119, 0.013840681113746488), (120, 0.0034774745119177993), (121, 0.003099009437390169), (122, 0.009889423100394899), (123, 0.009561841518253233), (124, 0.06480680681260631), (125, 0.02158607675836233), (126, 0.0031813579947726966), (127, 0.03027744478055069), (128, 0.0), (129, 0.029380882661333867), (130, 0.014619282438915986), (131, 0.06516904976227442), (132, 0.002989377591553958), (133, 0.0), (134, 0.0), (135, 0.010726366531955672), (136, 0.003113752083021452), (137, 0.005526440959025721), (138, 0.005154020666278381), (139, 0.012397037639438835), (140, 0.0031585038889021828), (141, 0.0), (142, 0.002789725792660097), (143, 0.0), (144, 0.017918737122950727), (145, 0.0), (146, 0.046928730220013155), (147, 0.002917191330232233), (148, 0.03794549984897039), (149, 0.0027844224493768057), (150, 0.005254528934449729), (151, 0.0), (152, 0.005212785674137414), (153, 0.006308864481692026), (154, 0.013536518604382389), (155, 0.0), (156, 0.007099710483031201), (157, 0.0032113182752630076), (158, 0.0030245615121909613), (159, 0.011041192702332272), (160, 0.02741064406004786), (161, 0.003030791491595508), (162, 0.01768696527691485), (163, 0.00896872572124888), (164, 0.0032084452767109453), (165, 0.012195340687469905), (166, 0.007718461081566447), (167, 0.013931650897673856), (168, 0.004218706523233494), (169, 0.008586650654914353), (170, 0.009727083274520395), (171, 0.00509530318442051), (172, 0.0033825357178604355), (173, 0.003533866489621913), (174, 0.0033305378265060274), (175, 0.02448151159381532), (176, 0.003464709454500733), (177, 0.009151906770155897), (178, 0.02338238897950253), (179, 0.0051595380617965505), (180, 0.0), (181, 0.0), (182, 0.01421993661639699), (183, 0.0030923693469628232), (184, 0.007695986845388444), (185, 0.010445985860646531), (186, 0.004488904288736019), (187, 0.0), (188, 0.0), (189, 0.00555857801758186), (190, 0.035964741037017446), (191, 0.019436991475295394), (192, 0.009452531030991161), (193, 0.0035650195447029893), (194, 0.01157041515289053), (195, 0.007345952974986698), (196, 0.06728844525996282), (197, 0.0031837293853442857), (198, 0.0034211352016776135), (199, 0.003074499088020612), (200, 0.00297938244478576), (201, 0.017128449247059738), (202, 0.009256916393480065), (203, 0.003190423541455167), (204, 0.07387398007356492), (205, 0.0), (206, 0.0035767942175360585), (207, 0.0), (208, 0.003579761993102388), (209, 0.0088188136648816), (210, 0.0036340010556775715), (211, 0.047231417939891066), (212, 0.023249271270346625), (213, 0.00313825000424335), (214, 0.03278381057075348), (215, 0.0085860536407644), (216, 0.00906070578240684), (217, 0.021539135895702468), (218, 0.013165816858198502), (219, 0.0), (220, 0.011349925200721395), (221, 0.013413136832044627), (222, 0.02686647122583518), (223, 0.0051689215263981325), (224, 0.0025797942487642794), (225, 0.006173351712292891), (226, 0.003371381817716759), (227, 0.02375476880291855), (228, 0.010684324934925727), (229, 0.00314354773543388), (230, 0.0), (231, 0.0), (232, 0.005779377225371224), (233, 0.010905250219034898), (234, 0.004619791406434721), (235, 0.047093309475141086), (236, 0.0031672261173688854), (237, 0.004354780591420803), (238, 0.003439042820248402), (239, 0.005693611246703496), (240, 0.004968446181049985), (241, 0.0), (242, 0.002919355553617167), (243, 0.00993207052487388), (244, 0.04832713838070049), (245, 0.011333680887903912), (246, 0.00358586944261294), (247, 0.003333910917781877), (248, 0.0), (249, 0.01707969011999206), (250, 0.0060065237922466075), (251, 0.021561873688299215), (252, 0.0029867249156306595), (253, 0.003686510121043734), (254, 0.0037164637642508745), (255, 0.0035308801650303077), (256, 0.002519057829686327), (257, 0.0433602879452399), (258, 0.0), (259, 0.010674129256137631), (260, 0.005091310129481783), (261, 0.005178898786076897), (262, 0.053943178836874675), (263, 0.01523906188262423), (264, 0.005375187792104295), (265, 0.0), (266, 0.03056819069517657), (267, 0.002857443692081792), (268, 0.0030073535461153044), (269, 0.016711076041189796), (270, 0.01508216801838402), (271, 0.002584111829387164), (272, 0.02745814314627499), (273, 0.0), (274, 0.003871557450549872), (275, 0.0), (276, 0.0031792739624442665), (277, 0.009436782927954827), (278, 0.002904046079485293), (279, 0.008181694088943274), (280, 0.08525525669852728), (281, 0.003806468868433136), (282, 0.03063394898756513), (283, 0.002467523044589013), (284, 0.0051191611125567865), (285, 0.01306087923120411), (286, 0.0028934432130752366), (287, 0.01827398241340287), (288, 0.009117091585338856), (289, 0.0), (290, 0.0), (291, 0.02207980123295185), (292, 0.0084793375226836), (293, 0.006214122316805409), (294, 0.004273960439658219), (295, 0.0), (296, 0.0025271251516903455), (297, 0.011357731891485307), (298, 0.005607254588782736), (299, 0.005366933668881421), (300, 0.0), (301, 0.005678116679125757), (302, 0.0), (303, 0.0), (304, 0.010186842285523499), (305, 0.016401143996647622), (306, 0.009891315648471939), (307, 0.01352693727939639), (308, 0.003770504415107069), (309, 0.011220670832175133), (310, 0.010314567073924754), (311, 0.010370962844688029), (312, 0.0), (313, 0.0), (314, 0.0), (315, 0.011083259958366109), (316, 0.010240418206087886), (317, 0.0029524647897527794), (318, 0.041743979933750924), (319, 0.017849831537345227), (320, 0.011583558931888366), (321, 0.07933608854423566), (322, 0.06960866691027343), (323, 0.0), (324, 0.008055185619811077), (325, 0.013627480785388373), (326, 0.004129334643369845), (327, 0.004815224286079825), (328, 0.02873937016976473), (329, 0.0032709506332515934), (330, 0.017382275985665906), (331, 0.0388000880090347), (332, 0.008273330695338196), (333, 0.019656234748428758), (334, 0.0), (335, 0.004962438421242484), (336, 0.015623832551244672), (337, 0.004871917220931245), (338, 0.009794623890728429), (339, 0.0), (340, 0.0), (341, 0.011559386952285196), (342, 0.009520622344028697), (343, 0.008805920658978278), (344, 0.01726658565760824), (345, 0.01591126692705874), (346, 0.008684278708766958), (347, 0.005385975443634864), (348, 0.019589357737073085), (349, 0.00327026231975163), (350, 0.0036707931390018785), (351, 0.002572508946604671), (352, 0.02496363294509593), (353, 0.02009814652087705), (354, 0.004912233019911188), (355, 0.003109161062791635), (356, 0.008336362466803247), (357, 0.012173843181329275), (358, 0.0032793561280909777), (359, 0.013234345623508758), (360, 0.01048436609745059), (361, 0.01742699735848826), (362, 0.0), (363, 0.0), (364, 0.002900815009539761), (365, 0.020938918319517746), (366, 0.0), (367, 0.0), (368, 0.006443181639576991), (369, 0.004108110592454145), (370, 0.003366382258906813), (371, 0.031903204322425376), (372, 0.013144531208080429), (373, 0.013667207933492312), (374, 0.003326749881161434), (375, 0.01863457213447964), (376, 0.0), (377, 0.042989232656042944), (378, 0.0033862850056149228), (379, 0.0), (380, 0.01886001230588053), (381, 0.013408727777744645), (382, 0.0), (383, 0.0), (384, 0.0), (385, 0.0), (386, 0.01963395545162622), (387, 0.008242514315275706), (388, 0.09727204724341365), (389, 0.022000368439581683), (390, 0.0), (391, 0.07775655085928622), (392, 0.01743885161860243), (393, 0.00978483853957238), (394, 0.0), (395, 0.003617646600186251), (396, 0.0032402274767140524), (397, 0.0), (398, 0.0), (399, 0.0031243665732939943), (400, 0.04168858204962125), (401, 0.0), (402, 0.004110481641951444), (403, 0.011957336787245062), (404, 0.010722778024123266), (405, 0.0), (406, 0.0034401789001929427), (407, 0.031876608891930225), (408, 0.01870950309581025), (409, 0.050423283776818734), (410, 0.008130853357756021), (411, 0.004926931155667209), (412, 0.011525414723938674), (413, 0.0), (414, 0.0), (415, 0.01167060660194879), (416, 0.02528751657233251), (417, 0.004985990466090869), (418, 0.011355616887719796), (419, 0.05220318388406798), (420, 0.017653325364964854), (421, 0.027279447083593422), (422, 0.0), (423, 0.0), (424, 0.06351896872344746), (425, 0.09738937521904494), (426, 0.005020712127911644), (427, 0.015746974589436705), (428, 0.012736687886662764), (429, 0.0035337833590246407), (430, 0.003629208400609999), (431, 0.003976498550805438), (432, 0.0189092504196124), (433, 0.002758147919670794), (434, 0.003189934329785398), (435, 0.0), (436, 0.0037725148229062707), (437, 0.003199416772868566), (438, 0.0), (439, 0.016320460397360636), (440, 0.049925128021975296), (441, 0.01165789415228656), (442, 0.007246676359573077), (443, 0.0038999926444620633), (444, 0.0037569692714374808), (445, 0.0028865331458078924), (446, 0.0032892597042317178), (447, 0.00350122427593333), (448, 0.052156622707419636), (449, 0.003049534059234435), (450, 0.00369988524666712), (451, 0.0), (452, 0.014668138969989156), (453, 0.0025783386860365946), (454, 0.054803328278818966), (455, 0.002392667323784456), (456, 0.04218759187562734), (457, 0.0030947125626197536), (458, 0.003762323014142991), (459, 0.0), (460, 0.010685698767026705), (461, 0.0), (462, 0.0), (463, 0.0031249274434996407), (464, 0.00333290277620083), (465, 0.0030783359048017376), (466, 0.01425738088614497), (467, 0.0), (468, 0.0), (469, 0.008872044831408979), (470, 0.003556230102598938), (471, 0.013467245179087425), (472, 0.008997489541850156), (473, 0.04602086966624907), (474, 0.0), (475, 0.0011787617410483893), (476, 0.0037012955173244514), (477, 0.008563510949905389), (478, 0.0038160657618577054), (479, 0.003367862591000909), (480, 0.0029587861367719992), (481, 0.003666905658594442), (482, 0.0035194324004522554), (483, 0.009227611869101987), (484, 0.007155782296010857), (485, 0.0036134390385320356), (486, 0.005154813278017757), (487, 0.0032277935365892328), (488, 0.05647377980190269), (489, 0.004033569516982505), (490, 0.003338903558687263), (491, 0.00627529999727947), (492, 0.015327630197048222), (493, 0.0035800247642239808), (494, 0.0), (495, 0.007729884206724493), (496, 0.032724926463609805), (497, 0.021556123426069877), (498, 0.005117372186912436), (499, 0.0036694674192037213), (500, 0.028853148896060082), (501, 0.0), (502, 0.0035299454625292857), (503, 0.0), (504, 0.008792460983293667), (505, 0.0032031866982861075), (506, 0.0), (507, 0.008206281090020067), (508, 0.010049098070420141), (509, 0.0034578927739306264), (510, 0.0069859342726558), (511, 0.004888659075582944), (512, 0.006379928206699089), (513, 0.012011217965215924), (514, 0.0), (515, 0.0030393376613667552), (516, 0.0), (517, 0.0), (518, 0.003952912413529977), (519, 0.0029771598024699304), (520, 0.0), (521, 0.005168120671747911), (522, 0.003273049076806744), (523, 0.044190226242496675), (524, 0.01294181170193472), (525, 0.00533906136420688), (526, 0.04803330991980954), (527, 0.0026693704262107073), (528, 0.0), (529, 0.005400976634108126), (530, 0.01056788766686237), (531, 0.0), (532, 0.0), (533, 0.003792476928885761), (534, 0.021953206547026143), (535, 0.010902374231262174), (536, 0.0), (537, 0.0), (538, 0.008855733186625494), (539, 0.0), (540, 0.009908249955963448), (541, 0.040356906991252696), (542, 0.0023644928298075015), (543, 0.003511820463507782), (544, 0.08168141959065417), (545, 0.004715419424688416), (546, 0.0), (547, 0.0073684755636705245), (548, 0.005033623975200189), (549, 0.0049802661121496165), (550, 0.07501576698931357), (551, 0.03011011279710181), (552, 0.0), (553, 0.007634652401191074), (554, 0.0), (555, 0.047638417286156864), (556, 0.0), (557, 0.0), (558, 0.0031092379106426576), (559, 0.0), (560, 0.07292715164987924), (561, 0.04666739589610316), (562, 0.006630330601178699), (563, 0.0030404626721130335), (564, 0.026684037737192995), (565, 0.0), (566, 0.016338969256248566), (567, 0.0), (568, 0.00995695076832075), (569, 0.01996078961454141), (570, 0.015091751423446272), (571, 0.0025997442189531436), (572, 0.0), (573, 0.0), (574, 0.045003374512573274), (575, 0.004503095398140078), (576, 0.016256713480427457), (577, 0.004807503085640344), (578, 0.0031823298809163358), (579, 0.0034180389497114987), (580, 0.003523440988984184), (581, 0.0030385714133213493), (582, 0.0), (583, 0.004866204821466543), (584, 0.0034889213504889563), (585, 0.015793038337665342), (586, 0.0), (587, 0.003708293006064293), (588, 0.009081597824149888), (589, 0.003124927759737407), (590, 0.008055011870490509), (591, 0.0), (592, 0.0), (593, 0.038960709701667894), (594, 0.012609474642988795), (595, 0.11782766678170883), (596, 0.0037779869201781885), (597, 0.027439160380321275), (598, 0.0031416227903818456), (599, 0.005647146680885194), (600, 0.005648217160457857), (601, 0.0), (602, 0.0), (603, 0.005709310403456338), (604, 0.0031010546561898783), (605, 0.002966946307624553), (606, 0.0034818453729947184), (607, 0.002598221820377238), (608, 0.0030564820380647837), (609, 0.040039770157115684), (610, 0.016322744470360015), (611, 0.005417354075823963), (612, 0.003579975726730039), (613, 0.005290906802008472), (614, 0.01002746602618696), (615, 0.046072336374291166), (616, 0.002809905912205898), (617, 0.0028468151804818143), (618, 0.016027158819697115), (619, 0.0), (620, 0.003238537761041503), (621, 0.0), (622, 0.003582870975683489), (623, 0.0035811658724098556), (624, 0.003084137482786029), (625, 0.01622632418314206), (626, 0.04595987609412455), (627, 0.004565756761112641), (628, 0.042420848987574075), (629, 0.0), (630, 0.0), (631, 0.008986004391262153), (632, 0.0), (633, 0.0), (634, 0.0), (635, 0.03383266199705011), (636, 0.003405294216199511), (637, 0.0034916924167655607), (638, 0.0031076987725473753), (639, 0.004532666958847206), (640, 0.008987355070904934), (641, 0.0024145712605585035), (642, 0.0029124769026370036), (643, 0.008468949129884735), (644, 0.008302287687691574), (645, 0.002753925701702381), (646, 0.0032425423220295395), (647, 0.002958459489562022), (648, 0.0), (649, 0.010471741466703995), (650, 0.11638858120540604), (651, 0.0032553512715332174), (652, 0.003448878896159477), (653, 0.06642099875423015), (654, 0.04683177272529224), (655, 0.0031487234082923743), (656, 0.0), (657, 0.017294417205939352), (658, 0.04364323852418827), (659, 0.0031408443764742175), (660, 0.08390578825980982), (661, 0.03770552830661592), (662, 0.0), (663, 0.0), (664, 0.004811646170000129), (665, 0.0), (666, 0.006040287109785666), (667, 0.0), (668, 0.0042466727185845226), (669, 0.02667649245811958), (670, 0.004155415127152184), (671, 0.0), (672, 0.003006676899437036), (673, 0.0036795641527675783), (674, 0.0), (675, 0.02158053151424298), (676, 0.0032689241623169957), (677, 0.06857693237511726), (678, 0.0), (679, 0.0), (680, 0.1043501870203017), (681, 0.00607715890748002), (682, 0.0), (683, 0.009866416009518705), (684, 0.07176978298579666), (685, 0.022378679257029247), (686, 0.0), (687, 0.0059553797306437705), (688, 0.051930021793214355), (689, 0.0865943256751961), (690, 0.004994235383628732), (691, 0.027770830139912155), (692, 0.009278724021818346), (693, 0.0032817909260769856), (694, 0.07683225449696905), (695, 0.0), (696, 0.003393949340558104), (697, 0.0033859394246071152), (698, 0.003190186295798133), (699, 0.009654366521934424), (700, 0.005889238486068246), (701, 0.022089910224749463), (702, 0.0), (703, 0.012809944808473457), (704, 0.005804085390413718), (705, 0.0029850957710451514), (706, 0.015468517838428949), (707, 0.0028360632302246217), (708, 0.0), (709, 0.0), (710, 0.0), (711, 0.0), (712, 0.002979001943407653), (713, 0.019281968749482754), (714, 0.0569560362616331), (715, 0.015913590102589595), (716, 0.015122519135803082), (717, 0.009113989352025518), (718, 0.0), (719, 0.015645995183584), (720, 0.0), (721, 0.03681906963696542), (722, 0.007852925958615302), (723, 0.013632284488241879), (724, 0.0), (725, 0.004566275900376962), (726, 0.00897662433016655), (727, 0.013860294943214805), (728, 0.0036367550819078357), (729, 0.06717203476045731), (730, 0.0), (731, 0.05671229174455722), (732, 0.01287373277465297), (733, 0.012206143097541686), (734, 0.022125352835808177), (735, 0.004604258515983132), (736, 0.016527155499369457), (737, 0.009857388458666414), (738, 0.00884397420531435), (739, 0.003847579083671158), (740, 0.0022619705299813495), (741, 0.0), (742, 0.008215243845370191), (743, 0.003464878115167745), (744, 0.008082297647405904), (745, 0.0), (746, 0.0), (747, 0.005984559616276155), (748, 0.05660506038418604), (749, 0.014115924329174833), (750, 0.0034351517358952623), (751, 0.013333294640036979), (752, 0.02312521076825966), (753, 0.0), (754, 0.0), (755, 0.0032768521534854923), (756, 0.004713541345803387), (757, 0.1216618554129443), (758, 0.019001840278143788), (759, 0.029257314634660515), (760, 0.0), (761, 0.0033723448358598876), (762, 0.009305392041136267), (763, 0.010135113720408), (764, 0.0), (765, 0.02902813268850878), (766, 0.0031198823115684187), (767, 0.008290458349934986), (768, 0.010951903987419246), (769, 0.008625233092445925), (770, 0.0), (771, 0.037519942977775625), (772, 0.010600014786471594), (773, 0.015881520424359884), (774, 0.003493724583967546), (775, 0.008213106789821997), (776, 0.004899238900264379), (777, 0.03862182068769213), (778, 0.005524116257705522), (779, 0.00458844100934096), (780, 0.010214114393920072), (781, 0.005652998573228388), (782, 0.00838640273311815), (783, 0.015191461437000476), (784, 0.0), (785, 0.010741961170407127), (786, 0.032415887839902194), (787, 0.008629112847439535), (788, 0.01112032904454419), (789, 0.017580622553628165), (790, 0.005202644149320243), (791, 0.05714490922608113), (792, 0.009296600675403489), (793, 0.0), (794, 0.025531324797759335), (795, 0.0), (796, 0.002799377416974019), (797, 0.0), (798, 0.013462741114654423), (799, 0.0032870338103416085), (800, 0.01296217492752597), (801, 0.0), (802, 0.0), (803, 0.014392767382470686), (804, 0.0030327106356982316), (805, 0.034679154088456725), (806, 0.06156979347909338), (807, 0.0042618821731912815), (808, 0.002972557524866782), (809, 0.0), (810, 0.005015082035682115), (811, 0.0), (812, 0.0), (813, 0.048148978961337206), (814, 0.019369220355771447), (815, 0.02275511154139034), (816, 0.03368150151970366), (817, 0.0032629921125061955), (818, 0.013623726704711386), (819, 0.0), (820, 0.004741584949197894), (821, 0.004916029681834618), (822, 0.0), (823, 0.003886560784316677), (824, 0.0023480419126174416), (825, 0.02900371735566271), (826, 0.003596042197049353), (827, 0.0), (828, 0.0485062382266072), (829, 0.008028488125982454), (830, 0.003544461435867113), (831, 0.0023803785108148508), (832, 0.00888632597579815), (833, 0.0), (834, 0.0), (835, 0.017827924669314602), (836, 0.0), (837, 0.0), (838, 0.0031353422626087956), (839, 0.0), (840, 0.015590733665515206), (841, 0.0), (842, 0.013510503110625136), (843, 0.002772900494893336), (844, 0.0072687093682721774), (845, 0.0035300089616041226), (846, 0.019307284639443496), (847, 0.010022033913525791), (848, 0.02241640127403381), (849, 0.0), (850, 0.09169450281310774), (851, 0.0029538576499128877), (852, 0.018629542940215366), (853, 0.0067572918153013), (854, 0.008340708233714007), (855, 0.0), (856, 0.0030097603629611995), (857, 0.0037234649021457324), (858, 0.002276661297880702), (859, 0.0), (860, 0.003906750597784166), (861, 0.002903579862251482), (862, 0.01897854421378252), (863, 0.013182104017628433), (864, 0.00883112319380544), (865, 0.04088600652455553), (866, 0.008124744586520672), (867, 0.014212666485398123), (868, 0.0031306260167583582), (869, 0.0), (870, 0.019349972989357197), (871, 0.0034645070816482176), (872, 0.02379573074058811), (873, 0.0), (874, 0.012165917270838149), (875, 0.038223304742475046), (876, 0.003848668470390863), (877, 0.0), (878, 0.026064039761717145), (879, 0.033525189027922724), (880, 0.003323425146454009), (881, 0.016937360140774578), (882, 0.004758204990604905), (883, 0.018903381761258053), (884, 0.06207276673421934), (885, 0.007839051985015373), (886, 0.0031611249040868652), (887, 0.003666319080450089), (888, 0.0037370204641391687), (889, 0.004339452741200944), (890, 0.009114876249628139), (891, 0.005654276258981199), (892, 0.0), (893, 0.00996341499282393), (894, 0.027335991992084464), (895, 0.02843844432752069), (896, 0.04636022279319668), (897, 0.00880611042162238), (898, 0.009671056483968642), (899, 0.008056333863581866), (900, 0.0031526228090302515), (901, 0.011944662751307605), (902, 0.0), (903, 0.003160658842249583), (904, 0.006318709993903476), (905, 0.0), (906, 0.0), (907, 0.008037074038220564), (908, 0.005483690733216991), (909, 0.0), (910, 0.0030865773143672775), (911, 0.04635885963171753), (912, 0.0), (913, 0.017414111528520664), (914, 0.0), (915, 0.005165194948919085), (916, 0.004973787964707148), (917, 0.0030181125272209066), (918, 0.0684768720764167), (919, 0.00545493000313637), (920, 0.0), (921, 0.02198725379775907), (922, 0.003782991683381645), (923, 0.0138878610298333), (924, 0.05513295000267039), (925, 0.003877055525396536), (926, 0.0), (927, 0.0), (928, 0.005601578976280314), (929, 0.018147170079651775), (930, 0.014973812613498309), (931, 0.005364093983228706), (932, 0.0), (933, 0.0034435852091232078), (934, 0.012857231014096665), (935, 0.018114437300828803), (936, 0.012975675329098275), (937, 0.003939411962859011), (938, 0.016455995596325216), (939, 0.003180367944291641), (940, 0.0023598074683352614), (941, 0.0031580670870211412), (942, 0.002741196337855315), (943, 0.049782030234570035), (944, 0.0031414797604396834), (945, 0.00543523080829238), (946, 0.0), (947, 0.004548383302532102), (948, 0.006758714814216017), (949, 0.07421971094209884), (950, 0.0), (951, 0.002846470318047795), (952, 0.0036449240935284856), (953, 0.011611249047015309), (954, 0.0), (955, 0.013027904402966946), (956, 0.0), (957, 0.007980331787092572), (958, 0.0785670710859161), (959, 0.003275085456274541), (960, 0.0), (961, 0.0), (962, 0.023854008783499046), (963, 0.013187020867430706), (964, 0.0), (965, 0.018814341824153133), (966, 0.008251769017278174), (967, 0.0037227043446944), (968, 0.021400600863269396), (969, 0.05241052510674353), (970, 0.02164671248442608), (971, 0.005525120762172415), (972, 0.008463347656959426), (973, 0.041212626335444924), (974, 0.005024944658881796), (975, 0.003156562962084914), (976, 0.0), (977, 0.0), (978, 0.004964952298673054), (979, 0.0), (980, 0.0034848881963960767), (981, 0.012700606943110452), (982, 0.011809603271991183), (983, 0.0), (984, 0.003207317827302509), (985, 0.043695642633157006), (986, 0.003369270203090158), (987, 0.003497324500335697), (988, 0.008680716575539378), (989, 0.003316462260994642), (990, 0.012137836600951772), (991, 0.003619426970205426), (992, 0.0), (993, 0.008803920553559498), (994, 0.014655340038424254), (995, 0.015775479907464203), (996, 0.0), (997, 0.0), (998, 0.003822430800380318), (999, 0.0038193024071789257), (1000, 0.007860782005817718), (1001, 0.07217783967379923), (1002, 0.01344151111304486), (1003, 0.03993111428096838), (1004, 0.0030222455585447957), (1005, 0.010782987650796834), (1006, 0.00913069654993549), (1007, 0.003549713077433648), (1008, 0.0), (1009, 0.0029912513996994557), (1010, 0.004540034325752329), (1011, 0.06767404952560467), (1012, 0.0), (1013, 0.059478153680634464), (1014, 0.0662780001133808), (1015, 0.0036448695360128468), (1016, 0.0), (1017, 0.003277365695714616), (1018, 0.053767409871824184), (1019, 0.006399321061337195), (1020, 0.013835464044154647), (1021, 0.0033586376283999443), (1022, 0.005343249129594404), (1023, 0.003790184303269846), (1024, 0.0), (1025, 0.004783416254311512), (1026, 0.021811194408577813), (1027, 0.05705076444274829), (1028, 0.0), (1029, 0.010159147929645337), (1030, 0.0032639146583333853), (1031, 0.005707165380537998), (1032, 0.0031847292279724433), (1033, 0.0775827666791363), (1034, 0.0032290658065011763), (1035, 0.008490347543844456), (1036, 0.013601257246851725), (1037, 0.0027428722096442546), (1038, 0.035678867248482626), (1039, 0.009759922856455468), (1040, 0.002633554979999036), (1041, 0.013242301877727316), (1042, 0.0028161099584206625), (1043, 0.03168296607706791), (1044, 0.013970046127862519), (1045, 0.0), (1046, 0.004559207687950118), (1047, 0.01710470572387581), (1048, 0.009081926626349976), (1049, 0.003998232770053036), (1050, 0.002872557587142384), (1051, 0.0), (1052, 0.008090972407489187), (1053, 0.003965944104091171), (1054, 0.00506862896246942), (1055, 0.010089144569818631), (1056, 0.005840232212481199), (1057, 0.0), (1058, 0.0), (1059, 0.08619028095248685), (1060, 0.013611292166147754), (1061, 0.009947308303810354), (1062, 0.0), (1063, 0.010675818030555301), (1064, 0.06162854725005891), (1065, 0.0030818501685494727), (1066, 0.009887520343055943), (1067, 0.0), (1068, 0.004964139250427293), (1069, 0.0), (1070, 0.0), (1071, 0.02651135303204905), (1072, 0.0033396540740660064), (1073, 0.055066995140026984), (1074, 0.0), (1075, 0.015191637108087989), (1076, 0.010650860495909771), (1077, 0.046163344449567684), (1078, 0.0028080137447849015), (1079, 0.003100726077905449), (1080, 0.0030354439629788578), (1081, 0.0), (1082, 0.010851764428847844), (1083, 0.0035082634535173345), (1084, 0.014130818528895781), (1085, 0.011264240896930244), (1086, 0.010320151579039814), (1087, 0.01434236212608003), (1088, 0.002882386104215441), (1089, 0.0), (1090, 0.01412763580255035), (1091, 0.0), (1092, 0.0), (1093, 0.035308844820547934), (1094, 0.0), (1095, 0.009594107053491308), (1096, 0.003280341653109777), (1097, 0.0), (1098, 0.0027495408269735777), (1099, 0.0), (1100, 0.003316039991339026), (1101, 0.0), (1102, 0.0033464879238800137), (1103, 0.0), (1104, 0.005649860204196555), (1105, 0.01089500397462325), (1106, 0.04652785632080226), (1107, 0.0031371898103426657), (1108, 0.04439096402517748), (1109, 0.015643089197818903), (1110, 0.03158594174828688), (1111, 0.010970549601024959), (1112, 0.003358361954041851), (1113, 0.010363739432648136), (1114, 0.008049762145073745), (1115, 0.0), (1116, 0.019975481714305073), (1117, 0.0032391783870832328), (1118, 0.06406617457768833), (1119, 0.04386293497637537), (1120, 0.01399665255088096), (1121, 0.01806740107161099), (1122, 0.0034328406472525818), (1123, 0.01370569689203814), (1124, 0.003495750102070375), (1125, 0.0), (1126, 0.027375959855753994), (1127, 0.0), (1128, 0.01082680538598282), (1129, 0.010739652826210547), (1130, 0.005259868701229314), (1131, 0.0033830968386558643), (1132, 0.008305850404658442), (1133, 0.0), (1134, 0.0), (1135, 0.0), (1136, 0.012367781163814063), (1137, 0.0), (1138, 0.031455285027883924), (1139, 0.0), (1140, 0.009357750570273889), (1141, 0.003603395757528805), (1142, 0.0), (1143, 0.0), (1144, 0.006967828296598439), (1145, 0.04443558184090861), (1146, 0.005190132822065887), (1147, 0.0), (1148, 0.003807035028380951), (1149, 0.0), (1150, 0.017707260451102713), (1151, 0.0), (1152, 0.01748101267810173), (1153, 0.013220381251433735), (1154, 0.0), (1155, 0.0055672607967333565), (1156, 0.0), (1157, 0.004925128801517139), (1158, 0.06146397069616213), (1159, 0.0), (1160, 0.0032004380275661424), (1161, 0.0030437357232574883), (1162, 0.0), (1163, 0.04200073345134728), (1164, 0.0), (1165, 0.0), (1166, 0.0), (1167, 0.0), (1168, 0.023763111128079425), (1169, 0.0039462758758263446), (1170, 0.04680263825019061), (1171, 0.004862342978280242), (1172, 0.0), (1173, 0.0048576656297720745), (1174, 0.022723099680020252), (1175, 0.0034028644452742812), (1176, 0.0034418716932073513), (1177, 0.02225466739811368), (1178, 0.013946244574780024), (1179, 0.03083392128980944), (1180, 0.0), (1181, 0.0), (1182, 0.0034401949117445806), (1183, 0.0031297432113176525), (1184, 0.048414330103584105), (1185, 0.017296172782136927), (1186, 0.0076739385458604), (1187, 0.003961594622133201), (1188, 0.0035390939693293625), (1189, 0.0), (1190, 0.0), (1191, 0.04912655285712299), (1192, 0.046112834821665), (1193, 0.0), (1194, 0.014343633375811835), (1195, 0.04334419483435128), (1196, 0.0), (1197, 0.0), (1198, 0.0), (1199, 0.002974455076916465), (1200, 0.0), (1201, 0.0), (1202, 0.002860074354586272), (1203, 0.003165877130638927), (1204, 0.0034210690755237614), (1205, 0.03878030979793678), (1206, 0.027102728032167473), (1207, 0.0), (1208, 0.05554242500809867), (1209, 0.0028098424303448152), (1210, 0.015612974115049479), (1211, 0.019190814026225418), (1212, 0.0), (1213, 0.009706109776840742), (1214, 0.009002000710029188), (1215, 0.0074808152081093406), (1216, 0.017660132289072265), (1217, 0.0029273094088418912), (1218, 0.005120773290481447), (1219, 0.003024895787591785), (1220, 0.11128032096043411), (1221, 0.013648766566069632), (1222, 0.0), (1223, 0.036604348430675476), (1224, 0.06288045009180185), (1225, 0.026869812467303314), (1226, 0.0), (1227, 0.0), (1228, 0.011857029822922159), (1229, 0.0035201878468800536), (1230, 0.0), (1231, 0.0), (1232, 0.003397854569706803), (1233, 0.0), (1234, 0.0896938910801918), (1235, 0.0), (1236, 0.0), (1237, 0.003060820571642478), (1238, 0.02405824712769327), (1239, 0.005319038276529353), (1240, 0.0), (1241, 0.011597412152007923), (1242, 0.0), (1243, 0.0036777509431589225), (1244, 0.0), (1245, 0.013978905400788305), (1246, 0.005798843593106922), (1247, 0.0032567406876105494), (1248, 0.013855638865880147), (1249, 0.0), (1250, 0.01673274999901512), (1251, 0.002983728801190466), (1252, 0.003340698596709873), (1253, 0.0), (1254, 0.17943126857478017), (1255, 0.0032037673117150402), (1256, 0.0), (1257, 0.013901598132485175), (1258, 0.0), (1259, 0.01471853385059995), (1260, 0.02103325752259382), (1261, 0.0032646174668080996), (1262, 0.005353492118034836), (1263, 0.13339744051559901), (1264, 0.004061638950141612), (1265, 0.0), (1266, 0.016748996198173827), (1267, 0.02341672508915765), (1268, 0.0), (1269, 0.0), (1270, 0.009841996346461603), (1271, 0.0), (1272, 0.0), (1273, 0.008317677339541014), (1274, 0.04185337498978578), (1275, 0.05924863314108267), (1276, 0.0), (1277, 0.00653554992338113), (1278, 0.012004212891310472), (1279, 0.004519353923548362), (1280, 0.0), (1281, 0.0), (1282, 0.04711522710490527), (1283, 0.009716891170906046), (1284, 0.0032823263499305645), (1285, 0.0), (1286, 0.003305586146020393), (1287, 0.0), (1288, 0.02499060262777124), (1289, 0.0), (1290, 0.0029872188246775006), (1291, 0.009944372635589933), (1292, 0.0), (1293, 0.0), (1294, 0.014804293047175149), (1295, 0.0), (1296, 0.01549742298476442), (1297, 0.005372295142810691), (1298, 0.0033531637121516395), (1299, 0.011598922929935874), (1300, 0.0), (1301, 0.0076353824915481715), (1302, 0.011206615310708714), (1303, 0.0027185768619441167), (1304, 0.061624262913139695), (1305, 0.011662789906320099), (1306, 0.025048252628117395), (1307, 0.020500897964626064), (1308, 0.008018278903501538), (1309, 0.0), (1310, 0.009972533083772665), (1311, 0.0), (1312, 0.00737536535243786), (1313, 0.021903048907710776), (1314, 0.005280397762975643), (1315, 0.0), (1316, 0.0), (1317, 0.0027319559242399982), (1318, 0.003007148061158489), (1319, 0.019107151019998166), (1320, 0.0), (1321, 0.0061777734305232136), (1322, 0.005464265846708916), (1323, 0.0), (1324, 0.0035967642289509126), (1325, 0.003654678989857114), (1326, 0.04595153004152939), (1327, 0.0), (1328, 0.0), (1329, 0.010594041685652936), (1330, 0.0), (1331, 0.0), (1332, 0.0), (1333, 0.0), (1334, 0.0034613787304625717), (1335, 0.02244874075127498), (1336, 0.005636185229183327), (1337, 0.02268321599674253), (1338, 0.0459808771957038), (1339, 0.0035839960044085966), (1340, 0.0028635162091551884), (1341, 0.008811186535500413), (1342, 0.015745360680424366), (1343, 0.00638104919955369), (1344, 0.0), (1345, 0.0), (1346, 0.0053984656476127185), (1347, 0.04222837008469983), (1348, 0.0), (1349, 0.11752928386927713), (1350, 0.003284470417393911), (1351, 0.0064452431533152735), (1352, 0.007423785086478606), (1353, 0.0), (1354, 0.009903488787015932), (1355, 0.0034529404917929604), (1356, 0.02816500189154717), (1357, 0.0031073133594678084), (1358, 0.0), (1359, 0.0036232189596381937), (1360, 0.007954122089752293), (1361, 0.0), (1362, 0.0), (1363, 0.0), (1364, 0.00907487340726315), (1365, 0.03354821718171273), (1366, 0.0030415513412586173), (1367, 0.018561925109500152), (1368, 0.015839845045637242), (1369, 0.007153138812683288), (1370, 0.0029073608749281997), (1371, 0.0), (1372, 0.0031629947994640606), (1373, 0.01590483880479636), (1374, 0.005371679941796224), (1375, 0.018808286508506765), (1376, 0.0), (1377, 0.03798691918290879), (1378, 0.0033689803624654025), (1379, 0.0), (1380, 0.005661058809593273), (1381, 0.018839553181239695), (1382, 0.0034803648484657474), (1383, 0.003806233702586909), (1384, 0.014611380745371765), (1385, 0.01443925796875883), (1386, 0.0), (1387, 0.013018558068186116), (1388, 0.0), (1389, 0.0), (1390, 0.005775020724954598), (1391, 0.0), (1392, 0.01759431701183759), (1393, 0.0), (1394, 0.0077431368288871875), (1395, 0.004320777755555583), (1396, 0.011227060961391047), (1397, 0.0029158520072431102), (1398, 0.05944191000527981), (1399, 0.0), (1400, 0.015201458960930848), (1401, 0.0), (1402, 0.030401991016079558), (1403, 0.00259063595808677), (1404, 0.008261290122000392), (1405, 0.0), (1406, 0.03748231027394773), (1407, 0.0), (1408, 0.01404515426584263), (1409, 0.003607275128836306), (1410, 0.0034078788470563205), (1411, 0.00863623528414268), (1412, 0.010218321832892884), (1413, 0.014317354181239328), (1414, 0.0030081005758153573), (1415, 0.0027625801887337766), (1416, 0.0032221785776376404), (1417, 0.018441428377157516), (1418, 0.008252054619598242), (1419, 0.011062442995242543), (1420, 0.027042150980404335), (1421, 0.008425315218955894), (1422, 0.008509390202120232), (1423, 0.002992481912531317), (1424, 0.0), (1425, 0.03730413271805118), (1426, 0.017393320975639868), (1427, 0.01822067767046301), (1428, 0.0), (1429, 0.0040535500163321634), (1430, 0.0049911972643215015), (1431, 0.028125109425618806), (1432, 0.0), (1433, 0.01341655391539915), (1434, 0.0030784854657455525), (1435, 0.0), (1436, 0.00567950435461438), (1437, 0.0), (1438, 0.0033392745058285944), (1439, 0.003530454414687), (1440, 0.022570558819529095), (1441, 0.0), (1442, 0.022929472594082963), (1443, 0.05029253168440682), (1444, 0.03887337342160956), (1445, 0.04051125525411758), (1446, 0.00837519040392799), (1447, 0.005294488128932912), (1448, 0.0031156079074692376), (1449, 0.0), (1450, 0.012427540664807278), (1451, 0.010084092236624024), (1452, 0.0), (1453, 0.00863786726912866), (1454, 0.024413920676377696), (1455, 0.03830481643141131), (1456, 0.008112036500112118), (1457, 0.0), (1458, 0.009351815963634443), (1459, 0.010567290595966353), (1460, 0.0), (1461, 0.044930956611130286), (1462, 0.0030927254201722934), (1463, 0.008426401871480171), (1464, 0.05667364660012376), (1465, 0.012230868636696956), (1466, 0.0), (1467, 0.017137996680258023), (1468, 0.004757952784190882), (1469, 0.0), (1470, 0.0), (1471, 0.025480357104600913), (1472, 0.019701666294778517), (1473, 0.0), (1474, 0.009746553245202022), (1475, 0.003515086562873114), (1476, 0.003416131387800175), (1477, 0.058819226184783836), (1478, 0.0032288658156375137), (1479, 0.0036981963414564416), (1480, 0.0), (1481, 0.003263482903396136), (1482, 0.004691907135735452), (1483, 0.003345690919813946), (1484, 0.015254655889933242), (1485, 0.0), (1486, 0.047771927808746416), (1487, 0.010178585102207685), (1488, 0.0033803217436169978), (1489, 0.003788821322502815), (1490, 0.0), (1491, 0.0), (1492, 0.0), (1493, 0.005175044465350473), (1494, 0.06502861210632523), (1495, 0.022163509057843325), (1496, 0.010088170823254307), (1497, 0.0038481820237625548), (1498, 0.01603268197747291), (1499, 0.003774527964721686), (1500, 0.03925353621398106), (1501, 0.005361004769117578), (1502, 0.005668470797011808), (1503, 0.012790762319926261), (1504, 0.01867498564848474), (1505, 0.0), (1506, 0.013336900645023627), (1507, 0.0), (1508, 0.0), (1509, 0.027354592990177472), (1510, 0.01997763626182806), (1511, 0.005828803680756564), (1512, 0.0), (1513, 0.0035124592603244568), (1514, 0.04752139080890401), (1515, 0.005402775819825996), (1516, 0.003472534319917932), (1517, 0.01068840080555401), (1518, 0.015531567382472076), (1519, 0.003118045890264627), (1520, 0.059170399645466464), (1521, 0.004635984964135593), (1522, 0.01084091324392455), (1523, 0.07054356518245038), (1524, 0.00491612118822284), (1525, 0.016832443233753946), (1526, 0.005129508487921624), (1527, 0.003299929515304177), (1528, 0.0030625855799699406), (1529, 0.0), (1530, 0.0043959246108321946), (1531, 0.0), (1532, 0.0), (1533, 0.0034203391560560037), (1534, 0.0), (1535, 0.013804812906618287), (1536, 0.0), (1537, 0.009356932854041024), (1538, 0.003060589480561178), (1539, 0.0077930360791365165), (1540, 0.04563572720630518), (1541, 0.0), (1542, 0.0), (1543, 0.0031065290097090545), (1544, 0.0), (1545, 0.010595541585517447), (1546, 0.004617798148852693), (1547, 0.10298721886185737), (1548, 0.006794600997343864), (1549, 0.0), (1550, 0.03926409584745625), (1551, 0.005275686231686198), (1552, 0.0), (1553, 0.03032512980151754), (1554, 0.012165282296620337), (1555, 0.008135969036417764), (1556, 0.0), (1557, 0.0), (1558, 0.0031343948986597057), (1559, 0.004645614838556193), (1560, 0.01245118807584368), (1561, 0.0), (1562, 0.01023443395871354), (1563, 0.0420481738773251), (1564, 0.005497526119621085), (1565, 0.007470318980905831), (1566, 0.0), (1567, 0.0), (1568, 0.004898433884811841), (1569, 0.0), (1570, 0.0035460754557375563), (1571, 0.007225615739925771), (1572, 0.003587791910713574), (1573, 0.0), (1574, 0.019969647604749587), (1575, 0.0), (1576, 0.047770105785120344), (1577, 0.005414658844207216), (1578, 0.051475216493000076), (1579, 0.015136694685490584), (1580, 0.035458962084569785), (1581, 0.0), (1582, 0.013844876807888404), (1583, 0.005880794645252729), (1584, 0.014706339999885935), (1585, 0.0), (1586, 0.017153683900399543), (1587, 0.024657325568918476), (1588, 0.0), (1589, 0.0), (1590, 0.0), (1591, 0.0), (1592, 0.010716157136801375), (1593, 0.017476604668324028), (1594, 0.015795025097525672), (1595, 0.007909116853720106), (1596, 0.0), (1597, 0.00841880913248114), (1598, 0.0033284981367090066), (1599, 0.0), (1600, 0.0), (1601, 0.0), (1602, 0.0), (1603, 0.0), (1604, 0.0), (1605, 0.0030462104490992683), (1606, 0.018840650230167216), (1607, 0.0), (1608, 0.03884891332385483), (1609, 0.0), (1610, 0.025668154838657812), (1611, 0.0), (1612, 0.034528180979651824), (1613, 0.005583349667375087), (1614, 0.0), (1615, 0.0), (1616, 0.02238314812518218), (1617, 0.008532176308594371), (1618, 0.0), (1619, 0.029407846855467403), (1620, 0.028835477190343864), (1621, 0.0033240382654010476), (1622, 0.0), (1623, 0.0), (1624, 0.0027438300660217033), (1625, 0.0030320040622281606), (1626, 0.004863780257777016), (1627, 0.0028822788762311153), (1628, 0.0030852210953377177), (1629, 0.014886160189510427), (1630, 0.020670572357111262), (1631, 0.010483052263175087), (1632, 0.023225056124166234), (1633, 0.010557784707480028), (1634, 0.04206101693578808), (1635, 0.0), (1636, 0.005530600773022601), (1637, 0.003616846834493077), (1638, 0.0), (1639, 0.0), (1640, 0.0594368446608835), (1641, 0.0031267804917038083), (1642, 0.008088661966570331), (1643, 0.009175374788085944), (1644, 0.0), (1645, 0.08821257119801203), (1646, 0.0), (1647, 0.0), (1648, 0.025659973872650454), (1649, 0.010297513608090546), (1650, 0.023327360061819038), (1651, 0.0), (1652, 0.0), (1653, 0.008522631836457937), (1654, 0.0), (1655, 0.0041015760580632036), (1656, 0.003865787526753094), (1657, 0.0), (1658, 0.003733086131084721), (1659, 0.0), (1660, 0.049569619326886034), (1661, 0.011898550586927266), (1662, 0.005002881500836651), (1663, 0.06879400667000225), (1664, 0.0), (1665, 0.0031570871206575927), (1666, 0.024808071250135438), (1667, 0.0031075164720703423), (1668, 0.010336494039315724), (1669, 0.00660464689856251), (1670, 0.003548899577658837), (1671, 0.00326451806698756), (1672, 0.039531970600114104), (1673, 0.0), (1674, 0.05951221695352623), (1675, 0.017741888779462832), (1676, 0.03473760408350953), (1677, 0.011345653777647567), (1678, 0.01967586052490556), (1679, 0.02360406157875141), (1680, 0.0030622968174212942), (1681, 0.018023875303471906), (1682, 0.008201417361233032), (1683, 0.003608179461445251), (1684, 0.0), (1685, 0.015257768436029535), (1686, 0.019276986603718207), (1687, 0.009266360061701461), (1688, 0.014385512887192892), (1689, 0.022856084956939055), (1690, 0.003037914437076545), (1691, 0.012037295028775812), (1692, 0.0432569065218035), (1693, 0.0031658744595313613), (1694, 0.0), (1695, 0.035110362187494956), (1696, 0.07521470246805814), (1697, 0.0), (1698, 0.018546165487723767), (1699, 0.0), (1700, 0.05119165033748864), (1701, 0.032947327682335534), (1702, 0.005579078064066554), (1703, 0.0034887059553533484), (1704, 0.005471734299209019), (1705, 0.0), (1706, 0.014552465485842023), (1707, 0.010347854314168091), (1708, 0.055992649036892383), (1709, 0.01509633976267204), (1710, 0.027463536267826764), (1711, 0.004228368762385771), (1712, 0.00360416055068183), (1713, 0.0), (1714, 0.023424495755844783), (1715, 0.0), (1716, 0.009801440543737838), (1717, 0.04100909302070339), (1718, 0.04657485910860858), (1719, 0.007887483246632807), (1720, 0.0), (1721, 0.0), (1722, 0.0034049668541567034), (1723, 0.005039060408376572), (1724, 0.0), (1725, 0.07118905882138549), (1726, 0.005508247416560021), (1727, 0.0035057954268202414), (1728, 0.08086150963771788), (1729, 0.0), (1730, 0.003074070257341257), (1731, 0.01184610460427869), (1732, 0.011809366787152773), (1733, 0.0317892507319833), (1734, 0.0), (1735, 0.0), (1736, 0.00352984652337904), (1737, 0.0), (1738, 0.005095794111727907), (1739, 0.0030317912303668808), (1740, 0.014711006434781786), (1741, 0.011138675790587596), (1742, 0.04452603497488892), (1743, 0.007439095003206936), (1744, 0.0032166723725006474), (1745, 0.0), (1746, 0.010019392733640756), (1747, 0.0026240576314657317), (1748, 0.003947735900922884), (1749, 0.018995571456201784), (1750, 0.032572449692093546), (1751, 0.016610019647025943), (1752, 0.0), (1753, 0.0), (1754, 0.01588617016838259), (1755, 0.010215850829316619), (1756, 0.051894342951663834), (1757, 0.0), (1758, 0.06373847768281492), (1759, 0.04009777809317668), (1760, 0.0031174875301539164), (1761, 0.0), (1762, 0.017653742914594484), (1763, 0.002887464810153656), (1764, 0.012228498843488277), (1765, 0.0034873757674255762), (1766, 0.0), (1767, 0.0), (1768, 0.008985582078431672), (1769, 0.06026850178109354), (1770, 0.02027476660680359), (1771, 0.0), (1772, 0.004657982732605487), (1773, 0.0), (1774, 0.002574546817439382), (1775, 0.011529373534388654), (1776, 0.03705458494036843), (1777, 0.0), (1778, 0.004999761990200287), (1779, 0.0035898856369377657), (1780, 0.002199578615288167), (1781, 0.009134537745572399), (1782, 0.007993375989757662), (1783, 0.03429358320455276), (1784, 0.004874214284564503), (1785, 0.0), (1786, 0.0), (1787, 0.01016804895197707), (1788, 0.02019030736329828), (1789, 0.0), (1790, 0.0), (1791, 0.0), (1792, 0.003962503419400789), (1793, 0.00819136574363912), (1794, 0.0049117073967302185), (1795, 0.0), (1796, 0.023239373317217295), (1797, 0.0096868496068503), (1798, 0.009382323130564078), (1799, 0.011758095019430327), (1800, 0.0), (1801, 0.034753309800919355), (1802, 0.004571933592546513), (1803, 0.0), (1804, 0.005384092040362071), (1805, 0.0036736861657426212), (1806, 0.0), (1807, 0.05563176335974792), (1808, 0.03363306633344361), (1809, 0.004851139955726885), (1810, 0.010563699097840162), (1811, 0.014305150150382702), (1812, 0.011468207499522433), (1813, 0.05792269351199679), (1814, 0.0031046344627106925), (1815, 0.0), (1816, 0.004838697938798815), (1817, 0.00963437611740586), (1818, 0.02936553757747509), (1819, 0.003141343303936251), (1820, 0.0), (1821, 0.0035383030154904852), (1822, 0.048928874160105204), (1823, 0.009932839382129117), (1824, 0.015431783225595633), (1825, 0.010269371092191518), (1826, 0.003049030875820255), (1827, 0.07388352400338985), (1828, 0.01707511523916442), (1829, 0.0), (1830, 0.0029876687350699352), (1831, 0.0033339111864453975), (1832, 0.05748976647280723), (1833, 0.002887269239237133), (1834, 0.0), (1835, 0.0), (1836, 0.0), (1837, 0.09862082279006795), (1838, 0.0), (1839, 0.0), (1840, 0.0), (1841, 0.005582920693072726), (1842, 0.0), (1843, 0.0038243817401935895), (1844, 0.0), (1845, 0.03953404888019284), (1846, 0.0), (1847, 0.0), (1848, 0.003629758220663436), (1849, 0.0), (1850, 0.01416019519781085), (1851, 0.00909870897586602), (1852, 0.005293351699438572), (1853, 0.003569051399575761), (1854, 0.0032193234960269214), (1855, 0.0), (1856, 0.0), (1857, 0.005284390375793786), (1858, 0.022142853643809322), (1859, 0.005660103249219499), (1860, 0.024296127889271147), (1861, 0.0025558276096296034), (1862, 0.003776327747606193), (1863, 0.0), (1864, 0.0032431043458310805), (1865, 0.01308273710118855), (1866, 0.0036817940021578333), (1867, 0.0), (1868, 0.0), (1869, 0.0030528670909251306), (1870, 0.009875615072546499), (1871, 0.002683703709478576), (1872, 0.0034103518810074873), (1873, 0.011060212960425286), (1874, 0.0036439921403808757), (1875, 0.008025604261812523), (1876, 0.014503965849865052), (1877, 0.01888341796788806), (1878, 0.04001611277930213), (1879, 0.0), (1880, 0.0), (1881, 0.005614388916509731), (1882, 0.003303686985524498), (1883, 0.0), (1884, 0.0031515574985060604), (1885, 0.003950786934155674), (1886, 0.0069464582373815476), (1887, 0.009904093486698138), (1888, 0.023795374691692486), (1889, 0.0), (1890, 0.0037414332389279904), (1891, 0.01429599355954493), (1892, 0.0030617887331372768), (1893, 0.009217943277598352), (1894, 0.0), (1895, 0.015465197866417847), (1896, 0.05978730779684658), (1897, 0.04141591489996718), (1898, 0.0), (1899, 0.0), (1900, 0.010637858591196817), (1901, 0.0), (1902, 0.003544157911060288), (1903, 0.00502130656237894), (1904, 0.0), (1905, 0.0036760879757885352), (1906, 0.0), (1907, 0.009407352240028909), (1908, 0.01650432546701367), (1909, 0.0038271651951545214), (1910, 0.004534717396231216), (1911, 0.01958096713532268), (1912, 0.010578691123509506), (1913, 0.03596755145033839), (1914, 0.00504478338986577), (1915, 0.05830665500780274), (1916, 0.0035532324293692584), (1917, 0.0), (1918, 0.0035616096065830337), (1919, 0.013612017274794972), (1920, 0.02055177058942969), (1921, 0.003013419123762979), (1922, 0.0034037925815636884), (1923, 0.02468564842176771), (1924, 0.00385213798195117), (1925, 0.014057650900711153), (1926, 0.0), (1927, 0.0), (1928, 0.006068502145206023), (1929, 0.0032144548833019193), (1930, 0.0), (1931, 0.0034450714104553794), (1932, 0.0), (1933, 0.0), (1934, 0.0030107196324961494), (1935, 0.014901825076796063), (1936, 0.0034461693882295538), (1937, 0.0), (1938, 0.0), (1939, 0.0), (1940, 0.0), (1941, 0.013224647794007099), (1942, 0.0034304961081269725), (1943, 0.012552221746415687), (1944, 0.0), (1945, 0.0), (1946, 0.0034648734557798633), (1947, 0.003914261428942377), (1948, 0.011034353950088971), (1949, 0.0), (1950, 0.038751974337052845), (1951, 0.009272555668693361), (1952, 0.0057802014389672805), (1953, 0.0), (1954, 0.0029868702534877984), (1955, 0.04028433531844153), (1956, 0.0), (1957, 0.00901913416738891), (1958, 0.011278231243124298), (1959, 0.02404382622177651), (1960, 0.003733276949499081), (1961, 0.0055298177272235715), (1962, 0.0), (1963, 0.008939700938132598), (1964, 0.012752522400474562), (1965, 0.0), (1966, 0.0), (1967, 0.0032756494578640347), (1968, 0.010263555906635309), (1969, 0.008434202753191521), (1970, 0.0), (1971, 0.09203612996731093), (1972, 0.04665245729134969), (1973, 0.005049568309243682), (1974, 0.0), (1975, 0.0), (1976, 0.012343184067280782), (1977, 0.012839869215452703), (1978, 0.0), (1979, 0.0), (1980, 0.0030243048705380165), (1981, 0.004482706588369301), (1982, 0.014749850358375265), (1983, 0.02314947312626791), (1984, 0.04709807605532741), (1985, 0.008831160233528777), (1986, 0.016236063971476936), (1987, 0.009854547333710289), (1988, 0.005086724003373879), (1989, 0.002708220615245609), (1990, 0.014956892442448369), (1991, 0.02054558657637749), (1992, 0.010322610983320874), (1993, 0.0), (1994, 0.014607242357939594), (1995, 0.0036256839876248705), (1996, 0.0), (1997, 0.015327254549301558), (1998, 0.0), (1999, 0.0), (2000, 0.015519593663314356), (2001, 0.0), (2002, 0.011564570269172205), (2003, 0.005185809498411036), (2004, 0.0031691001612949806), (2005, 0.009653329949887908), (2006, 0.0), (2007, 0.017210802241155242), (2008, 0.024769818149106875), (2009, 0.10586234618724003), (2010, 0.002662793983914826), (2011, 0.0347334923172011), (2012, 0.00617308558280737), (2013, 0.008553544477800365), (2014, 0.021667172050220364), (2015, 0.0649842099882557), (2016, 0.02864730112158565), (2017, 0.02223255907066914), (2018, 0.0), (2019, 0.010973490747363404), (2020, 0.07003666450237826), (2021, 0.0), (2022, 0.04356546389160984), (2023, 0.00823007838921866), (2024, 0.003228861767908574), (2025, 0.0), (2026, 0.0), (2027, 0.029746784445180176), (2028, 0.03233667567740452), (2029, 0.008532466594030608), (2030, 0.0), (2031, 0.01757410358598782), (2032, 0.006290171813919791), (2033, 0.01715120482165328), (2034, 0.00277797157339877), (2035, 0.0028564714433522154), (2036, 0.009772695944837073), (2037, 0.009524434286340235), (2038, 0.010285811108174567), (2039, 0.0028362831177021547), (2040, 0.015931939109444848), (2041, 0.0), (2042, 0.0), (2043, 0.060380463065790715), (2044, 0.0), (2045, 0.020111064262022298), (2046, 0.005361108358870163), (2047, 0.022230108619341687), (2048, 0.047706782573692895), (2049, 0.0037172730774462782), (2050, 0.041484233019982025), (2051, 0.0038309572602248237), (2052, 0.0), (2053, 0.009022982932836422), (2054, 0.0), (2055, 0.007920966625689474), (2056, 0.005172616494222611), (2057, 0.018285952013419527), (2058, 0.009687994828901533), (2059, 0.0), (2060, 0.014274686136915463), (2061, 0.01428872609315237), (2062, 0.010395146705153782), (2063, 0.0), (2064, 0.0), (2065, 0.012674416826003494), (2066, 0.05485309154597226), (2067, 0.003392116538007456), (2068, 0.0032040407701749932), (2069, 0.052551975986670656), (2070, 0.007475420322900597), (2071, 0.00998741146679305), (2072, 0.009056103385606125), (2073, 0.0034364704365117526), (2074, 0.009477539605484656), (2075, 0.004418127302076748), (2076, 0.016689958877240937), (2077, 0.04247254119039617), (2078, 0.004269048320676117), (2079, 0.006127666012462), (2080, 0.003257807240217193), (2081, 0.0), (2082, 0.0), (2083, 0.015091917233355553), (2084, 0.0), (2085, 0.0), (2086, 0.01748510155510785), (2087, 0.003297900818923762), (2088, 0.02328781292997682), (2089, 0.003962066091093517), (2090, 0.0), (2091, 0.0426605125331613), (2092, 0.030720325300507736), (2093, 0.0), (2094, 0.005079539082952704), (2095, 0.0), (2096, 0.0035939478001390966), (2097, 0.015693049655419337), (2098, 0.0), (2099, 0.003151591149000996), (2100, 0.0), (2101, 0.012091379403656273), (2102, 0.013791579319877345), (2103, 0.028230912920698955), (2104, 0.003601023545778716), (2105, 0.0035905155790433483), (2106, 0.0), (2107, 0.0), (2108, 0.0037424902418822788), (2109, 0.02781674707290368), (2110, 0.0), (2111, 0.0033028603807952256), (2112, 0.009646127741606003), (2113, 0.0), (2114, 0.009038092418098338), (2115, 0.01234545241903022), (2116, 0.003639173030839248), (2117, 0.0032343178199396084), (2118, 0.00667683213358331), (2119, 0.010250022001161273), (2120, 0.0), (2121, 0.0032100475836551404), (2122, 0.0034039615613473207), (2123, 0.003490074790401247), (2124, 0.0), (2125, 0.0), (2126, 0.028458594432972023), (2127, 0.016612677326666693), (2128, 0.01614388696819905), (2129, 0.0031243717072205256), (2130, 0.0), (2131, 0.008395649682958011), (2132, 0.0028169468554398356), (2133, 0.003189275194141284), (2134, 0.016130615958063175), (2135, 0.0), (2136, 0.0), (2137, 0.004778998129635905), (2138, 0.0), (2139, 0.005037869954850201), (2140, 0.0), (2141, 0.07472589541254365), (2142, 0.016819146462516876), (2143, 0.027719678491278207), (2144, 0.03136574941505964), (2145, 0.009534525512860357), (2146, 0.0028815583391927956), (2147, 0.0056975647602784665), (2148, 0.04361037218377985), (2149, 0.003150472313004473), (2150, 0.010699926632216231), (2151, 0.015375616480481736), (2152, 0.0), (2153, 0.0), (2154, 0.018471950928332037), (2155, 0.022615972662970423), (2156, 0.03924283959098284), (2157, 0.0028352555050258476), (2158, 0.0), (2159, 0.0037181263634456503), (2160, 0.010102065449025947), (2161, 0.032372393586732426), (2162, 0.003620951065860211), (2163, 0.003008645948064805), (2164, 0.0), (2165, 0.012187682627944318), (2166, 0.013581561866995176), (2167, 0.010316115847359822), (2168, 0.0), (2169, 0.05708292648270384), (2170, 0.0), (2171, 0.0), (2172, 0.0), (2173, 0.0033203014123028758), (2174, 0.0033422248953375163), (2175, 0.050983860156493546), (2176, 0.20610949741430645), (2177, 0.009229431630527942), (2178, 0.005221143767269767), (2179, 0.0), (2180, 0.006135906811293555), (2181, 0.0), (2182, 0.012412755183934797), (2183, 0.010246179659508995), (2184, 0.0), (2185, 0.0), (2186, 0.0), (2187, 0.0038698335136425712), (2188, 0.004115063528532818), (2189, 0.00473317679389112), (2190, 0.003634534360877543), (2191, 0.003023943289726795), (2192, 0.0033956290592792706), (2193, 0.027846242775536923), (2194, 0.01145976699592584), (2195, 0.00871659967299598), (2196, 0.0035657132701582424), (2197, 0.0), (2198, 0.005378026809263595), (2199, 0.004389194511623893), (2200, 0.0), (2201, 0.0031366449179435455), (2202, 0.0), (2203, 0.018532327842938633), (2204, 0.004550318300201649), (2205, 0.0), (2206, 0.0), (2207, 0.0), (2208, 0.011710889872128259), (2209, 0.0037538519340590444), (2210, 0.008885848193658062), (2211, 0.007323074343448395), (2212, 0.02217923342630715), (2213, 0.003006879727692469), (2214, 0.003666129766184141), (2215, 0.01007675395357212), (2216, 0.003304588206318227), (2217, 0.04014929030436067), (2218, 0.01825135556919437), (2219, 0.0), (2220, 0.0), (2221, 0.037750892946171455), (2222, 0.016957293551567148), (2223, 0.0038338127913265622), (2224, 0.013386657228413229), (2225, 0.020240743270030868), (2226, 0.05020979810524607), (2227, 0.0), (2228, 0.014300640476822161), (2229, 0.003684861608148064), (2230, 0.033001439513730746), (2231, 0.0), (2232, 0.0), (2233, 0.005890647391994457), (2234, 0.06548474487245735), (2235, 0.0), (2236, 0.01280150981309113), (2237, 0.012379058703441841), (2238, 0.0), (2239, 0.07602457131669958), (2240, 0.002958961444806815), (2241, 0.05817309749500575), (2242, 0.0032049276869449564), (2243, 0.041903092205229676), (2244, 0.0), (2245, 0.005184583532648305), (2246, 0.005357713518587051), (2247, 0.0), (2248, 0.003031359436875872), (2249, 0.0), (2250, 0.008720778795609107), (2251, 0.004691481316058763), (2252, 0.011567017856499974), (2253, 0.04570394910231873), (2254, 0.003618311382012147), (2255, 0.004350245683127277), (2256, 0.0), (2257, 0.05417068393087111), (2258, 0.0), (2259, 0.005580219387904234), (2260, 0.0036070065877137425), (2261, 0.05042923083330218), (2262, 0.004835903915507442), (2263, 0.017619862877952412), (2264, 0.002995581571770858), (2265, 0.0030610287346044063), (2266, 0.02736905261858897), (2267, 0.0), (2268, 0.00844056765901971), (2269, 0.025797456595900187), (2270, 0.002913333494233907), (2271, 0.01784445826409328), (2272, 0.0), (2273, 0.0), (2274, 0.0), (2275, 0.0), (2276, 0.020803609750535912), (2277, 0.008859268231889901), (2278, 0.016655112232509085), (2279, 0.0032853442905706525), (2280, 0.0), (2281, 0.0), (2282, 0.0), (2283, 0.046590480690672335), (2284, 0.0033900367478869563), (2285, 0.02263655032865667), (2286, 0.004309076793784948), (2287, 0.011769695430780647), (2288, 0.0035665296481554453), (2289, 0.0033484947710184535), (2290, 0.020667391062941996), (2291, 0.04246402522875931), (2292, 0.042147589505006945), (2293, 0.03502704968940055), (2294, 0.0316792820205884), (2295, 0.014650401964673751), (2296, 0.004509127671136673), (2297, 0.0), (2298, 0.0), (2299, 0.03777866998730932), (2300, 0.0), (2301, 0.012904728291018686), (2302, 0.04338617456364488), (2303, 0.008242658062161751), (2304, 0.0), (2305, 0.021565414557967864), (2306, 0.00426603464234817), (2307, 0.0), (2308, 0.013827824359158072), (2309, 0.10160325309399829), (2310, 0.06197221242520313), (2311, 0.005049399046584832), (2312, 0.0), (2313, 0.003423335694825112), (2314, 0.0), (2315, 0.01018436074719798), (2316, 0.0), (2317, 0.03469952743798734), (2318, 0.00886407861276211), (2319, 0.0035028190952869644), (2320, 0.01640022362391369), (2321, 0.0034642506960512257), (2322, 0.005228778137012381), (2323, 0.0030428319151477624), (2324, 0.00870091845856794), (2325, 0.0), (2326, 0.00421495611366684), (2327, 0.041089204568033624), (2328, 0.0), (2329, 0.005265036592860908), (2330, 0.00567536231716336), (2331, 0.0), (2332, 0.0), (2333, 0.0), (2334, 0.028402998874556638), (2335, 0.0), (2336, 0.010987258890767146), (2337, 0.0), (2338, 0.02272864917416456), (2339, 0.07147019117784395), (2340, 0.0033801970697046766), (2341, 0.0), (2342, 0.057191055256284075), (2343, 0.0208393630723164), (2344, 0.0033788527046259356), (2345, 0.0), (2346, 0.003833756252529524), (2347, 0.0030996310245435116), (2348, 0.0031760014202790376), (2349, 0.004668619581237039), (2350, 0.004332803038390854), (2351, 0.006407107696239157), (2352, 0.0), (2353, 0.0), (2354, 0.03216632293023576), (2355, 0.0028110911867017955), (2356, 0.0037693457332943965), (2357, 0.0), (2358, 0.0), (2359, 0.012036663635763957), (2360, 0.0), (2361, 0.003576516002770954), (2362, 0.0030908525093721125), (2363, 0.006633493176073999), (2364, 0.0), (2365, 0.0), (2366, 0.0), (2367, 0.024080697669918348), (2368, 0.0), (2369, 0.0), (2370, 0.0035128829726157936), (2371, 0.0), (2372, 0.0), (2373, 0.0), (2374, 0.0034172387491777888), (2375, 0.025954191790706918), (2376, 0.012569353089365803), (2377, 0.004261056699844961), (2378, 0.003968151399595913), (2379, 0.004866205164630953), (2380, 0.019722753790605705), (2381, 0.0), (2382, 0.002888397948854419), (2383, 0.0), (2384, 0.0), (2385, 0.0035513991122525907), (2386, 0.003447314540028964), (2387, 0.0033645116466934277), (2388, 0.021844611213689524), (2389, 0.0), (2390, 0.003696389844659656), (2391, 0.01540253009628419), (2392, 0.004402550743238182), (2393, 0.01538988576848875), (2394, 0.0035529228398962147), (2395, 0.0), (2396, 0.003402489560242554), (2397, 0.0034292695896830146), (2398, 0.004052676444887712), (2399, 0.0031124753326739157), (2400, 0.0038137344192764678), (2401, 0.003276981906762912), (2402, 0.003053616863047144), (2403, 0.04849366046784965), (2404, 0.01961476312476179), (2405, 0.0035069271828489035), (2406, 0.003960640834030757), (2407, 0.004660930016791475), (2408, 0.0), (2409, 0.005112411723355338), (2410, 0.0036990139817738125), (2411, 0.003818065049792577), (2412, 0.016910430296668527), (2413, 0.0), (2414, 0.01654864803997998), (2415, 0.004091496424753319), (2416, 0.036961147207281324), (2417, 0.003947929324495369), (2418, 0.020976125359899015), (2419, 0.0035424669154511734), (2420, 0.021120588800385656), (2421, 0.00546915038163314), (2422, 0.013694120827170423), (2423, 0.050181690448512783), (2424, 0.0), (2425, 0.004370032422142332), (2426, 0.0), (2427, 0.016386781618932377), (2428, 0.0037211186101532815), (2429, 0.07539107468956285), (2430, 0.014313093090809574), (2431, 0.005524549875579919), (2432, 0.0051740048604566906), (2433, 0.0), (2434, 0.004030977303801837), (2435, 0.0), (2436, 0.009768009491002465), (2437, 0.003827206611806216), (2438, 0.03980305659096955), (2439, 0.0), (2440, 0.006848662045057369), (2441, 0.0027304356219521406), (2442, 0.0), (2443, 0.020252791423003784), (2444, 0.005475356540812141), (2445, 0.05090028496805409), (2446, 0.00811734249249992), (2447, 0.01697244365061047), (2448, 0.06705969328319714), (2449, 0.0), (2450, 0.0), (2451, 0.0), (2452, 0.0), (2453, 0.0030990204057124047), (2454, 0.00407160033369824), (2455, 0.0), (2456, 0.011404123845090616), (2457, 0.02125152192451516), (2458, 0.005849675435885894), (2459, 0.004104084888226155), (2460, 0.0), (2461, 0.03014974417043815), (2462, 0.011838807549683713), (2463, 0.036862958699728623), (2464, 0.0036980129691821908), (2465, 0.0), (2466, 0.003462834423469452), (2467, 0.003253160921446892), (2468, 0.0), (2469, 0.0026399485094894424), (2470, 0.006062515730860036), (2471, 0.0), (2472, 0.02216867694441476), (2473, 0.021168698384537027), (2474, 0.01494173769231125), (2475, 0.0036261200944317827), (2476, 0.0), (2477, 0.0454586974263048), (2478, 0.003870777363641427), (2479, 0.0), (2480, 0.005321664507829361), (2481, 0.047231407603387204), (2482, 0.008055785937739667), (2483, 0.0), (2484, 0.004508385942798345), (2485, 0.01802208685068729), (2486, 0.006128607304076417), (2487, 0.016637949319866473), (2488, 0.004120764265602466), (2489, 0.014696532756998159), (2490, 0.0048598863957848865), (2491, 0.04096725109491938), (2492, 0.014195737802939064), (2493, 0.0), (2494, 0.009422557992200162), (2495, 0.0033715459876385717), (2496, 0.0031532640164976407), (2497, 0.004957553868564116), (2498, 0.010574732194254834), (2499, 0.0), (2500, 0.0), (2501, 0.005393617047536264), (2502, 0.002974946497853054), (2503, 0.005322835960983488), (2504, 0.016028878101496804), (2505, 0.003744665679125065), (2506, 0.0), (2507, 0.0036628303950296376), (2508, 0.0), (2509, 0.03437583783133147), (2510, 0.01845963263303004), (2511, 0.0055638736890702405), (2512, 0.0033476488287690572), (2513, 0.025182912690678634), (2514, 0.03959405226898482), (2515, 0.0), (2516, 0.04100830139071887), (2517, 0.0), (2518, 0.018533283710606065), (2519, 0.0), (2520, 0.0029229906208714284), (2521, 0.0), (2522, 0.015369634577648), (2523, 0.0), (2524, 0.0), (2525, 0.04919690422740912), (2526, 0.007150706605436569), (2527, 0.0029000428741117637), (2528, 0.003131273878090549), (2529, 0.004894603579220968), (2530, 0.040842414093684595), (2531, 0.009108280293734417), (2532, 0.0060598985601825455), (2533, 0.003391312189838922), (2534, 0.021518344972487655), (2535, 0.003737176427983171), (2536, 0.0), (2537, 0.0046255120721783675), (2538, 0.0020174776985893267), (2539, 0.016368419432669118), (2540, 0.003213628156129646), (2541, 0.0), (2542, 0.010000897924601621), (2543, 0.02365935677455162), (2544, 0.0), (2545, 0.0035129388462634592), (2546, 0.00909810923304592), (2547, 0.007068551738881177), (2548, 0.0), (2549, 0.01119097473641187), (2550, 0.03372189679076237), (2551, 0.0), (2552, 0.008171011704684867), (2553, 0.01375347065979967), (2554, 0.003401542700363387), (2555, 0.041675371384794324), (2556, 0.0031265735343295646), (2557, 0.004181855513225368), (2558, 0.014423020088744404), (2559, 0.00443251683444351), (2560, 0.010030624730056167), (2561, 0.0231893581992776), (2562, 0.04044312019174371), (2563, 0.007228095649836902), (2564, 0.0), (2565, 0.003576875966919861), (2566, 0.0), (2567, 0.0), (2568, 0.010688877017935862), (2569, 0.003331784859436212), (2570, 0.04994799943516738), (2571, 0.008443771648329403), (2572, 0.0031940557080638618), (2573, 0.0), (2574, 0.0), (2575, 0.0), (2576, 0.0), (2577, 0.0), (2578, 0.0), (2579, 0.003779498067086807), (2580, 0.0030111725827803035), (2581, 0.006707711800429347), (2582, 0.010952231295553295), (2583, 0.0), (2584, 0.014848297723194107), (2585, 0.01605383029680432), (2586, 0.0), (2587, 0.017561237231582632), (2588, 0.0), (2589, 0.0), (2590, 0.0), (2591, 0.0030250625289372584), (2592, 0.09045169201600393), (2593, 0.003110929738354537), (2594, 0.0), (2595, 0.0036572020695425284), (2596, 0.0), (2597, 0.0), (2598, 0.003190132517923615), (2599, 0.0), (2600, 0.0), (2601, 0.023180923219223444), (2602, 0.002797786020373924), (2603, 0.0073402382202358615), (2604, 0.0), (2605, 0.0), (2606, 0.0033951312339181), (2607, 0.0030223368658723257), (2608, 0.00470146206426303), (2609, 0.009321893931626742), (2610, 0.009236224752614028), (2611, 0.03737551661262869), (2612, 0.00844064684536577), (2613, 0.0039723142512013985), (2614, 0.0385531704869459), (2615, 0.004986316770871142), (2616, 0.010496761258382115), (2617, 0.002972809078393384), (2618, 0.0), (2619, 0.004060541530239217), (2620, 0.0), (2621, 0.038564272889293885), (2622, 0.004554111351287664), (2623, 0.0038171774440985628), (2624, 0.003689525907136717), (2625, 0.02237527957899732), (2626, 0.012126619320852844), (2627, 0.004517298325210665), (2628, 0.004414028031203932), (2629, 0.059468178183174736), (2630, 0.0), (2631, 0.00509753701758406), (2632, 0.013775840753260112), (2633, 0.009175198603960918), (2634, 0.04272316953560889), (2635, 0.012946707862464813), (2636, 0.006561404220077128), (2637, 0.005763109632659984), (2638, 0.0099300099611482), (2639, 0.0), (2640, 0.02070535847946696), (2641, 0.0), (2642, 0.008420270407781883), (2643, 0.0043608187691761115), (2644, 0.0), (2645, 0.08204789275338786), (2646, 0.0), (2647, 0.020042780452863142), (2648, 0.0), (2649, 0.08616545223708634), (2650, 0.003503253698773219), (2651, 0.0031901628020017396), (2652, 0.003408815287513823), (2653, 0.03842471892732899), (2654, 0.004891969899551558), (2655, 0.004468447634852939), (2656, 0.0135547034706016), (2657, 0.0), (2658, 0.0), (2659, 0.0), (2660, 0.024740214493907082), (2661, 0.07916017317103233), (2662, 0.0), (2663, 0.0), (2664, 0.04072291319321409), (2665, 0.00883989445675267), (2666, 0.004934460591350951), (2667, 0.02569337899604033), (2668, 0.01451551433218197), (2669, 0.01634041009799275), (2670, 0.02018255756618154), (2671, 0.0), (2672, 0.006016447650904262), (2673, 0.011626102955930641), (2674, 0.0031038672435578824), (2675, 0.0056270267341443974), (2676, 0.0), (2677, 0.0), (2678, 0.005491412463197388), (2679, 0.003190667839468037), (2680, 0.010290688822955765), (2681, 0.0), (2682, 0.0050081000443966146), (2683, 0.09248982823199255), (2684, 0.0), (2685, 0.0), (2686, 0.0662814386278992), (2687, 0.0033173615409774174), (2688, 0.0), (2689, 0.005690161821008115), (2690, 0.0), (2691, 0.0055845690582142305), (2692, 0.0029279919041756575), (2693, 0.0), (2694, 0.0044914830656811195), (2695, 0.0033760034963635148), (2696, 0.003919637405308748), (2697, 0.0027603925371989043), (2698, 0.008515064487614746), (2699, 0.0), (2700, 0.0), (2701, 0.0), (2702, 0.003853778505025818), (2703, 0.0), (2704, 0.0), (2705, 0.003650967515388217), (2706, 0.008308751019468688), (2707, 0.003957391804807646), (2708, 0.0), (2709, 0.0), (2710, 0.0), (2711, 0.0), (2712, 0.009337871954332692), (2713, 0.005258543772447771), (2714, 0.06314245597781225), (2715, 0.0), (2716, 0.0138907168524328), (2717, 0.0), (2718, 0.01645472369539169), (2719, 0.005696465366837223), (2720, 0.0323422422909081), (2721, 0.0029298450683045616), (2722, 0.004733491834680862), (2723, 0.015466330189338993), (2724, 0.012535840968818678), (2725, 0.021163573442597106), (2726, 0.0), (2727, 0.0), (2728, 0.003069143025350933), (2729, 0.023241410001944934), (2730, 0.1164154953645882), (2731, 0.00452605677325338), (2732, 0.010948758989957858), (2733, 0.012273902679319555), (2734, 0.019252831280484953), (2735, 0.0031132211776950134), (2736, 0.0), (2737, 0.0), (2738, 0.010313700593621175), (2739, 0.00959098847234264), (2740, 0.009840275124973822), (2741, 0.03756715319423567), (2742, 0.0), (2743, 0.01236413782146488), (2744, 0.02448462948773325), (2745, 0.0034034067385727194), (2746, 0.003428382067346689), (2747, 0.002921671558014821), (2748, 0.003666597604037584), (2749, 0.004885228577012983), (2750, 0.0), (2751, 0.0), (2752, 0.003225003985993594), (2753, 0.0029704685334434005), (2754, 0.0), (2755, 0.00924140978819583), (2756, 0.013301427896998301), (2757, 0.005160859289636243), (2758, 0.012247734830934005), (2759, 0.0), (2760, 0.002588025186367075), (2761, 0.02494935388982938), (2762, 0.0), (2763, 0.010484374733228644), (2764, 0.004803834956520794), (2765, 0.013409685764059584), (2766, 0.011193960128820941), (2767, 0.011250963829304739), (2768, 0.004793049136230446), (2769, 0.00397988108721771), (2770, 0.0), (2771, 0.0028611087513437483), (2772, 0.003994204413172311), (2773, 0.0), (2774, 0.004289303743007902), (2775, 0.004577486358716363), (2776, 0.0036315537851887847), (2777, 0.008086738976525256), (2778, 0.01743765157846533), (2779, 0.0032188180332972096), (2780, 0.0), (2781, 0.0), (2782, 0.0037534168119051077), (2783, 0.003393327150787788), (2784, 0.008932918801638686), (2785, 0.006145835727552348), (2786, 0.003610868127709656), (2787, 0.0), (2788, 0.005464754418695836), (2789, 0.004461801929471165), (2790, 0.00564380359668476), (2791, 0.06029925884406745), (2792, 0.07179398118766687), (2793, 0.07331323197012235), (2794, 0.01143903632756406), (2795, 0.018211998906611977), (2796, 0.0038587597771822142), (2797, 0.004127100557525), (2798, 0.0348919619993848), (2799, 0.012366824171134942), (2800, 0.0031856555791622194), (2801, 0.004604633628286843), (2802, 0.021734477177235003), (2803, 0.003068516725932913), (2804, 0.011052656490304923), (2805, 0.004693900117764085), (2806, 0.0), (2807, 0.005266004610468389), (2808, 0.008468553483819993), (2809, 0.012748362766666672), (2810, 0.0), (2811, 0.0), (2812, 0.026006316314207703), (2813, 0.005379247212655936), (2814, 0.015361028987236194), (2815, 0.0), (2816, 0.005554057343193913), (2817, 0.00572372189819038), (2818, 0.0075168582924690875), (2819, 0.0), (2820, 0.0), (2821, 0.0035795759765932527), (2822, 0.00953581367128509), (2823, 0.0), (2824, 0.01076471543741949), (2825, 0.01862704963843017), (2826, 0.0033898486851395753), (2827, 0.0), (2828, 0.0), (2829, 0.04006198726873731), (2830, 0.0037526565793438876), (2831, 0.046931830474885895), (2832, 0.004425040712468038), (2833, 0.0), (2834, 0.010842670916482649), (2835, 0.0), (2836, 0.034555382908074556), (2837, 0.0), (2838, 0.004309139809155649), (2839, 0.0), (2840, 0.009747472704720442), (2841, 0.010878029254299947), (2842, 0.004640926851682076), (2843, 0.03320829591794241), (2844, 0.07274199747656951), (2845, 0.049230150242070975), (2846, 0.0039454066103279594), (2847, 0.010909116102954405), (2848, 0.004115763514406077), (2849, 0.0035646848147006293), (2850, 0.0), (2851, 0.0), (2852, 0.0), (2853, 0.0033549501577682444), (2854, 0.05802395740507212), (2855, 0.004552013819579257), (2856, 0.019367071683291076), (2857, 0.004162160692846729), (2858, 0.004779264918009737), (2859, 0.008285806776915684), (2860, 0.0), (2861, 0.004469307911380401), (2862, 0.013147393704924336), (2863, 0.03206186425959852), (2864, 0.0), (2865, 0.03691440728637722), (2866, 0.0), (2867, 0.016744542377250295), (2868, 0.003119580076987687), (2869, 0.0), (2870, 0.0045709435137577005), (2871, 0.0), (2872, 0.0038813122941827065), (2873, 0.006096627218210076), (2874, 0.004981915392836628), (2875, 0.0), (2876, 0.019731092075539348), (2877, 0.02510642674584327), (2878, 0.046064153791288705), (2879, 0.004106382356269661), (2880, 0.0), (2881, 0.0038188315955708374), (2882, 0.024153693266535967), (2883, 0.0045629155945757435), (2884, 0.00389239859310385), (2885, 0.0), (2886, 0.0032169275809136194), (2887, 0.0034165585771466114), (2888, 0.003652499957481768), (2889, 0.004641691698309695), (2890, 0.0037206765213571693), (2891, 0.0), (2892, 0.008296037886460047), (2893, 0.0038237419782944236), (2894, 0.0034601842858539168), (2895, 0.0040359981718007774), (2896, 0.0), (2897, 0.023137414868873104), (2898, 0.0), (2899, 0.008215618487498494), (2900, 0.008711851869429483), (2901, 0.004329142991024351), (2902, 0.002479900057864895), (2903, 0.0037812938506942796), (2904, 0.0035070856285565953), (2905, 0.0), (2906, 0.004725753906232464), (2907, 0.0031271700746211667), (2908, 0.011588886699591959), (2909, 0.0032885014145848965), (2910, 0.008551025262841723), (2911, 0.009095769157056139), (2912, 0.003264931203958873), (2913, 0.0), (2914, 0.003813331382845082), (2915, 0.0036667842418105865), (2916, 0.0037768400035551814), (2917, 0.03286363382634588), (2918, 0.010645118984990449), (2919, 0.003483291833102427), (2920, 0.007996446051611672), (2921, 0.0), (2922, 0.0), (2923, 0.00454311140071998), (2924, 0.048795984050957954), (2925, 0.002707240332028528), (2926, 0.0035263247660170228), (2927, 0.0), (2928, 0.0), (2929, 0.00478741738576053), (2930, 0.0), (2931, 0.03275127898202308), (2932, 0.004458120543007372), (2933, 0.0074219995943438245), (2934, 0.0033964104005035018), (2935, 0.0), (2936, 0.003816954237642278), (2937, 0.004841828471976733), (2938, 0.00502509108262752), (2939, 0.0), (2940, 0.00934128216911078), (2941, 0.014199515408775804), (2942, 0.06504312695698579), (2943, 0.003359725583881183), (2944, 0.011112058769496757), (2945, 0.003300607230770209), (2946, 0.003318328278369634), (2947, 0.019326003444288684), (2948, 0.0), (2949, 0.003602738940684133), (2950, 0.0), (2951, 0.011827214592808036), (2952, 0.0), (2953, 0.0035690211668431035), (2954, 0.00798003681979792), (2955, 0.0), (2956, 0.0), (2957, 0.004125105400838801), (2958, 0.0), (2959, 0.0), (2960, 0.0), (2961, 0.003318969396618591), (2962, 0.01021603430451745), (2963, 0.005731333688151672), (2964, 0.021146383490459175), (2965, 0.003203005896868983), (2966, 0.0040989841428645995), (2967, 0.0), (2968, 0.0), (2969, 0.007248560863499065), (2970, 0.0035940211004504), (2971, 0.0), (2972, 0.0031782933501003597), (2973, 0.010837103799258733), (2974, 0.003785673169429874), (2975, 0.08121186221345139), (2976, 0.003020515564985104), (2977, 0.008948573870220744), (2978, 0.0), (2979, 0.012004375657538193), (2980, 0.050359807470842365), (2981, 0.012051218329064663), (2982, 0.0), (2983, 0.0), (2984, 0.0), (2985, 0.011767182673674092), (2986, 0.003988366563756303), (2987, 0.0038926626154605366), (2988, 0.003477671173319438), (2989, 0.004698371666884688), (2990, 0.0), (2991, 0.0), (2992, 0.005004977718105676), (2993, 0.0040669779620033), (2994, 0.0), (2995, 0.022390452751314467), (2996, 0.03627565626816345), (2997, 0.003187015904597086), (2998, 0.0703760530092124), (2999, 0.0033527241479529564), (3000, 0.003452324761996244), (3001, 0.0), (3002, 0.0), (3003, 0.003745688785217456), (3004, 0.004153077886067091), (3005, 0.0), (3006, 0.018913415580527157), (3007, 0.0036021746687804326), (3008, 0.0), (3009, 0.0), (3010, 0.013603810659455666), (3011, 0.005183385314077314), (3012, 0.003780346383909065), (3013, 0.003803711440424185), (3014, 0.003183115010226201), (3015, 0.004272774121743495), (3016, 0.003461507524119468), (3017, 0.05169052227616839), (3018, 0.005605736788959324), (3019, 0.003925248838690164), (3020, 0.004093385639405344), (3021, 0.01042805897984845), (3022, 0.05300496610800044), (3023, 0.0), (3024, 0.0027892922098789338), (3025, 0.023225150134428878), (3026, 0.0037253361075587983), (3027, 0.012694722459046508), (3028, 0.008445532491295822), (3029, 0.019767584792981387), (3030, 0.004567834405222355), (3031, 0.027151974736719285), (3032, 0.0037741912141294335), (3033, 0.024209647036778883), (3034, 0.0), (3035, 0.003209969014862534), (3036, 0.02113254280436072), (3037, 0.0035591696956506326), (3038, 0.0), (3039, 0.006074165597611141), (3040, 0.0047088424830624915), (3041, 0.10429557915067555), (3042, 0.004568636606615627), (3043, 0.003817065160749977), (3044, 0.0036754618164360864), (3045, 0.0), (3046, 0.05562718477957953), (3047, 0.0), (3048, 0.011704434953330926), (3049, 0.0), (3050, 0.003089241976525509), (3051, 0.004809721591702134), (3052, 0.019697752015968812), (3053, 0.0051511661603886386), (3054, 0.0), (3055, 0.004588220879056087), (3056, 0.002793319270473862), (3057, 0.008198682188167331), (3058, 0.0), (3059, 0.0), (3060, 0.0), (3061, 0.021175330275438158), (3062, 0.0037382325301530644), (3063, 0.024517034786473223), (3064, 0.03496596366499939), (3065, 0.002864027680879915), (3066, 0.005244434930241487), (3067, 0.02333878023486861), (3068, 0.0), (3069, 0.06058432441731169), (3070, 0.0), (3071, 0.008186024191830572), (3072, 0.016761198488941524), (3073, 0.03239530019578165), (3074, 0.004136887682178872), (3075, 0.0032747507143925125), (3076, 0.004412802735520651), (3077, 0.0), (3078, 0.0), (3079, 0.0), (3080, 0.0), (3081, 0.016971690544220715), (3082, 0.0), (3083, 0.004989909209456238), (3084, 0.003576212747254622), (3085, 0.0), (3086, 0.015578664447714823), (3087, 0.0), (3088, 0.0), (3089, 0.0), (3090, 0.0), (3091, 0.002822282101797458), (3092, 0.0), (3093, 0.0033183671961394003), (3094, 0.003945335442399751), (3095, 0.0036200001273615735), (3096, 0.002931042766547028), (3097, 0.003718051649902008), (3098, 0.0), (3099, 0.0), (3100, 0.0), (3101, 0.0037252162131528833), (3102, 0.037146470630235996), (3103, 0.005671364038737747), (3104, 0.0), (3105, 0.0), (3106, 0.0), (3107, 0.0), (3108, 0.027677985364673335), (3109, 0.020081566699181243), (3110, 0.04894184463307366), (3111, 0.025948956270065573), (3112, 0.0036257804885433944), (3113, 0.003439107876282631), (3114, 0.0), (3115, 0.0), (3116, 0.0037052510810763927), (3117, 0.0), (3118, 0.0), (3119, 0.004622608633535512), (3120, 0.003121735685496661), (3121, 0.005012981827416819), (3122, 0.013458074866717842), (3123, 0.017590227188948097), (3124, 0.0), (3125, 0.048041754557667245), (3126, 0.0), (3127, 0.0426889024945806), (3128, 0.004250410792638166), (3129, 0.009223555838431362), (3130, 0.0), (3131, 0.005742838093705882), (3132, 0.0), (3133, 0.005045389462881195), (3134, 0.0), (3135, 0.0), (3136, 0.0), (3137, 0.006259058161894835), (3138, 0.0), (3139, 0.004773896322518411), (3140, 0.06789150093303815), (3141, 0.02098823921723343), (3142, 0.007421489540821709), (3143, 0.0), (3144, 0.007993489902796549), (3145, 0.006973738929171794), (3146, 0.0037715732564008748), (3147, 0.028948265939351427), (3148, 0.0038176521725427387), (3149, 0.00517759615691769), (3150, 0.009144026606016958), (3151, 0.01885035047464532), (3152, 0.04261762524696303), (3153, 0.003472117953213939), (3154, 0.004126950762620704), (3155, 0.0033949095542162053), (3156, 0.0), (3157, 0.0037530412818507657), (3158, 0.0), (3159, 0.004173163656940051), (3160, 0.0), (3161, 0.058835892593497495), (3162, 0.0), (3163, 0.0), (3164, 0.00454567066930825), (3165, 0.003872820850949103), (3166, 0.0046771473075864845), (3167, 0.003019663440573323), (3168, 0.0), (3169, 0.0), (3170, 0.0032077684922126857), (3171, 0.0032074411345980173), (3172, 0.006250280363614014), (3173, 0.003320641507869499), (3174, 0.008716311365055913), (3175, 0.0), (3176, 0.0), (3177, 0.0), (3178, 0.005331065326733636), (3179, 0.0), (3180, 0.012292743779883286), (3181, 0.011698553637091541), (3182, 0.00343483125256333), (3183, 0.0036923279571071366), (3184, 0.003621598901868137), (3185, 0.0), (3186, 0.003823215187641028), (3187, 0.0035482898862137834), (3188, 0.0), (3189, 0.0), (3190, 0.0), (3191, 0.01941180940484506), (3192, 0.012206483701568493), (3193, 0.05791997894010246), (3194, 0.03605392372378523), (3195, 0.0033182148287771163), (3196, 0.003781020790996972), (3197, 0.0), (3198, 0.0034832468943020362), (3199, 0.029041346283422045), (3200, 0.007425798366210622), (3201, 0.009569131115183295), (3202, 0.0), (3203, 0.02270845716066022), (3204, 0.0), (3205, 0.04724057633455684), (3206, 0.07859468429461972), (3207, 0.0), (3208, 0.04517985199688831), (3209, 0.0), (3210, 0.0034011412977185042), (3211, 0.01221449476640573), (3212, 0.00915980117262189), (3213, 0.0), (3214, 0.003219067985457491), (3215, 0.0), (3216, 0.01435077696573243), (3217, 0.024298305379167297), (3218, 0.07925862341976149), (3219, 0.0044064887550112125), (3220, 0.014094268313976328), (3221, 0.0183618175863428), (3222, 0.025837252638671558), (3223, 0.0), (3224, 0.003510505409793888), (3225, 0.003455288688834849), (3226, 0.011139313910604541), (3227, 0.0033997869647382096), (3228, 0.010606201449974217), (3229, 0.0), (3230, 1.0000000000000002), (3231, 0.004806817220762003), (3232, 0.049215611543332295), (3233, 0.008990989042554031), (3234, 0.015420226921198897), (3235, 0.0035945132294470826), (3236, 0.0), (3237, 0.008632212782120879), (3238, 0.01214062229806627), (3239, 0.0042511137980146265), (3240, 0.08585982580080564), (3241, 0.0035177050143111763), (3242, 0.0035400821958535954), (3243, 0.0031580549361974516), (3244, 0.0), (3245, 0.0), (3246, 0.02779420449719471), (3247, 0.0), (3248, 0.0037604744168371366), (3249, 0.004217208004673128), (3250, 0.0), (3251, 0.0), (3252, 0.0028096068696997494), (3253, 0.0), (3254, 0.0027569703723787473), (3255, 0.0), (3256, 0.012880134025048888), (3257, 0.004062904491836946), (3258, 0.0036665210427693344), (3259, 0.005660979498678031), (3260, 0.008574772062535659), (3261, 0.0), (3262, 0.018555770996037203), (3263, 0.0), (3264, 0.020895228780085297), (3265, 0.05023499431986774), (3266, 0.0), (3267, 0.003059525763834858), (3268, 0.0032181987693212597), (3269, 0.0036473581279173285), (3270, 0.04154298326863405), (3271, 0.009443177391257098), (3272, 0.0), (3273, 0.0037538775287453098), (3274, 0.003799136287641161), (3275, 0.003941000806507822), (3276, 0.005089933825749918), (3277, 0.02697734037501955), (3278, 0.0030659638606221618), (3279, 0.0), (3280, 0.0049975018556820405), (3281, 0.0), (3282, 0.004372795528774532), (3283, 0.008901973978211627), (3284, 0.008004341407826812), (3285, 0.0025348674000525307), (3286, 0.0), (3287, 0.0), (3288, 0.0), (3289, 0.003455556082670794), (3290, 0.003469989788245571), (3291, 0.01937949056032335), (3292, 0.004401666479785793), (3293, 0.008272032279390027), (3294, 0.0349455721777732), (3295, 0.004884894447681081), (3296, 0.003835023947636766), (3297, 0.009286506431828972), (3298, 0.003257118971154037), (3299, 0.06726789118331535), (3300, 0.003168681289439443), (3301, 0.00264043583381719), (3302, 0.004108280982949826), (3303, 0.008893791732839246), (3304, 0.013058139813231125), (3305, 0.03840699366794253), (3306, 0.00801234392328629), (3307, 0.003916730441989844), (3308, 0.003991873257130428), (3309, 0.0), (3310, 0.0), (3311, 0.007905736967698132), (3312, 0.006234587502071304), (3313, 0.011773760657601093), (3314, 0.003576092647138966), (3315, 0.0032210616429989136), (3316, 0.006722800387100205), (3317, 0.011554754308016602), (3318, 0.0030389304911447126), (3319, 0.0), (3320, 0.02275108871847885), (3321, 0.004966582943780636), (3322, 0.004339605694268221), (3323, 0.0), (3324, 0.0), (3325, 0.006024316837891692), (3326, 0.003571229467902008), (3327, 0.022564706207461826), (3328, 0.009272628300009392), (3329, 0.003082560411615819), (3330, 0.019721528514124287), (3331, 0.0028107379056427017), (3332, 0.0), (3333, 0.0), (3334, 0.0), (3335, 0.01457076684604846), (3336, 0.03375482151327904), (3337, 0.0038905864327921018), (3338, 0.010294086341786591), (3339, 0.0162267702336602), (3340, 0.010952885321545909), (3341, 0.014461505220383903), (3342, 0.008115484865077715), (3343, 0.005362370551984894), (3344, 0.01198092291629952), (3345, 0.012533426462780089), (3346, 0.003362880747215831), (3347, 0.0028300355374984995), (3348, 0.003263134319329992), (3349, 0.0034982241569574014), (3350, 0.0), (3351, 0.003519133016430449), (3352, 0.003242556442100452), (3353, 0.003505487034106215), (3354, 0.004245194162547443), (3355, 0.003879194449031201), (3356, 0.0040485678880144635), (3357, 0.00419123532271174), (3358, 0.004093546408941069), (3359, 0.003924051673262479), (3360, 0.007763190090459424), (3361, 0.005081275111512823), (3362, 0.006920526523661418), (3363, 0.004205227004800984), (3364, 0.0228445308780514), (3365, 0.026446611493698872), (3366, 0.0), (3367, 0.0), (3368, 0.005240683784863411), (3369, 0.003110197290345891), (3370, 0.0032729430470818015), (3371, 0.0), (3372, 0.023344052847760276), (3373, 0.003795080709064327), (3374, 0.019638946329680933), (3375, 0.0), (3376, 0.0074630264555056985), (3377, 0.0), (3378, 0.00560127043352602), (3379, 0.00330578399367481), (3380, 0.002993176935267216), (3381, 0.003331581696629127), (3382, 0.033530994437903264), (3383, 0.0), (3384, 0.006293041988117412), (3385, 0.0), (3386, 0.008855393887959246), (3387, 0.0), (3388, 0.09592624016211412), (3389, 0.008037918672723632), (3390, 0.022509476644381722), (3391, 0.007517291773807369), (3392, 0.00224042244123494), (3393, 0.007516567465815968), (3394, 0.0), (3395, 0.0), (3396, 0.0038892480839765255), (3397, 0.026556291985919106), (3398, 0.03758947212479646), (3399, 0.008165132824385071), (3400, 0.0), (3401, 0.01171166091310681), (3402, 0.03131419209271645), (3403, 0.030103598233335978), (3404, 0.0), (3405, 0.0), (3406, 0.015219393426648777), (3407, 0.00820473550420567), (3408, 0.0038992830739968997), (3409, 0.012035921667162297), (3410, 0.007032865156204648), (3411, 0.004709436803020277), (3412, 0.008523645364794767), (3413, 0.00404998785251127), (3414, 0.015791786007738548), (3415, 0.011563817043501649), (3416, 0.0), (3417, 0.01588318732929264), (3418, 0.0030599926951533334), (3419, 0.04408166600233129), (3420, 0.014909666147060135), (3421, 0.0023327555335333834), (3422, 0.0), (3423, 0.003858145981069097), (3424, 0.017643292375549596), (3425, 0.003906938300194167), (3426, 0.010278484076656954), (3427, 0.0), (3428, 0.0), (3429, 0.0075124304222384695), (3430, 0.007274600912370487), (3431, 0.0027076906734279198), (3432, 0.03457100938435852), (3433, 0.0031749038989948054), (3434, 0.0035871923388103065), (3435, 0.037137580999786916), (3436, 0.014513840942919189), (3437, 0.049075063448979724), (3438, 0.005730453514033911), (3439, 0.0), (3440, 0.012837898435825919), (3441, 0.003344149738499836), (3442, 0.0), (3443, 0.0), (3444, 0.07255084740301357), (3445, 0.0034532007974139804), (3446, 0.005512690976015339), (3447, 0.008540025679639483), (3448, 0.0065116438820085635), (3449, 0.015583400152302841), (3450, 0.010150205306392952), (3451, 0.060951051673439685), (3452, 0.0031441757438881728), (3453, 0.0), (3454, 0.010501492329824821), (3455, 0.0030960103977600625), (3456, 0.014664167503937635), (3457, 0.005722604572393724), (3458, 0.013342584006676938), (3459, 0.004877502119970727), (3460, 0.01326097316070391), (3461, 0.00572172453597238), (3462, 0.0), (3463, 0.08634171044782785), (3464, 0.005688917327019376), (3465, 0.04152625962233121), (3466, 0.0), (3467, 0.0), (3468, 0.041333107732738746), (3469, 0.006011264278375639), (3470, 0.0), (3471, 0.002680965679013123), (3472, 0.06911618217153981), (3473, 0.0), (3474, 0.003063884464250735), (3475, 0.0), (3476, 0.0), (3477, 0.06321788181840879), (3478, 0.0033718519218704085), (3479, 0.004503014180324634), (3480, 0.015460628326107622), (3481, 0.0045176190097856945), (3482, 0.0), (3483, 0.003570067083950653), (3484, 0.004464011982299975), (3485, 0.0), (3486, 0.0), (3487, 0.02989731344021494), (3488, 0.0), (3489, 0.0), (3490, 0.0), (3491, 0.008773954722322461), (3492, 0.00872888988847791), (3493, 0.04331312934368145), (3494, 0.0), (3495, 0.0), (3496, 0.003619352201601451), (3497, 0.003684094186471054), (3498, 0.01377878514757749), (3499, 0.00331245770665587), (3500, 0.00312826096424591), (3501, 0.01465895580176968), (3502, 0.006497114805372102), (3503, 0.0032332664862028213), (3504, 0.02953751760633019), (3505, 0.0), (3506, 0.02563587190612153), (3507, 0.005564506117004693), (3508, 0.0), (3509, 0.0), (3510, 0.0), (3511, 0.0035493266425447997), (3512, 0.005170429290849723), (3513, 0.03951095591084932), (3514, 0.003520090858764544), (3515, 0.023684977676355044), (3516, 0.009504972582075314), (3517, 0.003491233244313858), (3518, 0.02168379158522099), (3519, 0.0), (3520, 0.0), (3521, 0.004153952255300114), (3522, 0.0), (3523, 0.004833617297136827), (3524, 0.02615178400134403), (3525, 0.0), (3526, 0.008944067310970909), (3527, 0.022976331122750892), (3528, 0.0), (3529, 0.0), (3530, 0.0), (3531, 0.010717001255994367), (3532, 0.0), (3533, 0.0), (3534, 0.022291888125921644), (3535, 0.0), (3536, 0.009068184290982098), (3537, 0.004182258720753776), (3538, 0.006968701969390352), (3539, 0.0), (3540, 0.003932723838176407), (3541, 0.003391787212055106), (3542, 0.003449899524538914), (3543, 0.010271316912848369), (3544, 0.004104398217639348), (3545, 0.0), (3546, 0.006520444391839798), (3547, 0.0), (3548, 0.0027728297821401266), (3549, 0.005551368631161351), (3550, 0.0), (3551, 0.008820777155590593), (3552, 0.005483958724327418), (3553, 0.003341805365123696), (3554, 0.0), (3555, 0.0), (3556, 0.003014870247311602), (3557, 0.0556175190423671), (3558, 0.0031129303543188883), (3559, 0.0), (3560, 0.07200441689425847), (3561, 0.019549300299419956), (3562, 0.10110515508704167), (3563, 0.007965394168361395), (3564, 0.008773551691519518), (3565, 0.0033370210648974194), (3566, 0.005042153977557334), (3567, 0.005142843656912913), (3568, 0.04636624105235258), (3569, 0.03973996046201389), (3570, 0.0), (3571, 0.047935472284704954), (3572, 0.0), (3573, 0.0), (3574, 0.02296767894461134), (3575, 0.0027240391231530283), (3576, 0.0), (3577, 0.03410312462915063), (3578, 0.006775180396843227), (3579, 0.007459983482293739), (3580, 0.0), (3581, 0.0), (3582, 0.0), (3583, 0.0), (3584, 0.0), (3585, 0.0), (3586, 0.005776809954763014), (3587, 0.009844947943812611), (3588, 0.0), (3589, 0.0), (3590, 0.0035817411667626955), (3591, 0.0), (3592, 0.0), (3593, 0.003763992442404407), (3594, 0.005346593612484221), (3595, 0.010571586259938018), (3596, 0.00333700486960082), (3597, 0.0), (3598, 0.004751706329214579), (3599, 0.00912526420036425), (3600, 0.0), (3601, 0.0035960179688572097), (3602, 0.0), (3603, 0.0), (3604, 0.012136026295467967), (3605, 0.0), (3606, 0.02266312397090552), (3607, 0.0), (3608, 0.0021962493994856567), (3609, 0.0), (3610, 0.006339779195819982), (3611, 0.003831171852759821), (3612, 0.008742985564405061), (3613, 0.004158946077079896), (3614, 0.0030519872334739), (3615, 0.00317523212529007), (3616, 0.010868098321796527), (3617, 0.0), (3618, 0.009263907321272215), (3619, 0.0), (3620, 0.004105869731693107), (3621, 0.003967676319663841), (3622, 0.0), (3623, 0.01487660105966812), (3624, 0.0033405990580309547), (3625, 0.0), (3626, 0.006705122170154194), (3627, 0.0031198140572688392), (3628, 0.039856117181564885), (3629, 0.002895785669697789), (3630, 0.0), (3631, 0.011657437603622391), (3632, 0.0), (3633, 0.009614872533167793), (3634, 0.012192982596572846), (3635, 0.004558760674074343), (3636, 0.00347482267208407), (3637, 0.00764297554706652), (3638, 0.02467229156331254), (3639, 0.003858975648519194), (3640, 0.01608289043512565), (3641, 0.05045787117295471), (3642, 0.0036563923105604012), (3643, 0.05761792247954965), (3644, 0.005273857108102936), (3645, 0.0025415056263072043), (3646, 0.008263907008218007), (3647, 0.0033174609766277565), (3648, 0.005553955317656898), (3649, 0.0), (3650, 0.016634792391175764), (3651, 0.009997805567951904), (3652, 0.0), (3653, 0.0034371446805213095), (3654, 0.009191468873865904), (3655, 0.0076058760801442195), (3656, 0.05062061465582642), (3657, 0.04333223722842899), (3658, 0.004510601426890655), (3659, 0.0), (3660, 0.0032515863439420123), (3661, 0.009967525061485443), (3662, 0.0), (3663, 0.0), (3664, 0.0), (3665, 0.008718845310619084), (3666, 0.003501027341207272), (3667, 0.009259732589730615), (3668, 0.007397417141212293), (3669, 0.002857481155176055), (3670, 0.0034006703446623886), (3671, 0.0), (3672, 0.004791317973680835), (3673, 0.003358188286591641), (3674, 0.004531097913506279), (3675, 0.0040193835190859145), (3676, 0.0), (3677, 0.01548549195934372), (3678, 0.009297593023532667), (3679, 0.0), (3680, 0.003812897021840119), (3681, 0.0284420093206161), (3682, 0.0), (3683, 0.0), (3684, 0.014247707666830388), (3685, 0.0), (3686, 0.0), (3687, 0.004211467308210285), (3688, 0.0), (3689, 0.009039822046067585), (3690, 0.010971251993856556), (3691, 0.003208466060089036), (3692, 0.0036304837731050512), (3693, 0.0), (3694, 0.0036491104746528774), (3695, 0.0), (3696, 0.024260555306048676), (3697, 0.0), (3698, 0.012129926154947072), (3699, 0.0034439862175473655), (3700, 0.0), (3701, 0.008959762394525901), (3702, 0.0), (3703, 0.0), (3704, 0.0036437940246741205), (3705, 0.003051127573647988), (3706, 0.003290681021962409), (3707, 0.003431771014903652), (3708, 0.0), (3709, 0.005231864100138989), (3710, 0.0), (3711, 0.020071530862038587), (3712, 0.005084631294203088), (3713, 0.0044753887160593015), (3714, 0.0036855371849288466), (3715, 0.0), (3716, 0.0), (3717, 0.0), (3718, 0.02246179922186397), (3719, 0.003291108678585129), (3720, 0.0051800605373151665), (3721, 0.0), (3722, 0.024905631829598384), (3723, 0.0), (3724, 0.005691628335347694), (3725, 0.003139583859428143), (3726, 0.0), (3727, 0.01429841254285803), (3728, 0.0036056402914422564), (3729, 0.003907666576751282), (3730, 0.005867847883661236), (3731, 0.00457768124447702), (3732, 0.02582906184715009), (3733, 0.01373475966874437), (3734, 0.0031802358770551533), (3735, 0.0), (3736, 0.015122947304602894), (3737, 0.003765080113115153), (3738, 0.0), (3739, 0.008835726626414318), (3740, 0.0), (3741, 0.025305200659738743), (3742, 0.003079917451758122), (3743, 0.06343790572424271), (3744, 0.0), (3745, 0.08258401259547193), (3746, 0.00528409055565497), (3747, 0.03678285160800549), (3748, 0.00464433471178758), (3749, 0.015723816286711184), (3750, 0.0), (3751, 0.011595252164532636), (3752, 0.00912041760975669), (3753, 0.0), (3754, 0.003910364645798402), (3755, 0.002980014594825119), (3756, 0.019324663020333095), (3757, 0.04463964414512165), (3758, 0.05939765258883619), (3759, 0.0), (3760, 0.0), (3761, 0.0), (3762, 0.004392812659181641), (3763, 0.060515683771448114), (3764, 0.020012876476409633), (3765, 0.024436819725736678), (3766, 0.0040210304552065635), (3767, 0.013247274334109629), (3768, 0.0), (3769, 0.0), (3770, 0.03360340855025192), (3771, 0.003652128502585695), (3772, 0.0659210313711479), (3773, 0.0), (3774, 0.0), (3775, 0.046933249884390356), (3776, 0.004597196399551983), (3777, 0.009234020768668196), (3778, 0.08878848960390183), (3779, 0.03880322296174044), (3780, 0.009331518553459863), (3781, 0.003612776406380015), (3782, 0.0), (3783, 0.0), (3784, 0.05398448238026928), (3785, 0.0), (3786, 0.005150359936538379), (3787, 0.0), (3788, 0.0), (3789, 0.0), (3790, 0.0), (3791, 0.0), (3792, 0.0034289994939110447), (3793, 0.010862409655951233), (3794, 0.0), (3795, 0.003016208944089927), (3796, 0.041360664009819574), (3797, 0.0037312659293479546), (3798, 0.0), (3799, 0.0031962393251531076), (3800, 0.0), (3801, 0.003020938081353993), (3802, 0.012098744655617763), (3803, 0.004696434491909348), (3804, 0.00376132802063655), (3805, 0.0), (3806, 0.0), (3807, 0.003354164615161701), (3808, 0.0), (3809, 0.022773530422409954), (3810, 0.0054697016036765215), (3811, 0.0031786811279613815), (3812, 0.0), (3813, 0.0036790297365848503), (3814, 0.0), (3815, 0.0), (3816, 0.0419992378487036), (3817, 0.018262491172433393), (3818, 0.04406481099981688), (3819, 0.02605508451423484), (3820, 0.0), (3821, 0.02431453162209721), (3822, 0.009813082739191025), (3823, 0.010093896946275724), (3824, 0.0), (3825, 0.009692921423596011), (3826, 0.019024570033857966), (3827, 0.0033060144175924193), (3828, 0.00426436521606625), (3829, 0.057610623894238135), (3830, 0.0), (3831, 0.00588629360023789), (3832, 0.004116316353828333), (3833, 0.0), (3834, 0.0), (3835, 0.002030765828863159), (3836, 0.01077602170949059), (3837, 0.0), (3838, 0.0), (3839, 0.003110081513834004), (3840, 0.0), (3841, 0.007837573482741956), (3842, 0.0), (3843, 0.0), (3844, 0.0), (3845, 0.0035169976879268683), (3846, 0.0), (3847, 0.0), (3848, 0.004277821961019839), (3849, 0.0), (3850, 0.0), (3851, 0.0), (3852, 0.004677096063322172), (3853, 0.14507692193003602), (3854, 0.008081963408978245), (3855, 0.0074156970556180654), (3856, 0.0), (3857, 0.0629945345062585), (3858, 0.006155398839803247), (3859, 0.0), (3860, 0.0), (3861, 0.0), (3862, 0.003521537962220895), (3863, 0.003029933999117434), (3864, 0.01779385539927039), (3865, 0.032702739751157735), (3866, 0.010074116012406868), (3867, 0.003830430780665816), (3868, 0.008362355556897318), (3869, 0.04166742089921921), (3870, 0.005611719713589747), (3871, 0.0), (3872, 0.0), (3873, 0.0036054528519818664), (3874, 0.004123215704362157), (3875, 0.02792832653567956), (3876, 0.0030951319881114335), (3877, 0.009730658020096311), (3878, 0.018953803996553522), (3879, 0.01828047980857187), (3880, 0.0029417379764316185), (3881, 0.0), (3882, 0.02486416267553594), (3883, 0.003843511076422024), (3884, 0.003923079658933326), (3885, 0.0), (3886, 0.0051550668304782025), (3887, 0.0), (3888, 0.0033362656617186666), (3889, 0.003656818093004638), (3890, 0.013648380361478115), (3891, 0.005083264733051006), (3892, 0.004383279160722307), (3893, 0.0036426007409347647), (3894, 0.0076648567399433265), (3895, 0.01945772785914917), (3896, 0.0), (3897, 0.005691192669942921), (3898, 0.0031997596505853624), (3899, 0.010242653726523611), (3900, 0.003242337729335519), (3901, 0.004066445360203765), (3902, 0.00350831843843165), (3903, 0.02230728324656626), (3904, 0.0036065428685051982), (3905, 0.0), (3906, 0.003317476141416174), (3907, 0.011138128670428585), (3908, 0.0), (3909, 0.0239040168660723), (3910, 0.00296026318219518), (3911, 0.017232033538539568), (3912, 0.035579949038233395), (3913, 0.02966634065932792), (3914, 0.009397360665059598), (3915, 0.015663800437046536), (3916, 0.0), (3917, 0.008407098483392295), (3918, 0.0), (3919, 0.009136087373959762), (3920, 0.009052552267966812), (3921, 0.034097974570128954), (3922, 0.004162453215106658), (3923, 0.0), (3924, 0.04712512802695571), (3925, 0.05685665523959364), (3926, 0.005376425134633065), (3927, 0.007274431798239068), (3928, 0.007300339390524867), (3929, 0.0), (3930, 0.05059814496661512), (3931, 0.0), (3932, 0.006219914284965718), (3933, 0.03486012300335389), (3934, 0.0), (3935, 0.030013048008832456), (3936, 0.0), (3937, 0.0), (3938, 0.0), (3939, 0.004490909579972943), (3940, 0.0), (3941, 0.04811888450584353), (3942, 0.0), (3943, 0.0), (3944, 0.004326932912466935), (3945, 0.009818465067477408), (3946, 0.0), (3947, 0.0), (3948, 0.0), (3949, 0.0), (3950, 0.02251350366413112), (3951, 0.06617814399185802), (3952, 0.0038667776569299567), (3953, 0.0030679025734402284), (3954, 0.022296640338552793), (3955, 0.005356706622895654), (3956, 0.0030053170068893346), (3957, 0.02274532739674718), (3958, 0.0), (3959, 0.009051965526800694), (3960, 0.009908040507045371), (3961, 0.0037216886220820056), (3962, 0.0037869259346800673), (3963, 0.005327619120261288), (3964, 0.0), (3965, 0.0), (3966, 0.022591625878073), (3967, 0.0037274356035123897), (3968, 0.0), (3969, 0.005639061598138009), (3970, 0.010267789397518977), (3971, 0.0315044764298279), (3972, 0.0), (3973, 0.003589983989640738), (3974, 0.0030348575331387243), (3975, 0.0), (3976, 0.0), (3977, 0.0), (3978, 0.00321613494230402), (3979, 0.020019036857757782), (3980, 0.004306196776359504), (3981, 0.0), (3982, 0.0), (3983, 0.006547445529779851), (3984, 0.003546077905393097), (3985, 0.0), (3986, 0.007863565846649212), (3987, 0.0035912516813097393), (3988, 0.0), (3989, 0.0), (3990, 0.004654115697321085), (3991, 0.0), (3992, 0.0038114553144388014), (3993, 0.0), (3994, 0.023540040090252908), (3995, 0.0), (3996, 0.0), (3997, 0.0), (3998, 0.005171369558990404), (3999, 0.004151804343152315), (4000, 0.022047264753850264), (4001, 0.010753672463841141), (4002, 0.01014968086528096), (4003, 0.0), (4004, 0.0034195134183714), (4005, 0.0036029177439605526), (4006, 0.00536463795295485), (4007, 0.007632584909958734), (4008, 0.0), (4009, 0.03057600989477391), (4010, 0.0), (4011, 0.003166672594706874), (4012, 0.005066060281384312), (4013, 0.009515128973467074), (4014, 0.003411630461789864), (4015, 0.025179797100965053), (4016, 0.01438141737012195), (4017, 0.004575634840144482), (4018, 0.024514929065621364), (4019, 0.004371004812392389), (4020, 0.014147774465623762), (4021, 0.0), (4022, 0.0), (4023, 0.04702400376350369), (4024, 0.0036412486333019215), (4025, 0.026098716843998226), (4026, 0.0), (4027, 0.0), (4028, 0.0), (4029, 0.01082821279838162), (4030, 0.003946623373855818), (4031, 0.006274868596086285), (4032, 0.02272486417177294), (4033, 0.003557195436343581), (4034, 0.0), (4035, 0.0), (4036, 0.02171818938579116), (4037, 0.0), (4038, 0.009343414190095854), (4039, 0.0), (4040, 0.0), (4041, 0.0), (4042, 0.015927877494008442), (4043, 0.0), (4044, 0.0), (4045, 0.0), (4046, 0.00369645273564427), (4047, 0.0), (4048, 0.003691287377166932), (4049, 0.0034220574071381696), (4050, 0.0), (4051, 0.003761792736817936), (4052, 0.003563635263346821), (4053, 0.0030595864490264328), (4054, 0.0035753357631571614), (4055, 0.009683077947121067), (4056, 0.0033536239107544615), (4057, 0.0227731217717308), (4058, 0.0), (4059, 0.008173023125639443), (4060, 0.0033499859961651558), (4061, 0.03384868063445682), (4062, 0.03342351111372815), (4063, 0.0), (4064, 0.0059547084122716885), (4065, 0.0), (4066, 0.0029611238068189476), (4067, 0.01622705862117791), (4068, 0.008878840119131582), (4069, 0.0032568401486228575), (4070, 0.010737575654030964), (4071, 0.0), (4072, 0.0), (4073, 0.0), (4074, 0.007865065820953714), (4075, 0.003934393201417583), (4076, 0.005782774685810492), (4077, 0.005914568812739921), (4078, 0.0), (4079, 0.0034954017907959938), (4080, 0.0030232893175993533), (4081, 0.03231214246096284), (4082, 0.004763321584757725), (4083, 0.01505581798822694), (4084, 0.04478153224491199), (4085, 0.003209235308352167), (4086, 0.0), (4087, 0.027688189057912625), (4088, 0.0), (4089, 0.053465218999501705), (4090, 0.0), (4091, 0.005898028977981513), (4092, 0.01631982843925944), (4093, 0.03959028437243843), (4094, 0.0), (4095, 0.05141066305713952), (4096, 0.0), (4097, 0.0), (4098, 0.003456289798780403), (4099, 0.025614028403394926), (4100, 0.0), (4101, 0.08630321816157745), (4102, 0.004281213180852378), (4103, 0.0), (4104, 0.0029887648486067423), (4105, 0.0), (4106, 0.07738499897323196), (4107, 0.004163515544019728), (4108, 0.006006327068482928), (4109, 0.004856931544803432), (4110, 0.009527993820093056), (4111, 0.0036096242020961767), (4112, 0.005239475469026121), (4113, 0.1109416355530687), (4114, 0.0), (4115, 0.014908753907560239), (4116, 0.003676076017143727), (4117, 0.06054039399628525), (4118, 0.011577024541346572), (4119, 0.024212710225663712), (4120, 0.005983309827165529), (4121, 0.07012778239281778), (4122, 0.0), (4123, 0.00356023285800439), (4124, 0.008269647841427596), (4125, 0.019583816898371423), (4126, 0.003923616488556897), (4127, 0.0), (4128, 0.0), (4129, 0.0032637086969370434), (4130, 0.036371218853441085), (4131, 0.0), (4132, 0.0036294125567515973), (4133, 0.0036766209612712837), (4134, 0.0), (4135, 0.008863606748524131), (4136, 0.00910438233141181), (4137, 0.08626335088868306), (4138, 0.0037374481290382146), (4139, 0.022813468528488333), (4140, 0.01575675859164493), (4141, 0.003006358930943922), (4142, 0.004310914877552805), (4143, 0.017788119438649934), (4144, 0.0), (4145, 0.003960820141121078), (4146, 0.0), (4147, 0.004105657201155205), (4148, 0.0), (4149, 0.028028597724389717), (4150, 0.03147034215822101), (4151, 0.005793291080254242), (4152, 0.008338328190490478), (4153, 0.0), (4154, 0.00304684165643766), (4155, 0.05418351923038059), (4156, 0.007660980286673537), (4157, 0.005260166707896009), (4158, 0.020798901886668712), (4159, 0.0), (4160, 0.0037804738600707866), (4161, 0.0036274374878374426), (4162, 0.0), (4163, 0.003909259014542599), (4164, 0.0), (4165, 0.0), (4166, 0.04705362220785049), (4167, 0.0), (4168, 0.051724597101352444), (4169, 0.0035917340814422705), (4170, 0.0), (4171, 0.006176653790656682), (4172, 0.004457632252899081), (4173, 0.0), (4174, 0.008044134133722012), (4175, 0.0035903888510616065), (4176, 0.03448367135573332), (4177, 0.0), (4178, 0.023339225890548838), (4179, 0.0), (4180, 0.0), (4181, 0.0), (4182, 0.0025581618244111793), (4183, 0.01398709052014011), (4184, 0.0), (4185, 0.043007013523887305), (4186, 0.028653948558045948), (4187, 0.003825905041055928), (4188, 0.0), (4189, 0.06550810470883706), (4190, 0.0), (4191, 0.0), (4192, 0.013661056284323072), (4193, 0.0), (4194, 0.006574549140967355), (4195, 0.0), (4196, 0.0), (4197, 0.0034374091309004456), (4198, 0.0), (4199, 0.0), (4200, 0.002787803336783692), (4201, 0.01922765299762002), (4202, 0.004714800938101497), (4203, 0.010130525741272708), (4204, 0.0), (4205, 0.01739528653450189), (4206, 0.003202862400343067), (4207, 0.0), (4208, 0.023593555857256584), (4209, 0.027237054422949408), (4210, 0.02456989306132556), (4211, 0.0), (4212, 0.024392692754177103), (4213, 0.0032062579072896368), (4214, 0.0), (4215, 0.0), (4216, 0.0), (4217, 0.005184498857448295), (4218, 0.005250573022372517), (4219, 0.0), (4220, 0.0029745596495043387), (4221, 0.02971804199794768), (4222, 0.056915207692725366), (4223, 0.03104396433454468), (4224, 0.01080599910154601), (4225, 0.00353952266917025), (4226, 0.005868289458135465), (4227, 0.020815082014147772), (4228, 0.003331200935827446), (4229, 0.0), (4230, 0.004320365801402259), (4231, 0.003596857770768278), (4232, 0.0029313475951259806), (4233, 0.0), (4234, 0.0), (4235, 0.0), (4236, 0.01743802184710183), (4237, 0.0), (4238, 0.0), (4239, 0.0), (4240, 0.005859798032053457), (4241, 0.03375456424968734), (4242, 0.010857493474640195), (4243, 0.003838580372574493), (4244, 0.0038628510798646323), (4245, 0.0036227471613475056), (4246, 0.0031925642151207777), (4247, 0.028243582719135792), (4248, 0.04910815068736941), (4249, 0.0034790397047079783), (4250, 0.0), (4251, 0.01933146014043752), (4252, 0.005164534128344355), (4253, 0.0), (4254, 0.0031660042277763677), (4255, 0.031522209510759576), (4256, 0.0), (4257, 0.008232994750320735), (4258, 0.0), (4259, 0.0037453409542393856), (4260, 0.04017478280682369), (4261, 0.0), (4262, 0.009073443974445115), (4263, 0.01588356203618509), (4264, 0.03849741527323378), (4265, 0.04301029526770373), (4266, 0.014551909256542714), (4267, 0.01619916086476922), (4268, 0.003358226149875996), (4269, 0.04022601792283696), (4270, 0.0), (4271, 0.00664200316240001), (4272, 0.005092367792002375), (4273, 0.0034504564796621773), (4274, 0.0), (4275, 0.0), (4276, 0.0), (4277, 0.0030884583514795504), (4278, 0.01095506349514331), (4279, 0.005133117346306283), (4280, 0.003996093271800733), (4281, 0.006203934324541607), (4282, 0.06992301496743103), (4283, 0.05781343450997866), (4284, 0.00857521743725663), (4285, 0.0), (4286, 0.003564953039093349), (4287, 0.0244074047030839), (4288, 0.006860997156583904), (4289, 0.0), (4290, 0.009689440697358104), (4291, 0.0), (4292, 0.005057430386619647), (4293, 0.003762566697674823), (4294, 0.0), (4295, 0.0038497533029166393), (4296, 0.0029370196633742795), (4297, 0.009837812049516), (4298, 0.03942280334932785), (4299, 0.0032916319526012914), (4300, 0.0), (4301, 0.00250164440537216), (4302, 0.0), (4303, 0.0), (4304, 0.00302625714887434), (4305, 0.0), (4306, 0.004168683751588883), (4307, 0.0), (4308, 0.0036977047564210174), (4309, 0.003291019733596602), (4310, 0.04355020385965866), (4311, 0.03765751094030195), (4312, 0.05069238060645017), (4313, 0.0), (4314, 0.03766887357479689), (4315, 0.0), (4316, 0.0), (4317, 0.0), (4318, 0.033955920042173585), (4319, 0.0), (4320, 0.02356484262915634), (4321, 0.013729539785903654), (4322, 0.17332584049808605), (4323, 0.0), (4324, 0.0), (4325, 0.0), (4326, 0.003091378014694095), (4327, 0.0), (4328, 0.010029080526567381), (4329, 0.0), (4330, 0.01979995657503612), (4331, 0.0), (4332, 0.011647089197353508), (4333, 0.00379416437964594), (4334, 0.0034849784644450468), (4335, 0.0), (4336, 0.031038955695364415), (4337, 0.0), (4338, 0.00586295996900005), (4339, 0.004903299596011847), (4340, 0.05310745716434417), (4341, 0.0), (4342, 0.02360938833759577), (4343, 0.0029824515373318263), (4344, 0.028177282741179706), (4345, 0.003198343889069734), (4346, 0.0), (4347, 0.0), (4348, 0.008037175477374817), (4349, 0.0033155727886648987), (4350, 0.07554637961408858), (4351, 0.0057564116934524364), (4352, 0.0), (4353, 0.05243723404594493), (4354, 0.08380459875648466), (4355, 0.003592149929705808), (4356, 0.0031358447636118665), (4357, 0.02369354079475025), (4358, 0.0), (4359, 0.00307839285081184), (4360, 0.0), (4361, 0.03343238980980026), (4362, 0.0033015546403290033), (4363, 0.14782388569794408), (4364, 0.020272230965536653), (4365, 0.0), (4366, 0.0), (4367, 0.0), (4368, 0.042206704960295105), (4369, 0.0038792360166520507), (4370, 0.05733261153485274), (4371, 0.0036158081448167075), (4372, 0.10802985998995926), (4373, 0.004040817391471493), (4374, 0.013391329352962108), (4375, 0.011219002173805998), (4376, 0.016831594110839256), (4377, 0.0), (4378, 0.0), (4379, 0.00905510249828693), (4380, 0.0), (4381, 0.003268871029531861), (4382, 0.09172108899201435), (4383, 0.0), (4384, 0.0), (4385, 0.0), (4386, 0.0029080699620443835), (4387, 0.008521801504445198), (4388, 0.024910385375944116), (4389, 0.0), (4390, 0.0), (4391, 0.0034075784145156927), (4392, 0.059879834417074534), (4393, 0.0), (4394, 0.008672460859543955), (4395, 0.00850231440312152), (4396, 0.0037724456841067983), (4397, 0.0037526158039349836), (4398, 0.003896243189348428), (4399, 0.013332551861948821), (4400, 0.004298343166577685), (4401, 0.0037672560514116294), (4402, 0.00808127648158393), (4403, 0.040957605610885676), (4404, 0.02069173470697546), (4405, 0.0), (4406, 0.005677743819213203), (4407, 0.004410458558718325), (4408, 0.0), (4409, 0.003351897333449288), (4410, 0.0), (4411, 0.0028886643137964537), (4412, 0.003949833725122034), (4413, 0.0), (4414, 0.012442132830310423), (4415, 0.02501181259434655), (4416, 0.0039689904594321194), (4417, 0.0), (4418, 0.09173202385831902), (4419, 0.0035151514319986593), (4420, 0.0035554468548463676), (4421, 0.0), (4422, 0.03947368347204069), (4423, 0.03302809900733019), (4424, 0.0), (4425, 0.0), (4426, 0.0), (4427, 0.0033680596464705868), (4428, 0.018790603405860678), (4429, 0.002927634391606953), (4430, 0.0035302939390271927), (4431, 0.0367464121306861), (4432, 0.0029512850982008646), (4433, 0.0), (4434, 0.0), (4435, 0.003387930080571216), (4436, 0.005788181944446743), (4437, 0.0), (4438, 0.00514621905197346), (4439, 0.0), (4440, 0.014130481932067802), (4441, 0.015595115645082067), (4442, 0.04534568891699037), (4443, 0.00413058341994273), (4444, 0.011448452504781763), (4445, 0.0025312756640043206), (4446, 0.015819737354772597), (4447, 0.0), (4448, 0.0619440456162112), (4449, 0.006298280274590594), (4450, 0.004758308746722517), (4451, 0.0), (4452, 0.0), (4453, 0.0), (4454, 0.05126245768430817), (4455, 0.0), (4456, 0.0), (4457, 0.0), (4458, 0.004021447618984194), (4459, 0.056483432861692655), (4460, 0.00608455716904505), (4461, 0.00324603470499986), (4462, 0.027374214839030013), (4463, 0.0), (4464, 0.03802396490083704), (4465, 0.08045913474006579), (4466, 0.0), (4467, 0.005544674126004803), (4468, 0.03410921834859334), (4469, 0.0042129027195636475), (4470, 0.003476336036126523), (4471, 0.0035756162578777077), (4472, 0.008448197066452293), (4473, 0.007611659148257495), (4474, 0.0035502803024875743), (4475, 0.0030321257423176545), (4476, 0.02749736500127152), (4477, 0.010210403398556264), (4478, 0.0), (4479, 0.029596100437519268), (4480, 0.0), (4481, 0.005128644853468444), (4482, 0.005323894773030007), (4483, 0.02249286863603163), (4484, 0.019227436950600942), (4485, 0.0), (4486, 0.017016551661982716), (4487, 0.003321979520924862), (4488, 0.0), (4489, 0.0035761555530613004), (4490, 0.003998749951695451), (4491, 0.0), (4492, 0.06623491363106024), (4493, 0.0), (4494, 0.0038091988456524814), (4495, 0.0036116222971950855), (4496, 0.0), (4497, 0.0035301602920744923), (4498, 0.0), (4499, 0.0), (4500, 0.050233271005251705), (4501, 0.05187795669283917), (4502, 0.003079599737549179), (4503, 0.008814184035786914), (4504, 0.008435069259308713), (4505, 0.003569087405216816), (4506, 0.0), (4507, 0.09201641513926666), (4508, 0.0), (4509, 0.0), (4510, 0.08145090276010596), (4511, 0.028836402582143483), (4512, 0.0), (4513, 0.0), (4514, 0.0), (4515, 0.005973110235548228), (4516, 0.003866493818640703), (4517, 0.022361868915988146), (4518, 0.0245859540741655), (4519, 0.0), (4520, 0.03181087587827696), (4521, 0.004208687096587479), (4522, 0.0036745509904894794), (4523, 0.008360409163273744), (4524, 0.00640556987660417), (4525, 0.0), (4526, 0.0), (4527, 0.021680613672313817), (4528, 0.05033698701504763), (4529, 0.004520954152134425), (4530, 0.0032976400713133265), (4531, 0.02193080079526593), (4532, 0.0), (4533, 0.05255238742632404), (4534, 0.0), (4535, 0.024878478096182155), (4536, 0.0032214360926524272), (4537, 0.0), (4538, 0.0), (4539, 0.0), (4540, 0.003623044852565604), (4541, 0.008767526261540851), (4542, 0.018642095862531117), (4543, 0.0), (4544, 0.004206319093182803), (4545, 0.053293211353812965), (4546, 0.004358459371549374), (4547, 0.0), (4548, 0.00503179879410926), (4549, 0.018212026467485962), (4550, 0.028106616125594733), (4551, 0.015612611428082191), (4552, 0.0), (4553, 0.0), (4554, 0.01714237009306171), (4555, 0.005081858066204424), (4556, 0.03632505875386932), (4557, 0.0), (4558, 0.0), (4559, 0.0), (4560, 0.0), (4561, 0.0), (4562, 0.0), (4563, 0.05265417313458671), (4564, 0.005168445110915822), (4565, 0.0), (4566, 0.0035544814230880424), (4567, 0.003222607513319345), (4568, 0.046549045518822565), (4569, 0.0), (4570, 0.0), (4571, 0.005357937202726295), (4572, 0.00413824071117389), (4573, 0.031151490730133877), (4574, 0.015441002607260418), (4575, 0.003567644947059298), (4576, 0.01370229004242734), (4577, 0.010145224169743845), (4578, 0.0), (4579, 0.0036344268726902457), (4580, 0.0), (4581, 0.0), (4582, 0.0), (4583, 0.0), (4584, 0.026131566235617777), (4585, 0.0), (4586, 0.0), (4587, 0.041464683283879145), (4588, 0.0), (4589, 0.02944489878717134), (4590, 0.043474942601234384), (4591, 0.047756901581754774), (4592, 0.04294555069580949), (4593, 0.0037493847989618014), (4594, 0.01029414141370066), (4595, 0.0), (4596, 0.04158545218000427), (4597, 0.0), (4598, 0.07008177883195625), (4599, 0.025348616786862125), (4600, 0.00491229350088668), (4601, 0.0036906334188090144), (4602, 0.056337712368977784), (4603, 0.0031452539264053285), (4604, 0.05199794259975487), (4605, 0.0570370201260632), (4606, 0.0042687460151376215), (4607, 0.004896295908614024), (4608, 0.05140488848895754), (4609, 0.0), (4610, 0.00282987894575773), (4611, 0.004494381154615504), (4612, 0.024635337381754663), (4613, 0.005682413091395346), (4614, 0.0032207104500269848), (4615, 0.0), (4616, 0.003114756379478093), (4617, 0.004611622425969291), (4618, 0.054574519322036205), (4619, 0.003720272154956273), (4620, 0.03638196510502009), (4621, 0.005609181571288912), (4622, 0.02001485442190831), (4623, 0.0), (4624, 0.04761732695551907), (4625, 0.003501030205104163), (4626, 0.0027261082224027703), (4627, 0.027573313130498635), (4628, 0.0), (4629, 0.0591659243468301), (4630, 0.0), (4631, 0.0), (4632, 0.003975214756573663), (4633, 0.09414799931230176), (4634, 0.04875107416752423), (4635, 0.0076350176222390554), (4636, 0.027098818759067868), (4637, 0.004001031342311889), (4638, 0.021550614927495035), (4639, 0.0), (4640, 0.03219371421490295), (4641, 0.03139133418320952), (4642, 0.0), (4643, 0.003468385626288787), (4644, 0.0), (4645, 0.0), (4646, 0.006843945302285979), (4647, 0.023167864216496126), (4648, 0.0), (4649, 0.07850030000659543), (4650, 0.0038858420978056356), (4651, 0.0), (4652, 0.039607695345778085), (4653, 0.0), (4654, 0.05764263807615877), (4655, 0.0), (4656, 0.020332460971677513), (4657, 0.015509952410854143), (4658, 0.13144208295416168), (4659, 0.017715960331930306), (4660, 0.010777046021446877), (4661, 0.002988852760661929), (4662, 0.0), (4663, 0.0), (4664, 0.0), (4665, 0.0), (4666, 0.0), (4667, 0.0), (4668, 0.0033223986017969402), (4669, 0.0559254024677466), (4670, 0.0032298987712122778), (4671, 0.0), (4672, 0.0), (4673, 0.013967529517754092), (4674, 0.01133065985802825), (4675, 0.045702919425172024), (4676, 0.0), (4677, 0.02574371330092147), (4678, 0.03992790475006824), (4679, 0.0221167446172202), (4680, 0.03435780238950586), (4681, 0.0), (4682, 0.010417096635160586), (4683, 0.0), (4684, 0.019241862310608083), (4685, 0.028464292676153323), (4686, 0.05967593312945654), (4687, 0.00854559792928025), (4688, 0.0), (4689, 0.00489802185218837), (4690, 0.0), (4691, 0.0), (4692, 0.004208979145225339), (4693, 0.003275313375878285), (4694, 0.003961819253580375), (4695, 0.027001383362708544), (4696, 0.004417392614221022), (4697, 0.0), (4698, 0.0), (4699, 0.025078796830008937), (4700, 0.0), (4701, 0.004018683474735998), (4702, 0.03930091730570043), (4703, 0.0), (4704, 0.0046063523175334875), (4705, 0.0048208628845172), (4706, 0.0037460836327760554), (4707, 0.0), (4708, 0.0), (4709, 0.0), (4710, 0.018228633430449163), (4711, 0.0), (4712, 0.003037486895447079), (4713, 0.003903296141506888), (4714, 0.0), (4715, 0.003380542958296819), (4716, 0.0), (4717, 0.003981417166893977), (4718, 0.0037816314422817483), (4719, 0.045756073046407844), (4720, 0.0), (4721, 0.0), (4722, 0.0036554359201594316), (4723, 0.03928954288097925), (4724, 0.004156492891131365), (4725, 0.0), (4726, 0.0), (4727, 0.051539567998206734), (4728, 0.0), (4729, 0.03086668027262368), (4730, 0.0), (4731, 0.003817638051625254), (4732, 0.00953238884366332), (4733, 0.042844548408266035), (4734, 0.003643923446768985), (4735, 0.003990010123888609), (4736, 0.0), (4737, 0.0), (4738, 0.0), (4739, 0.006875895560895263), (4740, 0.0), (4741, 0.0), (4742, 0.0), (4743, 0.003289976096593293), (4744, 0.00273339964611298), (4745, 0.03885561830780641), (4746, 0.0), (4747, 0.0), (4748, 0.039134734455185845), (4749, 0.0711746197119689), (4750, 0.0), (4751, 0.018319028618917935), (4752, 0.014174936821163567), (4753, 0.0038448357115146805), (4754, 0.0), (4755, 0.005400365374980281), (4756, 0.0034998476791703653), (4757, 0.0035409291348734682), (4758, 0.0), (4759, 0.0)]\n"
          ]
        }
      ]
    },
    {
      "cell_type": "code",
      "source": [
        "len(Recommendation_Score)"
      ],
      "metadata": {
        "colab": {
          "base_uri": "https://localhost:8080/"
        },
        "id": "DqK-F9IPWtGd",
        "outputId": "c9e3a079-78b3-43cc-82fa-82a3fb0f00ef"
      },
      "execution_count": 59,
      "outputs": [
        {
          "output_type": "execute_result",
          "data": {
            "text/plain": [
              "4760"
            ]
          },
          "metadata": {},
          "execution_count": 59
        }
      ]
    },
    {
      "cell_type": "markdown",
      "source": [
        "**Get All Movies Sort Based on Recommendation Score wrt Favourite Movie**"
      ],
      "metadata": {
        "id": "4jmY6pO8XAYs"
      }
    },
    {
      "cell_type": "code",
      "source": [
        "Sorted_Similar_Movies = sorted(Recommendation_Score, key = lambda x:x[1], reverse = True)\n",
        "print(Sorted_Similar_Movies)"
      ],
      "metadata": {
        "colab": {
          "base_uri": "https://localhost:8080/"
        },
        "id": "ba61JWXtXM1V",
        "outputId": "00a664ce-6d6c-4bb5-95ce-1f1ea535183e"
      },
      "execution_count": 60,
      "outputs": [
        {
          "output_type": "stream",
          "name": "stdout",
          "text": [
            "[(3230, 1.0000000000000002), (2176, 0.20610949741430645), (1254, 0.17943126857478017), (4322, 0.17332584049808605), (4363, 0.14782388569794408), (3853, 0.14507692193003602), (1263, 0.13339744051559901), (4658, 0.13144208295416168), (757, 0.1216618554129443), (595, 0.11782766678170883), (1349, 0.11752928386927713), (2730, 0.1164154953645882), (650, 0.11638858120540604), (1220, 0.11128032096043411), (4113, 0.1109416355530687), (4372, 0.10802985998995926), (2009, 0.10586234618724003), (680, 0.1043501870203017), (3041, 0.10429557915067555), (1547, 0.10298721886185737), (2309, 0.10160325309399829), (3562, 0.10110515508704167), (1837, 0.09862082279006795), (425, 0.09738937521904494), (388, 0.09727204724341365), (3388, 0.09592624016211412), (4633, 0.09414799931230176), (2683, 0.09248982823199255), (1971, 0.09203612996731093), (4507, 0.09201641513926666), (4418, 0.09173202385831902), (4382, 0.09172108899201435), (850, 0.09169450281310774), (2592, 0.09045169201600393), (1234, 0.0896938910801918), (3778, 0.08878848960390183), (1645, 0.08821257119801203), (689, 0.0865943256751961), (3463, 0.08634171044782785), (4101, 0.08630321816157745), (4137, 0.08626335088868306), (1059, 0.08619028095248685), (2649, 0.08616545223708634), (3240, 0.08585982580080564), (280, 0.08525525669852728), (660, 0.08390578825980982), (4354, 0.08380459875648466), (3745, 0.08258401259547193), (2645, 0.08204789275338786), (544, 0.08168141959065417), (4510, 0.08145090276010596), (2975, 0.08121186221345139), (1728, 0.08086150963771788), (4465, 0.08045913474006579), (321, 0.07933608854423566), (3218, 0.07925862341976149), (2661, 0.07916017317103233), (3206, 0.07859468429461972), (958, 0.0785670710859161), (4649, 0.07850030000659543), (391, 0.07775655085928622), (1033, 0.0775827666791363), (4106, 0.07738499897323196), (694, 0.07683225449696905), (45, 0.07608366820984105), (2239, 0.07602457131669958), (4350, 0.07554637961408858), (2429, 0.07539107468956285), (1696, 0.07521470246805814), (550, 0.07501576698931357), (2141, 0.07472589541254365), (949, 0.07421971094209884), (1827, 0.07388352400338985), (204, 0.07387398007356492), (2793, 0.07331323197012235), (560, 0.07292715164987924), (2844, 0.07274199747656951), (3444, 0.07255084740301357), (1001, 0.07217783967379923), (3560, 0.07200441689425847), (2792, 0.07179398118766687), (684, 0.07176978298579666), (2339, 0.07147019117784395), (1725, 0.07118905882138549), (4749, 0.0711746197119689), (1523, 0.07054356518245038), (2998, 0.0703760530092124), (4121, 0.07012778239281778), (4598, 0.07008177883195625), (2020, 0.07003666450237826), (4282, 0.06992301496743103), (322, 0.06960866691027343), (3472, 0.06911618217153981), (1663, 0.06879400667000225), (677, 0.06857693237511726), (918, 0.0684768720764167), (3140, 0.06789150093303815), (1011, 0.06767404952560467), (196, 0.06728844525996282), (3299, 0.06726789118331535), (729, 0.06717203476045731), (2448, 0.06705969328319714), (653, 0.06642099875423015), (2686, 0.0662814386278992), (1014, 0.0662780001133808), (4492, 0.06623491363106024), (3951, 0.06617814399185802), (3772, 0.0659210313711479), (4189, 0.06550810470883706), (2234, 0.06548474487245735), (131, 0.06516904976227442), (2942, 0.06504312695698579), (1494, 0.06502861210632523), (2015, 0.0649842099882557), (124, 0.06480680681260631), (73, 0.06475704997697057), (21, 0.06441753280316576), (1118, 0.06406617457768833), (1758, 0.06373847768281492), (424, 0.06351896872344746), (3743, 0.06343790572424271), (3477, 0.06321788181840879), (2714, 0.06314245597781225), (3857, 0.0629945345062585), (1224, 0.06288045009180185), (884, 0.06207276673421934), (2310, 0.06197221242520313), (4448, 0.0619440456162112), (31, 0.061820502009099755), (1064, 0.06162854725005891), (1304, 0.061624262913139695), (806, 0.06156979347909338), (1158, 0.06146397069616213), (3451, 0.060951051673439685), (3069, 0.06058432441731169), (4117, 0.06054039399628525), (3763, 0.060515683771448114), (2043, 0.060380463065790715), (2791, 0.06029925884406745), (1769, 0.06026850178109354), (4392, 0.059879834417074534), (1896, 0.05978730779684658), (4686, 0.05967593312945654), (1674, 0.05951221695352623), (1013, 0.059478153680634464), (2629, 0.059468178183174736), (1398, 0.05944191000527981), (1640, 0.0594368446608835), (3758, 0.05939765258883619), (1275, 0.05924863314108267), (1520, 0.059170399645466464), (4629, 0.0591659243468301), (3161, 0.058835892593497495), (1477, 0.058819226184783836), (1915, 0.05830665500780274), (2241, 0.05817309749500575), (2854, 0.05802395740507212), (1813, 0.05792269351199679), (3193, 0.05791997894010246), (4283, 0.05781343450997866), (4654, 0.05764263807615877), (3643, 0.05761792247954965), (3829, 0.057610623894238135), (1832, 0.05748976647280723), (4370, 0.05733261153485274), (2342, 0.057191055256284075), (791, 0.05714490922608113), (2169, 0.05708292648270384), (1027, 0.05705076444274829), (4605, 0.0570370201260632), (714, 0.0569560362616331), (4222, 0.056915207692725366), (3925, 0.05685665523959364), (731, 0.05671229174455722), (1464, 0.05667364660012376), (748, 0.05660506038418604), (4459, 0.056483432861692655), (488, 0.05647377980190269), (4602, 0.056337712368977784), (105, 0.056249302374220565), (1708, 0.055992649036892383), (4669, 0.0559254024677466), (1807, 0.05563176335974792), (3046, 0.05562718477957953), (3557, 0.0556175190423671), (1208, 0.05554242500809867), (924, 0.05513295000267039), (1073, 0.055066995140026984), (2066, 0.05485309154597226), (454, 0.054803328278818966), (4618, 0.054574519322036205), (4155, 0.05418351923038059), (2257, 0.05417068393087111), (3784, 0.05398448238026928), (262, 0.053943178836874675), (1018, 0.053767409871824184), (4089, 0.053465218999501705), (4545, 0.053293211353812965), (4340, 0.05310745716434417), (3022, 0.05300496610800044), (4563, 0.05265417313458671), (4533, 0.05255238742632404), (2069, 0.052551975986670656), (4353, 0.05243723404594493), (969, 0.05241052510674353), (419, 0.05220318388406798), (448, 0.052156622707419636), (4604, 0.05199794259975487), (688, 0.051930021793214355), (1756, 0.051894342951663834), (4501, 0.05187795669283917), (4168, 0.051724597101352444), (3017, 0.05169052227616839), (4727, 0.051539567998206734), (1578, 0.051475216493000076), (4095, 0.05141066305713952), (4608, 0.05140488848895754), (4454, 0.05126245768430817), (1700, 0.05119165033748864), (2175, 0.050983860156493546), (2445, 0.05090028496805409), (4312, 0.05069238060645017), (3656, 0.05062061465582642), (3930, 0.05059814496661512), (3641, 0.05045787117295471), (2261, 0.05042923083330218), (409, 0.050423283776818734), (2980, 0.050359807470842365), (4528, 0.05033698701504763), (1443, 0.05029253168440682), (3265, 0.05023499431986774), (4500, 0.050233271005251705), (2226, 0.05020979810524607), (2423, 0.050181690448512783), (2570, 0.04994799943516738), (440, 0.049925128021975296), (943, 0.049782030234570035), (1660, 0.049569619326886034), (2845, 0.049230150242070975), (3232, 0.049215611543332295), (2525, 0.04919690422740912), (1191, 0.04912655285712299), (4248, 0.04910815068736941), (3437, 0.049075063448979724), (3110, 0.04894184463307366), (1822, 0.048928874160105204), (2924, 0.048795984050957954), (4634, 0.04875107416752423), (828, 0.0485062382266072), (2403, 0.04849366046784965), (1184, 0.048414330103584105), (244, 0.04832713838070049), (813, 0.048148978961337206), (3941, 0.04811888450584353), (3125, 0.048041754557667245), (526, 0.04803330991980954), (3571, 0.047935472284704954), (1486, 0.047771927808746416), (1576, 0.047770105785120344), (4591, 0.047756901581754774), (2048, 0.047706782573692895), (555, 0.047638417286156864), (4624, 0.04761732695551907), (1514, 0.04752139080890401), (3205, 0.04724057633455684), (211, 0.047231417939891066), (2481, 0.047231407603387204), (3924, 0.04712512802695571), (1282, 0.04711522710490527), (1984, 0.04709807605532741), (235, 0.047093309475141086), (4166, 0.04705362220785049), (4023, 0.04702400376350369), (3775, 0.046933249884390356), (2831, 0.046931830474885895), (146, 0.046928730220013155), (654, 0.04683177272529224), (1170, 0.04680263825019061), (561, 0.04666739589610316), (1972, 0.04665245729134969), (2283, 0.046590480690672335), (1718, 0.04657485910860858), (4568, 0.046549045518822565), (1106, 0.04652785632080226), (108, 0.04649390758931792), (3568, 0.04636624105235258), (896, 0.04636022279319668), (911, 0.04635885963171753), (1077, 0.046163344449567684), (1192, 0.046112834821665), (615, 0.046072336374291166), (2878, 0.046064153791288705), (473, 0.04602086966624907), (1338, 0.0459808771957038), (626, 0.04595987609412455), (1326, 0.04595153004152939), (4719, 0.045756073046407844), (111, 0.04574795762891469), (2253, 0.04570394910231873), (4675, 0.045702919425172024), (1540, 0.04563572720630518), (2477, 0.0454586974263048), (4442, 0.04534568891699037), (3208, 0.04517985199688831), (574, 0.045003374512573274), (1461, 0.044930956611130286), (4084, 0.04478153224491199), (3757, 0.04463964414512165), (1742, 0.04452603497488892), (1145, 0.04443558184090861), (1108, 0.04439096402517748), (523, 0.044190226242496675), (3419, 0.04408166600233129), (3818, 0.04406481099981688), (28, 0.04404231463803187), (1119, 0.04386293497637537), (985, 0.043695642633157006), (658, 0.04364323852418827), (2148, 0.04361037218377985), (2022, 0.04356546389160984), (4310, 0.04355020385965866), (4590, 0.043474942601234384), (2302, 0.04338617456364488), (257, 0.0433602879452399), (1195, 0.04334419483435128), (3657, 0.04333223722842899), (3493, 0.04331312934368145), (1692, 0.0432569065218035), (4265, 0.04301029526770373), (4185, 0.043007013523887305), (377, 0.042989232656042944), (4592, 0.04294555069580949), (4733, 0.042844548408266035), (2634, 0.04272316953560889), (3127, 0.0426889024945806), (2091, 0.0426605125331613), (3152, 0.04261762524696303), (2077, 0.04247254119039617), (2291, 0.04246402522875931), (628, 0.042420848987574075), (115, 0.0423143093633602), (1347, 0.04222837008469983), (4368, 0.042206704960295105), (456, 0.04218759187562734), (2292, 0.042147589505006945), (1634, 0.04206101693578808), (1563, 0.0420481738773251), (1163, 0.04200073345134728), (3816, 0.0419992378487036), (112, 0.04194225563869643), (2243, 0.041903092205229676), (1274, 0.04185337498978578), (318, 0.041743979933750924), (400, 0.04168858204962125), (2555, 0.041675371384794324), (3869, 0.04166742089921921), (4596, 0.04158545218000427), (100, 0.04157181530921768), (3270, 0.04154298326863405), (3465, 0.04152625962233121), (2050, 0.041484233019982025), (4587, 0.041464683283879145), (1897, 0.04141591489996718), (3796, 0.041360664009819574), (3468, 0.041333107732738746), (973, 0.041212626335444924), (2327, 0.041089204568033624), (1717, 0.04100909302070339), (2516, 0.04100830139071887), (2491, 0.04096725109491938), (4403, 0.040957605610885676), (865, 0.04088600652455553), (2530, 0.040842414093684595), (2664, 0.04072291319321409), (1445, 0.04051125525411758), (2562, 0.04044312019174371), (541, 0.040356906991252696), (1955, 0.04028433531844153), (4269, 0.04022601792283696), (4260, 0.04017478280682369), (2217, 0.04014929030436067), (1759, 0.04009777809317668), (2829, 0.04006198726873731), (609, 0.040039770157115684), (1878, 0.04001611277930213), (1003, 0.03993111428096838), (4678, 0.03992790475006824), (3628, 0.039856117181564885), (2438, 0.03980305659096955), (3569, 0.03973996046201389), (4652, 0.039607695345778085), (2514, 0.03959405226898482), (4093, 0.03959028437243843), (1845, 0.03953404888019284), (1672, 0.039531970600114104), (3513, 0.03951095591084932), (4422, 0.03947368347204069), (4298, 0.03942280334932785), (4702, 0.03930091730570043), (4723, 0.03928954288097925), (1550, 0.03926409584745625), (1500, 0.03925353621398106), (2156, 0.03924283959098284), (4748, 0.039134734455185845), (593, 0.038960709701667894), (1444, 0.03887337342160956), (4745, 0.03885561830780641), (1608, 0.03884891332385483), (3779, 0.03880322296174044), (331, 0.0388000880090347), (1205, 0.03878030979793678), (1950, 0.038751974337052845), (777, 0.03862182068769213), (2621, 0.038564272889293885), (2614, 0.0385531704869459), (4264, 0.03849741527323378), (2653, 0.03842471892732899), (3305, 0.03840699366794253), (1455, 0.03830481643141131), (875, 0.038223304742475046), (4464, 0.03802396490083704), (1377, 0.03798691918290879), (148, 0.03794549984897039), (2299, 0.03777866998730932), (2221, 0.037750892946171455), (661, 0.03770552830661592), (4314, 0.03766887357479689), (4311, 0.03765751094030195), (3398, 0.03758947212479646), (2741, 0.03756715319423567), (771, 0.037519942977775625), (1406, 0.03748231027394773), (2611, 0.03737551661262869), (1425, 0.03730413271805118), (3102, 0.037146470630235996), (3435, 0.037137580999786916), (1776, 0.03705458494036843), (91, 0.03701856818363323), (2416, 0.036961147207281324), (2865, 0.03691440728637722), (2463, 0.036862958699728623), (721, 0.03681906963696542), (3747, 0.03678285160800549), (4431, 0.0367464121306861), (1223, 0.036604348430675476), (4620, 0.03638196510502009), (4130, 0.036371218853441085), (4556, 0.03632505875386932), (2996, 0.03627565626816345), (3194, 0.03605392372378523), (1913, 0.03596755145033839), (190, 0.035964741037017446), (1038, 0.035678867248482626), (3912, 0.035579949038233395), (1580, 0.035458962084569785), (1093, 0.035308844820547934), (1695, 0.035110362187494956), (2293, 0.03502704968940055), (3064, 0.03496596366499939), (3294, 0.0349455721777732), (2798, 0.0348919619993848), (3933, 0.03486012300335389), (1801, 0.034753309800919355), (1676, 0.03473760408350953), (2011, 0.0347334923172011), (2317, 0.03469952743798734), (805, 0.034679154088456725), (3432, 0.03457100938435852), (2836, 0.034555382908074556), (1612, 0.034528180979651824), (4176, 0.03448367135573332), (2509, 0.03437583783133147), (4680, 0.03435780238950586), (1783, 0.03429358320455276), (4468, 0.03410921834859334), (3577, 0.03410312462915063), (3921, 0.034097974570128954), (4318, 0.033955920042173585), (4061, 0.03384868063445682), (635, 0.03383266199705011), (3336, 0.03375482151327904), (4241, 0.03375456424968734), (2550, 0.03372189679076237), (816, 0.03368150151970366), (1808, 0.03363306633344361), (3770, 0.03360340855025192), (1365, 0.03354821718171273), (40, 0.033545845554649095), (3382, 0.033530994437903264), (879, 0.033525189027922724), (4361, 0.03343238980980026), (4062, 0.03342351111372815), (2843, 0.03320829591794241), (4423, 0.03302809900733019), (2230, 0.033001439513730746), (1701, 0.032947327682335534), (2917, 0.03286363382634588), (214, 0.03278381057075348), (2931, 0.03275127898202308), (496, 0.032724926463609805), (3865, 0.032702739751157735), (1750, 0.032572449692093546), (786, 0.032415887839902194), (3073, 0.03239530019578165), (2161, 0.032372393586732426), (2720, 0.0323422422909081), (2028, 0.03233667567740452), (4081, 0.03231214246096284), (4640, 0.03219371421490295), (2354, 0.03216632293023576), (2863, 0.03206186425959852), (371, 0.031903204322425376), (407, 0.031876608891930225), (4520, 0.03181087587827696), (1733, 0.0317892507319833), (1043, 0.03168296607706791), (2294, 0.0316792820205884), (1110, 0.03158594174828688), (4255, 0.031522209510759576), (3971, 0.0315044764298279), (4150, 0.03147034215822101), (1138, 0.031455285027883924), (4641, 0.03139133418320952), (2144, 0.03136574941505964), (3402, 0.03131419209271645), (4573, 0.031151490730133877), (4223, 0.03104396433454468), (4336, 0.031038955695364415), (4729, 0.03086668027262368), (1179, 0.03083392128980944), (2092, 0.030720325300507736), (282, 0.03063394898756513), (4009, 0.03057600989477391), (266, 0.03056819069517657), (1402, 0.030401991016079558), (1553, 0.03032512980151754), (127, 0.03027744478055069), (2461, 0.03014974417043815), (551, 0.03011011279710181), (3403, 0.030103598233335978), (3935, 0.030013048008832456), (3487, 0.02989731344021494), (2027, 0.029746784445180176), (4221, 0.02971804199794768), (3913, 0.02966634065932792), (4479, 0.029596100437519268), (3504, 0.02953751760633019), (4589, 0.02944489878717134), (1619, 0.029407846855467403), (129, 0.029380882661333867), (1818, 0.02936553757747509), (759, 0.029257314634660515), (3199, 0.029041346283422045), (765, 0.02902813268850878), (825, 0.02900371735566271), (3147, 0.028948265939351427), (500, 0.028853148896060082), (4511, 0.028836402582143483), (1620, 0.028835477190343864), (328, 0.02873937016976473), (4186, 0.028653948558045948), (2016, 0.02864730112158565), (11, 0.028575951338850464), (4685, 0.028464292676153323), (2126, 0.028458594432972023), (3681, 0.0284420093206161), (895, 0.02843844432752069), (2334, 0.028402998874556638), (4247, 0.028243582719135792), (2103, 0.028230912920698955), (4344, 0.028177282741179706), (1356, 0.02816500189154717), (1431, 0.028125109425618806), (4550, 0.028106616125594733), (4149, 0.028028597724389717), (3875, 0.02792832653567956), (2193, 0.027846242775536923), (2109, 0.02781674707290368), (3246, 0.02779420449719471), (691, 0.027770830139912155), (2143, 0.027719678491278207), (4087, 0.027688189057912625), (3108, 0.027677985364673335), (4627, 0.027573313130498635), (4476, 0.02749736500127152), (1710, 0.027463536267826764), (272, 0.02745814314627499), (597, 0.027439160380321275), (160, 0.02741064406004786), (1126, 0.027375959855753994), (4462, 0.027374214839030013), (2266, 0.02736905261858897), (1509, 0.027354592990177472), (894, 0.027335991992084464), (421, 0.027279447083593422), (4209, 0.027237054422949408), (3031, 0.027151974736719285), (1206, 0.027102728032167473), (4636, 0.027098818759067868), (1420, 0.027042150980404335), (4695, 0.027001383362708544), (3277, 0.02697734037501955), (1225, 0.026869812467303314), (222, 0.02686647122583518), (564, 0.026684037737192995), (669, 0.02667649245811958), (3397, 0.026556291985919106), (1071, 0.02651135303204905), (3365, 0.026446611493698872), (3524, 0.02615178400134403), (4584, 0.026131566235617777), (4025, 0.026098716843998226), (878, 0.026064039761717145), (3819, 0.02605508451423484), (2812, 0.026006316314207703), (2375, 0.025954191790706918), (3111, 0.025948956270065573), (3222, 0.025837252638671558), (3732, 0.02582906184715009), (2269, 0.025797456595900187), (4677, 0.02574371330092147), (2667, 0.02569337899604033), (1610, 0.025668154838657812), (1648, 0.025659973872650454), (3506, 0.02563587190612153), (4099, 0.025614028403394926), (794, 0.025531324797759335), (1471, 0.025480357104600913), (4599, 0.025348616786862125), (3741, 0.025305200659738743), (416, 0.02528751657233251), (2513, 0.025182912690678634), (4015, 0.025179797100965053), (2877, 0.02510642674584327), (4699, 0.025078796830008937), (35, 0.025054497429463286), (1306, 0.025048252628117395), (4415, 0.02501181259434655), (1288, 0.02499060262777124), (352, 0.02496363294509593), (2761, 0.02494935388982938), (4388, 0.024910385375944116), (3722, 0.024905631829598384), (4535, 0.024878478096182155), (3882, 0.02486416267553594), (1666, 0.024808071250135438), (37, 0.024787249099754206), (2008, 0.024769818149106875), (2660, 0.024740214493907082), (41, 0.024732907920257268), (1923, 0.02468564842176771), (3638, 0.02467229156331254), (1587, 0.024657325568918476), (4612, 0.024635337381754663), (4518, 0.0245859540741655), (4210, 0.02456989306132556), (3063, 0.024517034786473223), (4018, 0.024514929065621364), (2744, 0.02448462948773325), (175, 0.02448151159381532), (3765, 0.024436819725736678), (1454, 0.024413920676377696), (4287, 0.0244074047030839), (4212, 0.024392692754177103), (3821, 0.02431453162209721), (3217, 0.024298305379167297), (1860, 0.024296127889271147), (3696, 0.024260555306048676), (4119, 0.024212710225663712), (3033, 0.024209647036778883), (2882, 0.024153693266535967), (8, 0.024139333604827017), (2367, 0.024080697669918348), (1238, 0.02405824712769327), (1959, 0.02404382622177651), (3909, 0.0239040168660723), (962, 0.023854008783499046), (872, 0.02379573074058811), (1888, 0.023795374691692486), (1168, 0.023763111128079425), (227, 0.02375476880291855), (4357, 0.02369354079475025), (3515, 0.023684977676355044), (2543, 0.02365935677455162), (4342, 0.02360938833759577), (1679, 0.02360406157875141), (4208, 0.023593555857256584), (4320, 0.02356484262915634), (3994, 0.023540040090252908), (1714, 0.023424495755844783), (1267, 0.02341672508915765), (178, 0.02338238897950253), (3372, 0.023344052847760276), (4178, 0.023339225890548838), (3067, 0.02333878023486861), (1650, 0.023327360061819038), (2088, 0.02328781292997682), (212, 0.023249271270346625), (2729, 0.023241410001944934), (1796, 0.023239373317217295), (3025, 0.023225150134428878), (1632, 0.023225056124166234), (2561, 0.0231893581992776), (2601, 0.023180923219223444), (4647, 0.023167864216496126), (1983, 0.02314947312626791), (2897, 0.023137414868873104), (752, 0.02312521076825966), (3527, 0.022976331122750892), (3574, 0.02296767894461134), (1442, 0.022929472594082963), (1689, 0.022856084956939055), (3364, 0.0228445308780514), (4139, 0.022813468528488333), (3809, 0.022773530422409954), (4057, 0.0227731217717308), (59, 0.022767970369326845), (815, 0.02275511154139034), (3320, 0.02275108871847885), (3957, 0.02274532739674718), (2338, 0.02272864917416456), (4032, 0.02272486417177294), (1174, 0.022723099680020252), (3203, 0.02270845716066022), (1337, 0.02268321599674253), (3606, 0.02266312397090552), (2285, 0.02263655032865667), (2155, 0.022615972662970423), (3966, 0.022591625878073), (1440, 0.022570558819529095), (3327, 0.022564706207461826), (3950, 0.02251350366413112), (3390, 0.022509476644381722), (4483, 0.02249286863603163), (3718, 0.02246179922186397), (1335, 0.02244874075127498), (848, 0.02241640127403381), (2995, 0.022390452751314467), (1616, 0.02238314812518218), (685, 0.022378679257029247), (2625, 0.02237527957899732), (4517, 0.022361868915988146), (3903, 0.02230728324656626), (3954, 0.022296640338552793), (3534, 0.022291888125921644), (1177, 0.02225466739811368), (2017, 0.02223255907066914), (2047, 0.022230108619341687), (2212, 0.02217923342630715), (2472, 0.02216867694441476), (1495, 0.022163509057843325), (1858, 0.022142853643809322), (734, 0.022125352835808177), (4679, 0.0221167446172202), (701, 0.022089910224749463), (291, 0.02207980123295185), (4000, 0.022047264753850264), (389, 0.022000368439581683), (921, 0.02198725379775907), (534, 0.021953206547026143), (4531, 0.02193080079526593), (1313, 0.021903048907710776), (2388, 0.021844611213689524), (1026, 0.021811194408577813), (15, 0.0217907542011867), (2802, 0.021734477177235003), (4036, 0.02171818938579116), (3518, 0.02168379158522099), (4527, 0.021680613672313817), (2014, 0.021667172050220364), (970, 0.02164671248442608), (125, 0.02158607675836233), (675, 0.02158053151424298), (2305, 0.021565414557967864), (251, 0.021561873688299215), (497, 0.021556123426069877), (4638, 0.021550614927495035), (217, 0.021539135895702468), (2534, 0.021518344972487655), (968, 0.021400600863269396), (2457, 0.02125152192451516), (3061, 0.021175330275438158), (2473, 0.021168698384537027), (2725, 0.021163573442597106), (2964, 0.021146383490459175), (3036, 0.02113254280436072), (2420, 0.021120588800385656), (1260, 0.02103325752259382), (3141, 0.02098823921723343), (2418, 0.020976125359899015), (365, 0.020938918319517746), (3264, 0.020895228780085297), (2343, 0.0208393630723164), (4227, 0.020815082014147772), (2276, 0.020803609750535912), (4158, 0.020798901886668712), (2640, 0.02070535847946696), (4404, 0.02069173470697546), (1630, 0.020670572357111262), (2290, 0.020667391062941996), (1920, 0.02055177058942969), (1991, 0.02054558657637749), (1307, 0.020500897964626064), (4656, 0.020332460971677513), (1770, 0.02027476660680359), (4364, 0.020272230965536653), (2443, 0.020252791423003784), (2225, 0.020240743270030868), (1788, 0.02019030736329828), (2670, 0.02018255756618154), (2045, 0.020111064262022298), (353, 0.02009814652087705), (3109, 0.020081566699181243), (3711, 0.020071530862038587), (2647, 0.020042780452863142), (3979, 0.020019036857757782), (4622, 0.02001485442190831), (3764, 0.020012876476409633), (1510, 0.01997763626182806), (1116, 0.019975481714305073), (1574, 0.019969647604749587), (569, 0.01996078961454141), (4330, 0.01979995657503612), (3029, 0.019767584792981387), (2876, 0.019731092075539348), (2380, 0.019722753790605705), (3330, 0.019721528514124287), (1472, 0.019701666294778517), (3052, 0.019697752015968812), (1678, 0.01967586052490556), (333, 0.019656234748428758), (3374, 0.019638946329680933), (386, 0.01963395545162622), (2404, 0.01961476312476179), (348, 0.019589357737073085), (4125, 0.019583816898371423), (1911, 0.01958096713532268), (3561, 0.019549300299419956), (3895, 0.01945772785914917), (191, 0.019436991475295394), (3191, 0.01941180940484506), (3291, 0.01937949056032335), (814, 0.019369220355771447), (2856, 0.019367071683291076), (870, 0.019349972989357197), (4251, 0.01933146014043752), (2947, 0.019326003444288684), (3756, 0.019324663020333095), (846, 0.019307284639443496), (713, 0.019281968749482754), (1686, 0.019276986603718207), (2734, 0.019252831280484953), (4684, 0.019241862310608083), (4201, 0.01922765299762002), (4484, 0.019227436950600942), (1211, 0.019190814026225418), (1319, 0.019107151019998166), (3826, 0.019024570033857966), (758, 0.019001840278143788), (1749, 0.018995571456201784), (862, 0.01897854421378252), (3878, 0.018953803996553522), (3006, 0.018913415580527157), (432, 0.0189092504196124), (883, 0.018903381761258053), (1877, 0.01888341796788806), (380, 0.01886001230588053), (3151, 0.01885035047464532), (1606, 0.018840650230167216), (1381, 0.018839553181239695), (965, 0.018814341824153133), (1375, 0.018808286508506765), (63, 0.018802222673487072), (4428, 0.018790603405860678), (38, 0.0187615580298083), (408, 0.01870950309581025), (1504, 0.01867498564848474), (4542, 0.018642095862531117), (375, 0.01863457213447964), (852, 0.018629542940215366), (2825, 0.01862704963843017), (1367, 0.018561925109500152), (3262, 0.018555770996037203), (1698, 0.018546165487723767), (2518, 0.018533283710606065), (2203, 0.018532327842938633), (2154, 0.018471950928332037), (2510, 0.01845963263303004), (1417, 0.018441428377157516), (3221, 0.0183618175863428), (4751, 0.018319028618917935), (2057, 0.018285952013419527), (3879, 0.01828047980857187), (287, 0.01827398241340287), (3817, 0.018262491172433393), (2218, 0.01825135556919437), (4710, 0.018228633430449163), (1427, 0.01822067767046301), (4549, 0.018212026467485962), (2795, 0.018211998906611977), (929, 0.018147170079651775), (935, 0.018114437300828803), (1121, 0.01806740107161099), (75, 0.018033939461164033), (1681, 0.018023875303471906), (2485, 0.01802208685068729), (144, 0.017918737122950727), (319, 0.017849831537345227), (2271, 0.01784445826409328), (835, 0.017827924669314602), (3864, 0.01779385539927039), (4143, 0.017788119438649934), (1675, 0.017741888779462832), (4659, 0.017715960331930306), (1150, 0.017707260451102713), (162, 0.01768696527691485), (1216, 0.017660132289072265), (1762, 0.017653742914594484), (420, 0.017653325364964854), (3424, 0.017643292375549596), (2263, 0.017619862877952412), (1392, 0.01759431701183759), (3123, 0.017590227188948097), (789, 0.017580622553628165), (2031, 0.01757410358598782), (2587, 0.017561237231582632), (2086, 0.01748510155510785), (1152, 0.01748101267810173), (1593, 0.017476604668324028), (392, 0.01743885161860243), (4236, 0.01743802184710183), (2778, 0.01743765157846533), (361, 0.01742699735848826), (913, 0.017414111528520664), (4205, 0.01739528653450189), (1426, 0.017393320975639868), (330, 0.017382275985665906), (1185, 0.017296172782136927), (657, 0.017294417205939352), (344, 0.01726658565760824), (3911, 0.017232033538539568), (2007, 0.017210802241155242), (1586, 0.017153683900399543), (2033, 0.01715120482165328), (4554, 0.01714237009306171), (1467, 0.017137996680258023), (201, 0.017128449247059738), (3, 0.0171208501197933), (1047, 0.01710470572387581), (249, 0.01707969011999206), (1828, 0.01707511523916442), (4486, 0.017016551661982716), (2447, 0.01697244365061047), (3081, 0.016971690544220715), (2222, 0.016957293551567148), (881, 0.016937360140774578), (2412, 0.016910430296668527), (1525, 0.016832443233753946), (4376, 0.016831594110839256), (2142, 0.016819146462516876), (3072, 0.016761198488941524), (1266, 0.016748996198173827), (2867, 0.016744542377250295), (1250, 0.01673274999901512), (269, 0.016711076041189796), (2076, 0.016689958877240937), (2278, 0.016655112232509085), (2487, 0.016637949319866473), (3650, 0.016634792391175764), (2127, 0.016612677326666693), (1751, 0.016610019647025943), (2414, 0.01654864803997998), (736, 0.016527155499369457), (1908, 0.01650432546701367), (938, 0.016455995596325216), (2718, 0.01645472369539169), (305, 0.016401143996647622), (2320, 0.01640022362391369), (2427, 0.016386781618932377), (2539, 0.016368419432669118), (2669, 0.01634041009799275), (566, 0.016338969256248566), (610, 0.016322744470360015), (439, 0.016320460397360636), (4092, 0.01631982843925944), (576, 0.016256713480427457), (1986, 0.016236063971476936), (4067, 0.01622705862117791), (3339, 0.0162267702336602), (625, 0.01622632418314206), (4267, 0.01619916086476922), (2128, 0.01614388696819905), (2134, 0.016130615958063175), (3640, 0.01608289043512565), (2585, 0.01605383029680432), (1498, 0.01603268197747291), (2504, 0.016028878101496804), (618, 0.016027158819697115), (2040, 0.015931939109444848), (4042, 0.015927877494008442), (715, 0.015913590102589595), (345, 0.01591126692705874), (1373, 0.01590483880479636), (1754, 0.01588617016838259), (4263, 0.01588356203618509), (3417, 0.01588318732929264), (773, 0.015881520424359884), (1368, 0.015839845045637242), (4446, 0.015819737354772597), (1594, 0.015795025097525672), (585, 0.015793038337665342), (3414, 0.015791786007738548), (995, 0.015775479907464203), (4140, 0.01575675859164493), (427, 0.015746974589436705), (1342, 0.015745360680424366), (3749, 0.015723816286711184), (2097, 0.015693049655419337), (3915, 0.015663800437046536), (719, 0.015645995183584), (1109, 0.015643089197818903), (336, 0.015623832551244672), (1210, 0.015612974115049479), (4551, 0.015612611428082191), (4441, 0.015595115645082067), (840, 0.015590733665515206), (3449, 0.015583400152302841), (3086, 0.015578664447714823), (1518, 0.015531567382472076), (2000, 0.015519593663314356), (4657, 0.015509952410854143), (1296, 0.01549742298476442), (3677, 0.01548549195934372), (706, 0.015468517838428949), (2723, 0.015466330189338993), (1895, 0.015465197866417847), (3480, 0.015460628326107622), (4574, 0.015441002607260418), (1824, 0.015431783225595633), (3234, 0.015420226921198897), (2391, 0.01540253009628419), (2393, 0.01538988576848875), (2151, 0.015375616480481736), (2522, 0.015369634577648), (2814, 0.015361028987236194), (492, 0.015327630197048222), (1997, 0.015327254549301558), (1685, 0.015257768436029535), (1484, 0.015254655889933242), (263, 0.01523906188262423), (3406, 0.015219393426648777), (1400, 0.015201458960930848), (1075, 0.015191637108087989), (783, 0.015191461437000476), (1579, 0.015136694685490584), (3736, 0.015122947304602894), (716, 0.015122519135803082), (1709, 0.01509633976267204), (2083, 0.015091917233355553), (570, 0.015091751423446272), (270, 0.01508216801838402), (4083, 0.01505581798822694), (74, 0.01500378055429026), (930, 0.014973812613498309), (1990, 0.014956892442448369), (2474, 0.01494173769231125), (3420, 0.014909666147060135), (4115, 0.014908753907560239), (1935, 0.014901825076796063), (1629, 0.014886160189510427), (3623, 0.01487660105966812), (2584, 0.014848297723194107), (1294, 0.014804293047175149), (1982, 0.014749850358375265), (1259, 0.01471853385059995), (1740, 0.014711006434781786), (1584, 0.014706339999885935), (2489, 0.014696532756998159), (452, 0.014668138969989156), (3456, 0.014664167503937635), (3501, 0.01465895580176968), (994, 0.014655340038424254), (2295, 0.014650401964673751), (130, 0.014619282438915986), (1384, 0.014611380745371765), (1994, 0.014607242357939594), (67, 0.014602438832980008), (3335, 0.01457076684604846), (1706, 0.014552465485842023), (4266, 0.014551909256542714), (2668, 0.01451551433218197), (3436, 0.014513840942919189), (1876, 0.014503965849865052), (3341, 0.014461505220383903), (1385, 0.01443925796875883), (2558, 0.014423020088744404), (803, 0.014392767382470686), (1688, 0.014385512887192892), (4016, 0.01438141737012195), (3216, 0.01435077696573243), (1194, 0.014343633375811835), (1087, 0.01434236212608003), (1413, 0.014317354181239328), (2430, 0.014313093090809574), (1811, 0.014305150150382702), (2228, 0.014300640476822161), (3727, 0.01429841254285803), (1891, 0.01429599355954493), (2061, 0.01428872609315237), (2060, 0.014274686136915463), (466, 0.01425738088614497), (3684, 0.014247707666830388), (182, 0.01421993661639699), (867, 0.014212666485398123), (2941, 0.014199515408775804), (2492, 0.014195737802939064), (4752, 0.014174936821163567), (1850, 0.01416019519781085), (4020, 0.014147774465623762), (1084, 0.014130818528895781), (4440, 0.014130481932067802), (1090, 0.01412763580255035), (749, 0.014115924329174833), (3220, 0.014094268313976328), (1925, 0.014057650900711153), (1408, 0.01404515426584263), (1120, 0.01399665255088096), (7, 0.013990279754859072), (4183, 0.01398709052014011), (1245, 0.013978905400788305), (1044, 0.013970046127862519), (4673, 0.013967529517754092), (1178, 0.013946244574780024), (167, 0.013931650897673856), (1257, 0.013901598132485175), (2716, 0.0138907168524328), (923, 0.0138878610298333), (727, 0.013860294943214805), (1248, 0.013855638865880147), (1582, 0.013844876807888404), (119, 0.013840681113746488), (1020, 0.013835464044154647), (2308, 0.013827824359158072), (1535, 0.013804812906618287), (2102, 0.013791579319877345), (3498, 0.01377878514757749), (2632, 0.013775840753260112), (2553, 0.01375347065979967), (3733, 0.01373475966874437), (4321, 0.013729539785903654), (1123, 0.01370569689203814), (4576, 0.01370229004242734), (2422, 0.013694120827170423), (373, 0.013667207933492312), (4192, 0.013661056284323072), (1221, 0.013648766566069632), (3890, 0.013648380361478115), (723, 0.013632284488241879), (325, 0.013627480785388373), (818, 0.013623726704711386), (1919, 0.013612017274794972), (1060, 0.013611292166147754), (3010, 0.013603810659455666), (1036, 0.013601257246851725), (2166, 0.013581561866995176), (2656, 0.0135547034706016), (154, 0.013536518604382389), (307, 0.01352693727939639), (842, 0.013510503110625136), (471, 0.013467245179087425), (798, 0.013462741114654423), (3122, 0.013458074866717842), (1002, 0.01344151111304486), (1433, 0.01341655391539915), (221, 0.013413136832044627), (2765, 0.013409685764059584), (381, 0.013408727777744645), (4374, 0.013391329352962108), (2224, 0.013386657228413229), (3458, 0.013342584006676938), (1506, 0.013336900645023627), (751, 0.013333294640036979), (4399, 0.013332551861948821), (2756, 0.013301427896998301), (57, 0.013280942948750487), (3460, 0.01326097316070391), (3767, 0.013247274334109629), (1041, 0.013242301877727316), (359, 0.013234345623508758), (1941, 0.013224647794007099), (1153, 0.013220381251433735), (963, 0.013187020867430706), (863, 0.013182104017628433), (218, 0.013165816858198502), (2862, 0.013147393704924336), (372, 0.013144531208080429), (1865, 0.01308273710118855), (285, 0.01306087923120411), (3304, 0.013058139813231125), (955, 0.013027904402966946), (1387, 0.013018558068186116), (936, 0.012975675329098275), (800, 0.01296217492752597), (2635, 0.012946707862464813), (524, 0.01294181170193472), (2301, 0.012904728291018686), (3256, 0.012880134025048888), (732, 0.01287373277465297), (934, 0.012857231014096665), (1977, 0.012839869215452703), (3440, 0.012837898435825919), (703, 0.012809944808473457), (2236, 0.01280150981309113), (1503, 0.012790762319926261), (1964, 0.012752522400474562), (2809, 0.012748362766666672), (428, 0.012736687886662764), (981, 0.012700606943110452), (3027, 0.012694722459046508), (2065, 0.012674416826003494), (594, 0.012609474642988795), (2376, 0.012569353089365803), (1943, 0.012552221746415687), (2724, 0.012535840968818678), (3345, 0.012533426462780089), (1560, 0.01245118807584368), (4414, 0.012442132830310423), (1450, 0.012427540664807278), (2182, 0.012412755183934797), (139, 0.012397037639438835), (2237, 0.012379058703441841), (1136, 0.012367781163814063), (2799, 0.012366824171134942), (2743, 0.01236413782146488), (2115, 0.01234545241903022), (1976, 0.012343184067280782), (3180, 0.012292743779883286), (2733, 0.012273902679319555), (2758, 0.012247734830934005), (1465, 0.012230868636696956), (1764, 0.012228498843488277), (3211, 0.01221449476640573), (3192, 0.012206483701568493), (733, 0.012206143097541686), (165, 0.012195340687469905), (3634, 0.012192982596572846), (2165, 0.012187682627944318), (357, 0.012173843181329275), (874, 0.012165917270838149), (1554, 0.012165282296620337), (3238, 0.01214062229806627), (990, 0.012137836600951772), (3604, 0.012136026295467967), (3698, 0.012129926154947072), (2626, 0.012126619320852844), (3802, 0.012098744655617763), (2101, 0.012091379403656273), (2981, 0.012051218329064663), (1691, 0.012037295028775812), (2359, 0.012036663635763957), (3409, 0.012035921667162297), (513, 0.012011217965215924), (2979, 0.012004375657538193), (1278, 0.012004212891310472), (3344, 0.01198092291629952), (403, 0.011957336787245062), (901, 0.011944662751307605), (101, 0.0119033590804645), (1661, 0.011898550586927266), (113, 0.01185890186260455), (1228, 0.011857029822922159), (1731, 0.01184610460427869), (2462, 0.011838807549683713), (2951, 0.011827214592808036), (982, 0.011809603271991183), (1732, 0.011809366787152773), (3313, 0.011773760657601093), (2287, 0.011769695430780647), (2985, 0.011767182673674092), (1799, 0.011758095019430327), (3401, 0.01171166091310681), (2208, 0.011710889872128259), (3048, 0.011704434953330926), (3181, 0.011698553637091541), (415, 0.01167060660194879), (1305, 0.011662789906320099), (441, 0.01165789415228656), (3631, 0.011657437603622391), (4332, 0.011647089197353508), (2673, 0.011626102955930641), (953, 0.011611249047015309), (1299, 0.011598922929935874), (1241, 0.011597412152007923), (3751, 0.011595252164532636), (2908, 0.011588886699591959), (320, 0.011583558931888366), (4118, 0.011577024541346572), (194, 0.01157041515289053), (2252, 0.011567017856499974), (2002, 0.011564570269172205), (3415, 0.011563817043501649), (341, 0.011559386952285196), (3317, 0.011554754308016602), (1775, 0.011529373534388654), (412, 0.011525414723938674), (1812, 0.011468207499522433), (2194, 0.01145976699592584), (4444, 0.011448452504781763), (2794, 0.01143903632756406), (2456, 0.011404123845090616), (297, 0.011357731891485307), (418, 0.011355616887719796), (220, 0.011349925200721395), (1677, 0.011345653777647567), (245, 0.011333680887903912), (4674, 0.01133065985802825), (1958, 0.011278231243124298), (1085, 0.011264240896930244), (2767, 0.011250963829304739), (1396, 0.011227060961391047), (309, 0.011220670832175133), (4375, 0.011219002173805998), (1302, 0.011206615310708714), (2766, 0.011193960128820941), (2549, 0.01119097473641187), (3226, 0.011139313910604541), (1741, 0.011138675790587596), (3907, 0.011138128670428585), (788, 0.01112032904454419), (2944, 0.011112058769496757), (315, 0.011083259958366109), (1419, 0.011062442995242543), (1873, 0.011060212960425286), (2804, 0.011052656490304923), (159, 0.011041192702332272), (1948, 0.011034353950088971), (2336, 0.010987258890767146), (2019, 0.010973490747363404), (3690, 0.010971251993856556), (1111, 0.010970549601024959), (4278, 0.01095506349514331), (3340, 0.010952885321545909), (2582, 0.010952231295553295), (768, 0.010951903987419246), (2732, 0.010948758989957858), (56, 0.01093035736297928), (50, 0.010911744557658407), (2847, 0.010909116102954405), (233, 0.010905250219034898), (535, 0.010902374231262174), (1105, 0.01089500397462325), (2841, 0.010878029254299947), (3616, 0.010868098321796527), (3793, 0.010862409655951233), (4242, 0.010857493474640195), (1082, 0.010851764428847844), (2834, 0.010842670916482649), (1522, 0.01084091324392455), (2973, 0.010837103799258733), (4029, 0.01082821279838162), (1128, 0.01082680538598282), (4224, 0.01080599910154601), (1005, 0.010782987650796834), (39, 0.010779664773960739), (4660, 0.010777046021446877), (3836, 0.01077602170949059), (2824, 0.01076471543741949), (4001, 0.010753672463841141), (785, 0.010741961170407127), (1129, 0.010739652826210547), (4070, 0.010737575654030964), (135, 0.010726366531955672), (404, 0.010722778024123266), (3531, 0.010717001255994367), (1592, 0.010716157136801375), (82, 0.01070548077055021), (2150, 0.010699926632216231), (2568, 0.010688877017935862), (1517, 0.01068840080555401), (460, 0.010685698767026705), (228, 0.010684324934925727), (1063, 0.010675818030555301), (259, 0.010674129256137631), (1076, 0.010650860495909771), (2918, 0.010645118984990449), (1900, 0.010637858591196817), (3228, 0.010606201449974217), (772, 0.010600014786471594), (1545, 0.010595541585517447), (1329, 0.010594041685652936), (1912, 0.010578691123509506), (2498, 0.010574732194254834), (3595, 0.010571586259938018), (530, 0.01056788766686237), (1459, 0.010567290595966353), (1810, 0.010563699097840162), (1633, 0.010557784707480028), (3454, 0.010501492329824821), (2616, 0.010496761258382115), (2763, 0.010484374733228644), (360, 0.01048436609745059), (1631, 0.010483052263175087), (649, 0.010471741466703995), (185, 0.010445985860646531), (3021, 0.01042805897984845), (4682, 0.010417096635160586), (2062, 0.010395146705153782), (311, 0.010370962844688029), (1113, 0.010363739432648136), (1707, 0.010347854314168091), (1668, 0.010336494039315724), (1992, 0.010322610983320874), (1086, 0.010320151579039814), (2167, 0.010316115847359822), (310, 0.010314567073924754), (2738, 0.010313700593621175), (1649, 0.010297513608090546), (4594, 0.01029414141370066), (3338, 0.010294086341786591), (2680, 0.010290688822955765), (2038, 0.010285811108174567), (3426, 0.010278484076656954), (3543, 0.010271316912848369), (46, 0.010269712996742656), (1825, 0.010269371092191518), (3970, 0.010267789397518977), (1968, 0.010263555906635309), (2119, 0.010250022001161273), (2183, 0.010246179659508995), (3899, 0.010242653726523611), (316, 0.010240418206087886), (1562, 0.01023443395871354), (1412, 0.010218321832892884), (2962, 0.01021603430451745), (1755, 0.010215850829316619), (780, 0.010214114393920072), (4477, 0.010210403398556264), (304, 0.010186842285523499), (2315, 0.01018436074719798), (1487, 0.010178585102207685), (1787, 0.01016804895197707), (1029, 0.010159147929645337), (3450, 0.010150205306392952), (4002, 0.01014968086528096), (4577, 0.010145224169743845), (763, 0.010135113720408), (4203, 0.010130525741272708), (2160, 0.010102065449025947), (3823, 0.010093896946275724), (1055, 0.010089144569818631), (1496, 0.010088170823254307), (1451, 0.010084092236624024), (2215, 0.01007675395357212), (3866, 0.010074116012406868), (508, 0.010049098070420141), (2560, 0.010030624730056167), (4328, 0.010029080526567381), (614, 0.01002746602618696), (847, 0.010022033913525791), (1746, 0.010019392733640756), (2542, 0.010000897924601621), (3651, 0.009997805567951904), (2071, 0.00998741146679305), (1310, 0.009972533083772665), (3661, 0.009967525061485443), (893, 0.00996341499282393), (568, 0.00995695076832075), (1061, 0.009947308303810354), (1291, 0.009944372635589933), (1823, 0.009932839382129117), (243, 0.00993207052487388), (2638, 0.0099300099611482), (540, 0.009908249955963448), (3960, 0.009908040507045371), (1887, 0.009904093486698138), (1354, 0.009903488787015932), (306, 0.009891315648471939), (122, 0.009889423100394899), (1066, 0.009887520343055943), (1870, 0.009875615072546499), (683, 0.009866416009518705), (737, 0.009857388458666414), (1987, 0.009854547333710289), (3587, 0.009844947943812611), (1270, 0.009841996346461603), (2740, 0.009840275124973822), (4297, 0.009837812049516), (3945, 0.009818465067477408), (3822, 0.009813082739191025), (1716, 0.009801440543737838), (338, 0.009794623890728429), (393, 0.00978483853957238), (2036, 0.009772695944837073), (2436, 0.009768009491002465), (1039, 0.009759922856455468), (2840, 0.009747472704720442), (1474, 0.009746553245202022), (3877, 0.009730658020096311), (170, 0.009727083274520395), (1283, 0.009716891170906046), (1213, 0.009706109776840742), (3825, 0.009692921423596011), (4290, 0.009689440697358104), (2058, 0.009687994828901533), (1797, 0.0096868496068503), (4055, 0.009683077947121067), (898, 0.009671056483968642), (699, 0.009654366521934424), (2005, 0.009653329949887908), (2112, 0.009646127741606003), (1817, 0.00963437611740586), (48, 0.009629778411611415), (3633, 0.009614872533167793), (1095, 0.009594107053491308), (2739, 0.00959098847234264), (3201, 0.009569131115183295), (123, 0.009561841518253233), (2822, 0.00953581367128509), (2145, 0.009534525512860357), (4732, 0.00953238884366332), (4110, 0.009527993820093056), (2037, 0.009524434286340235), (342, 0.009520622344028697), (4013, 0.009515128973467074), (3516, 0.009504972582075314), (2074, 0.009477539605484656), (192, 0.009452531030991161), (3271, 0.009443177391257098), (277, 0.009436782927954827), (2494, 0.009422557992200162), (1907, 0.009407352240028909), (3914, 0.009397360665059598), (1798, 0.009382323130564078), (1140, 0.009357750570273889), (1537, 0.009356932854041024), (1458, 0.009351815963634443), (4038, 0.009343414190095854), (2940, 0.00934128216911078), (2712, 0.009337871954332692), (12, 0.009332901572397943), (3780, 0.009331518553459863), (2609, 0.009321893931626742), (762, 0.009305392041136267), (3678, 0.009297593023532667), (792, 0.009296600675403489), (3297, 0.009286506431828972), (692, 0.009278724021818346), (3328, 0.009272628300009392), (1951, 0.009272555668693361), (1687, 0.009266360061701461), (3618, 0.009263907321272215), (3667, 0.009259732589730615), (202, 0.009256916393480065), (2755, 0.00924140978819583), (2610, 0.009236224752614028), (3777, 0.009234020768668196), (2177, 0.009229431630527942), (483, 0.009227611869101987), (3129, 0.009223555838431362), (1893, 0.009217943277598352), (3654, 0.009191468873865904), (1643, 0.009175374788085944), (2633, 0.009175198603960918), (3212, 0.00915980117262189), (177, 0.009151906770155897), (3150, 0.009144026606016958), (3919, 0.009136087373959762), (1781, 0.009134537745572399), (1006, 0.00913069654993549), (3599, 0.00912526420036425), (3752, 0.00912041760975669), (288, 0.009117091585338856), (890, 0.009114876249628139), (717, 0.009113989352025518), (2531, 0.009108280293734417), (4136, 0.00910438233141181), (1851, 0.00909870897586602), (2546, 0.00909810923304592), (2911, 0.009095769157056139), (1048, 0.009081926626349976), (588, 0.009081597824149888), (1364, 0.00907487340726315), (4262, 0.009073443974445115), (3536, 0.009068184290982098), (216, 0.00906070578240684), (2072, 0.009056103385606125), (4379, 0.00905510249828693), (3920, 0.009052552267966812), (3959, 0.009051965526800694), (3689, 0.009039822046067585), (2114, 0.009038092418098338), (2053, 0.009022982932836422), (1957, 0.00901913416738891), (1214, 0.009002000710029188), (472, 0.008997489541850156), (3233, 0.008990989042554031), (640, 0.008987355070904934), (631, 0.008986004391262153), (1768, 0.008985582078431672), (726, 0.00897662433016655), (163, 0.00896872572124888), (3701, 0.008959762394525901), (2977, 0.008948573870220744), (3526, 0.008944067310970909), (1963, 0.008939700938132598), (2784, 0.008932918801638686), (3283, 0.008901973978211627), (3303, 0.008893791732839246), (832, 0.00888632597579815), (2210, 0.008885848193658062), (4068, 0.008878840119131582), (469, 0.008872044831408979), (2318, 0.00886407861276211), (4135, 0.008863606748524131), (2277, 0.008859268231889901), (538, 0.008855733186625494), (3386, 0.008855393887959246), (738, 0.00884397420531435), (2665, 0.00883989445675267), (3739, 0.008835726626414318), (1985, 0.008831160233528777), (864, 0.00883112319380544), (3551, 0.008820777155590593), (209, 0.0088188136648816), (4503, 0.008814184035786914), (1341, 0.008811186535500413), (897, 0.00880611042162238), (343, 0.008805920658978278), (993, 0.008803920553559498), (104, 0.008794817887012495), (504, 0.008792460983293667), (3491, 0.008773954722322461), (3564, 0.008773551691519518), (4541, 0.008767526261540851), (3612, 0.008742985564405061), (3492, 0.00872888988847791), (2250, 0.008720778795609107), (3665, 0.008718845310619084), (2195, 0.00871659967299598), (3174, 0.008716311365055913), (79, 0.008712392289737853), (2900, 0.008711851869429483), (2324, 0.00870091845856794), (346, 0.008684278708766958), (988, 0.008680716575539378), (4394, 0.008672460859543955), (1453, 0.00863786726912866), (1411, 0.00863623528414268), (3237, 0.008632212782120879), (787, 0.008629112847439535), (769, 0.008625233092445925), (169, 0.008586650654914353), (215, 0.0085860536407644), (4284, 0.00857521743725663), (3260, 0.008574772062535659), (477, 0.008563510949905389), (2013, 0.008553544477800365), (2910, 0.008551025262841723), (4687, 0.00854559792928025), (3447, 0.008540025679639483), (2029, 0.008532466594030608), (1617, 0.008532176308594371), (3412, 0.008523645364794767), (1653, 0.008522631836457937), (4387, 0.008521801504445198), (2698, 0.008515064487614746), (1422, 0.008509390202120232), (4395, 0.00850231440312152), (1035, 0.008490347543844456), (292, 0.0084793375226836), (643, 0.008468949129884735), (2808, 0.008468553483819993), (972, 0.008463347656959426), (4472, 0.008448197066452293), (3028, 0.008445532491295822), (2571, 0.008443771648329403), (2612, 0.00844064684536577), (2268, 0.00844056765901971), (4504, 0.008435069259308713), (1969, 0.008434202753191521), (1463, 0.008426401871480171), (1421, 0.008425315218955894), (2642, 0.008420270407781883), (1597, 0.00841880913248114), (3917, 0.008407098483392295), (2131, 0.008395649682958011), (782, 0.00838640273311815), (18, 0.008380338934332198), (1446, 0.00837519040392799), (3868, 0.008362355556897318), (4523, 0.008360409163273744), (854, 0.008340708233714007), (4152, 0.008338328190490478), (356, 0.008336362466803247), (29, 0.008322648177314795), (1273, 0.008317677339541014), (2706, 0.008308751019468688), (1132, 0.008305850404658442), (644, 0.008302287687691574), (2892, 0.008296037886460047), (767, 0.008290458349934986), (2859, 0.008285806776915684), (332, 0.008273330695338196), (3293, 0.008272032279390027), (4124, 0.008269647841427596), (3646, 0.008263907008218007), (1404, 0.008261290122000392), (1418, 0.008252054619598242), (966, 0.008251769017278174), (2303, 0.008242658062161751), (387, 0.008242514315275706), (4257, 0.008232994750320735), (2023, 0.00823007838921866), (2899, 0.008215618487498494), (742, 0.008215243845370191), (775, 0.008213106789821997), (507, 0.008206281090020067), (3407, 0.00820473550420567), (1682, 0.008201417361233032), (3057, 0.008198682188167331), (1793, 0.00819136574363912), (3071, 0.008186024191830572), (279, 0.008181694088943274), (4059, 0.008173023125639443), (2552, 0.008171011704684867), (3399, 0.008165132824385071), (1555, 0.008135969036417764), (410, 0.008130853357756021), (866, 0.008124744586520672), (2446, 0.00811734249249992), (3342, 0.008115484865077715), (1456, 0.008112036500112118), (1052, 0.008090972407489187), (96, 0.008088756228558702), (1642, 0.008088661966570331), (2777, 0.008086738976525256), (744, 0.008082297647405904), (3854, 0.008081963408978245), (4402, 0.00808127648158393), (899, 0.008056333863581866), (2482, 0.008055785937739667), (324, 0.008055185619811077), (590, 0.008055011870490509), (1114, 0.008049762145073745), (4174, 0.008044134133722012), (3389, 0.008037918672723632), (4348, 0.008037175477374817), (907, 0.008037074038220564), (829, 0.008028488125982454), (1875, 0.008025604261812523), (1308, 0.008018278903501538), (3306, 0.00801234392328629), (3284, 0.008004341407826812), (2920, 0.007996446051611672), (3144, 0.007993489902796549), (1782, 0.007993375989757662), (957, 0.007980331787092572), (2954, 0.00798003681979792), (3563, 0.007965394168361395), (1360, 0.007954122089752293), (2055, 0.007920966625689474), (1595, 0.007909116853720106), (3311, 0.007905736967698132), (1719, 0.007887483246632807), (4074, 0.007865065820953714), (3986, 0.007863565846649212), (1000, 0.007860782005817718), (722, 0.007852925958615302), (885, 0.007839051985015373), (3841, 0.007837573482741956), (1539, 0.0077930360791365165), (3360, 0.007763190090459424), (1394, 0.0077431368288871875), (495, 0.007729884206724493), (33, 0.007723616233196436), (166, 0.007718461081566447), (0, 0.007715071890311533), (184, 0.007695986845388444), (1186, 0.0076739385458604), (97, 0.007669633560069435), (3894, 0.0076648567399433265), (4156, 0.007660980286673537), (3637, 0.00764297554706652), (1301, 0.0076353824915481715), (4635, 0.0076350176222390554), (553, 0.007634652401191074), (4007, 0.007632584909958734), (4473, 0.007611659148257495), (3655, 0.0076058760801442195), (3391, 0.007517291773807369), (2818, 0.0075168582924690875), (3393, 0.007516567465815968), (3429, 0.0075124304222384695), (1215, 0.0074808152081093406), (60, 0.007476129158071793), (2070, 0.007475420322900597), (1565, 0.007470318980905831), (3376, 0.0074630264555056985), (3579, 0.007459983482293739), (1743, 0.007439095003206936), (3200, 0.007425798366210622), (1352, 0.007423785086478606), (2933, 0.0074219995943438245), (3142, 0.007421489540821709), (3855, 0.0074156970556180654), (3668, 0.007397417141212293), (1312, 0.00737536535243786), (547, 0.0073684755636705245), (195, 0.007345952974986698), (2603, 0.0073402382202358615), (2211, 0.007323074343448395), (3928, 0.007300339390524867), (3430, 0.007274600912370487), (3927, 0.007274431798239068), (844, 0.0072687093682721774), (2969, 0.007248560863499065), (442, 0.007246676359573077), (25, 0.007229424638522223), (2563, 0.007228095649836902), (1571, 0.007225615739925771), (484, 0.007155782296010857), (1369, 0.007153138812683288), (2526, 0.007150706605436569), (156, 0.007099710483031201), (2547, 0.007068551738881177), (3410, 0.007032865156204648), (510, 0.0069859342726558), (3145, 0.006973738929171794), (3538, 0.006968701969390352), (1144, 0.006967828296598439), (1886, 0.0069464582373815476), (3362, 0.006920526523661418), (4739, 0.006875895560895263), (4288, 0.006860997156583904), (2440, 0.006848662045057369), (4646, 0.006843945302285979), (1548, 0.006794600997343864), (3578, 0.006775180396843227), (948, 0.006758714814216017), (853, 0.0067572918153013), (106, 0.006727646096680469), (3316, 0.006722800387100205), (2581, 0.006707711800429347), (3626, 0.006705122170154194), (2118, 0.00667683213358331), (4271, 0.00664200316240001), (2363, 0.006633493176073999), (562, 0.006630330601178699), (1669, 0.00660464689856251), (4194, 0.006574549140967355), (2636, 0.006561404220077128), (3983, 0.006547445529779851), (1277, 0.00653554992338113), (3546, 0.006520444391839798), (3448, 0.0065116438820085635), (3502, 0.006497114805372102), (1351, 0.0064452431533152735), (368, 0.006443181639576991), (2351, 0.006407107696239157), (4524, 0.00640556987660417), (1019, 0.006399321061337195), (1343, 0.00638104919955369), (512, 0.006379928206699089), (3610, 0.006339779195819982), (904, 0.006318709993903476), (153, 0.006308864481692026), (4449, 0.006298280274590594), (3384, 0.006293041988117412), (2032, 0.006290171813919791), (491, 0.00627529999727947), (4031, 0.006274868596086285), (3137, 0.006259058161894835), (3172, 0.006250280363614014), (3312, 0.006234587502071304), (3932, 0.006219914284965718), (293, 0.006214122316805409), (4281, 0.006203934324541607), (1321, 0.0061777734305232136), (4171, 0.006176653790656682), (225, 0.006173351712292891), (2012, 0.00617308558280737), (3858, 0.006155398839803247), (2785, 0.006145835727552348), (2180, 0.006135906811293555), (2486, 0.006128607304076417), (2079, 0.006127666012462), (2873, 0.006096627218210076), (4460, 0.00608455716904505), (681, 0.00607715890748002), (3039, 0.006074165597611141), (1928, 0.006068502145206023), (2470, 0.006062515730860036), (2532, 0.0060598985601825455), (666, 0.006040287109785666), (3325, 0.006024316837891692), (2672, 0.006016447650904262), (3469, 0.006011264278375639), (250, 0.0060065237922466075), (4108, 0.006006327068482928), (747, 0.005984559616276155), (4120, 0.005983309827165529), (4515, 0.005973110235548228), (687, 0.0059553797306437705), (4064, 0.0059547084122716885), (4077, 0.005914568812739921), (4091, 0.005898028977981513), (2233, 0.005890647391994457), (700, 0.005889238486068246), (3831, 0.00588629360023789), (1583, 0.005880794645252729), (4226, 0.005868289458135465), (3730, 0.005867847883661236), (102, 0.00586439166291083), (4338, 0.00586295996900005), (4240, 0.005859798032053457), (2458, 0.005849675435885894), (1056, 0.005840232212481199), (1511, 0.005828803680756564), (704, 0.005804085390413718), (1246, 0.005798843593106922), (4151, 0.005793291080254242), (4436, 0.005788181944446743), (4076, 0.005782774685810492), (1952, 0.0057802014389672805), (232, 0.005779377225371224), (3586, 0.005776809954763014), (1390, 0.005775020724954598), (2637, 0.005763109632659984), (4351, 0.0057564116934524364), (3131, 0.005742838093705882), (2963, 0.005731333688151672), (3438, 0.005730453514033911), (2817, 0.00572372189819038), (3457, 0.005722604572393724), (3461, 0.00572172453597238), (10, 0.005720339952020939), (603, 0.005709310403456338), (1031, 0.005707165380537998), (2147, 0.0056975647602784665), (2719, 0.005696465366837223), (239, 0.005693611246703496), (3724, 0.005691628335347694), (3897, 0.005691192669942921), (2689, 0.005690161821008115), (3464, 0.005688917327019376), (4613, 0.005682413091395346), (1436, 0.00567950435461438), (301, 0.005678116679125757), (4406, 0.005677743819213203), (2330, 0.00567536231716336), (3103, 0.005671364038737747), (1502, 0.005668470797011808), (1380, 0.005661058809593273), (3259, 0.005660979498678031), (1859, 0.005660103249219499), (891, 0.005654276258981199), (781, 0.005652998573228388), (1104, 0.005649860204196555), (600, 0.005648217160457857), (599, 0.005647146680885194), (2790, 0.00564380359668476), (3969, 0.005639061598138009), (1336, 0.005636185229183327), (2675, 0.0056270267341443974), (1881, 0.005614388916509731), (3870, 0.005611719713589747), (4621, 0.005609181571288912), (298, 0.005607254588782736), (3018, 0.005605736788959324), (928, 0.005601578976280314), (3378, 0.00560127043352602), (2691, 0.0055845690582142305), (1613, 0.005583349667375087), (1841, 0.005582920693072726), (2259, 0.005580219387904234), (1702, 0.005579078064066554), (1155, 0.0055672607967333565), (3507, 0.005564506117004693), (2511, 0.0055638736890702405), (189, 0.00555857801758186), (2816, 0.005554057343193913), (3648, 0.005553955317656898), (3549, 0.005551368631161351), (4467, 0.005544674126004803), (1636, 0.005530600773022601), (1961, 0.0055298177272235715), (137, 0.005526440959025721), (971, 0.005525120762172415), (2431, 0.005524549875579919), (778, 0.005524116257705522), (3446, 0.005512690976015339), (1726, 0.005508247416560021), (1564, 0.005497526119621085), (2678, 0.005491412463197388), (110, 0.005486016842508459), (3552, 0.005483958724327418), (908, 0.005483690733216991), (2444, 0.005475356540812141), (1704, 0.005471734299209019), (3810, 0.0054697016036765215), (2421, 0.00546915038163314), (2788, 0.005464754418695836), (1322, 0.005464265846708916), (919, 0.00545493000313637), (83, 0.005439480063206283), (945, 0.00543523080829238), (611, 0.005417354075823963), (1577, 0.005414658844207216), (1515, 0.005402775819825996), (529, 0.005400976634108126), (4755, 0.005400365374980281), (1346, 0.0053984656476127185), (2501, 0.005393617047536264), (347, 0.005385975443634864), (1804, 0.005384092040362071), (2813, 0.005379247212655936), (2198, 0.005378026809263595), (3926, 0.005376425134633065), (264, 0.005375187792104295), (1297, 0.005372295142810691), (1374, 0.005371679941796224), (299, 0.005366933668881421), (4006, 0.00536463795295485), (931, 0.005364093983228706), (3343, 0.005362370551984894), (2046, 0.005361108358870163), (1501, 0.005361004769117578), (4571, 0.005357937202726295), (2246, 0.005357713518587051), (3955, 0.005356706622895654), (1262, 0.005353492118034836), (3594, 0.005346593612484221), (1022, 0.005343249129594404), (525, 0.00533906136420688), (3178, 0.005331065326733636), (3963, 0.005327619120261288), (4482, 0.005323894773030007), (65, 0.005323025732386847), (2503, 0.005322835960983488), (2480, 0.005321664507829361), (1239, 0.005319038276529353), (1447, 0.005294488128932912), (1852, 0.005293351699438572), (613, 0.005290906802008472), (1857, 0.005284390375793786), (3746, 0.00528409055565497), (1314, 0.005280397762975643), (1551, 0.005275686231686198), (3644, 0.005273857108102936), (2807, 0.005266004610468389), (2329, 0.005265036592860908), (4157, 0.005260166707896009), (1130, 0.005259868701229314), (2713, 0.005258543772447771), (84, 0.005255725783809709), (150, 0.005254528934449729), (4218, 0.005250573022372517), (3066, 0.005244434930241487), (3368, 0.005240683784863411), (4112, 0.005239475469026121), (3709, 0.005231864100138989), (2322, 0.005228778137012381), (2178, 0.005221143767269767), (152, 0.005212785674137414), (72, 0.005205857269782868), (790, 0.005202644149320243), (1146, 0.005190132822065887), (2003, 0.005185809498411036), (2245, 0.005184583532648305), (4217, 0.005184498857448295), (3011, 0.005183385314077314), (3720, 0.0051800605373151665), (261, 0.005178898786076897), (3149, 0.00517759615691769), (1493, 0.005175044465350473), (2432, 0.0051740048604566906), (2056, 0.005172616494222611), (3998, 0.005171369558990404), (3512, 0.005170429290849723), (223, 0.0051689215263981325), (4564, 0.005168445110915822), (521, 0.005168120671747911), (915, 0.005165194948919085), (4252, 0.005164534128344355), (2757, 0.005160859289636243), (179, 0.0051595380617965505), (3886, 0.0051550668304782025), (486, 0.005154813278017757), (138, 0.005154020666278381), (3053, 0.0051511661603886386), (3786, 0.005150359936538379), (4438, 0.00514621905197346), (3567, 0.005142843656912913), (4279, 0.005133117346306283), (1526, 0.005129508487921624), (4481, 0.005128644853468444), (1218, 0.005120773290481447), (284, 0.0051191611125567865), (498, 0.005117372186912436), (2409, 0.005112411723355338), (2631, 0.00509753701758406), (1738, 0.005095794111727907), (171, 0.00509530318442051), (4272, 0.005092367792002375), (260, 0.005091310129481783), (3276, 0.005089933825749918), (1988, 0.005086724003373879), (3712, 0.005084631294203088), (3891, 0.005083264733051006), (4555, 0.005081858066204424), (3361, 0.005081275111512823), (2094, 0.005079539082952704), (1054, 0.00506862896246942), (4012, 0.005066060281384312), (4292, 0.005057430386619647), (1973, 0.005049568309243682), (2311, 0.005049399046584832), (3133, 0.005045389462881195), (1914, 0.00504478338986577), (3566, 0.005042153977557334), (1723, 0.005039060408376572), (2139, 0.005037869954850201), (548, 0.005033623975200189), (4548, 0.00503179879410926), (2938, 0.00502509108262752), (974, 0.005024944658881796), (1903, 0.00502130656237894), (426, 0.005020712127911644), (810, 0.005015082035682115), (3121, 0.005012981827416819), (2682, 0.0050081000443966146), (2992, 0.005004977718105676), (1662, 0.005002881500836651), (1778, 0.004999761990200287), (3280, 0.0049975018556820405), (690, 0.004994235383628732), (1430, 0.0049911972643215015), (3083, 0.004989909209456238), (2615, 0.004986316770871142), (417, 0.004985990466090869), (2874, 0.004981915392836628), (549, 0.0049802661121496165), (916, 0.004973787964707148), (240, 0.004968446181049985), (9, 0.004967385756887638), (3321, 0.004966582943780636), (978, 0.004964952298673054), (1068, 0.004964139250427293), (335, 0.004962438421242484), (2497, 0.004957553868564116), (2666, 0.004934460591350951), (94, 0.004929378152273963), (411, 0.004926931155667209), (1157, 0.004925128801517139), (80, 0.0049183524048460525), (1524, 0.00491612118822284), (821, 0.004916029681834618), (4600, 0.00491229350088668), (354, 0.004912233019911188), (14, 0.004911842244312453), (1794, 0.0049117073967302185), (4339, 0.004903299596011847), (776, 0.004899238900264379), (1568, 0.004898433884811841), (4689, 0.00489802185218837), (4607, 0.004896295908614024), (2529, 0.004894603579220968), (2654, 0.004891969899551558), (511, 0.004888659075582944), (2749, 0.004885228577012983), (3295, 0.004884894447681081), (3459, 0.004877502119970727), (1784, 0.004874214284564503), (337, 0.004871917220931245), (2379, 0.004866205164630953), (583, 0.004866204821466543), (1626, 0.004863780257777016), (1171, 0.004862342978280242), (2490, 0.0048598863957848865), (1173, 0.0048576656297720745), (4109, 0.004856931544803432), (1809, 0.004851139955726885), (2937, 0.004841828471976733), (1816, 0.004838697938798815), (2262, 0.004835903915507442), (3523, 0.004833617297136827), (4705, 0.0048208628845172), (327, 0.004815224286079825), (664, 0.004811646170000129), (3051, 0.004809721591702134), (577, 0.004807503085640344), (3231, 0.004806817220762003), (2764, 0.004803834956520794), (2768, 0.004793049136230446), (3672, 0.004791317973680835), (2929, 0.00478741738576053), (1025, 0.004783416254311512), (2858, 0.004779264918009737), (2137, 0.004778998129635905), (3139, 0.004773896322518411), (4082, 0.004763321584757725), (4450, 0.004758308746722517), (882, 0.004758204990604905), (1468, 0.004757952784190882), (3598, 0.004751706329214579), (820, 0.004741584949197894), (2722, 0.004733491834680862), (2189, 0.00473317679389112), (2906, 0.004725753906232464), (545, 0.004715419424688416), (4202, 0.004714800938101497), (756, 0.004713541345803387), (3411, 0.004709436803020277), (3040, 0.0047088424830624915), (2608, 0.00470146206426303), (2989, 0.004698371666884688), (3803, 0.004696434491909348), (2805, 0.004693900117764085), (1482, 0.004691907135735452), (2251, 0.004691481316058763), (3166, 0.0046771473075864845), (3852, 0.004677096063322172), (2349, 0.004668619581237039), (2407, 0.004660930016791475), (1772, 0.004657982732605487), (3990, 0.004654115697321085), (1559, 0.004645614838556193), (3748, 0.00464433471178758), (2889, 0.004641691698309695), (2842, 0.004640926851682076), (1521, 0.004635984964135593), (2537, 0.0046255120721783675), (3119, 0.004622608633535512), (234, 0.004619791406434721), (1546, 0.004617798148852693), (86, 0.004616349496170721), (4617, 0.004611622425969291), (4704, 0.0046063523175334875), (2, 0.00460582403803784), (2801, 0.004604633628286843), (735, 0.004604258515983132), (3776, 0.004597196399551983), (779, 0.00458844100934096), (3055, 0.004588220879056087), (3731, 0.00457768124447702), (2775, 0.004577486358716363), (4017, 0.004575634840144482), (1802, 0.004571933592546513), (2870, 0.0045709435137577005), (3042, 0.004568636606615627), (3030, 0.004567834405222355), (725, 0.004566275900376962), (627, 0.004565756761112641), (2883, 0.0045629155945757435), (1046, 0.004559207687950118), (3635, 0.004558760674074343), (2622, 0.004554111351287664), (2855, 0.004552013819579257), (2204, 0.004550318300201649), (947, 0.004548383302532102), (3164, 0.00454567066930825), (2923, 0.00454311140071998), (1010, 0.004540034325752329), (1910, 0.004534717396231216), (639, 0.004532666958847206), (3674, 0.004531097913506279), (2731, 0.00452605677325338), (4529, 0.004520954152134425), (1279, 0.004519353923548362), (3481, 0.0045176190097856945), (2627, 0.004517298325210665), (78, 0.004512092635778428), (3658, 0.004510601426890655), (2296, 0.004509127671136673), (2484, 0.004508385942798345), (575, 0.004503095398140078), (3479, 0.004503014180324634), (58, 0.004500833729073703), (64, 0.004495747338881366), (4611, 0.004494381154615504), (2694, 0.0044914830656811195), (3939, 0.004490909579972943), (186, 0.004488904288736019), (1981, 0.004482706588369301), (3713, 0.0044753887160593015), (2861, 0.004469307911380401), (2655, 0.004468447634852939), (3484, 0.004464011982299975), (2789, 0.004461801929471165), (2932, 0.004458120543007372), (4172, 0.004457632252899081), (2559, 0.00443251683444351), (88, 0.004427318970656033), (2832, 0.004425040712468038), (2075, 0.004418127302076748), (4696, 0.004417392614221022), (2628, 0.004414028031203932), (3076, 0.004412802735520651), (4407, 0.004410458558718325), (3219, 0.0044064887550112125), (2392, 0.004402550743238182), (3292, 0.004401666479785793), (1530, 0.0043959246108321946), (3762, 0.004392812659181641), (2199, 0.004389194511623893), (3892, 0.004383279160722307), (3282, 0.004372795528774532), (4019, 0.004371004812392389), (2425, 0.004370032422142332), (2643, 0.0043608187691761115), (4546, 0.004358459371549374), (237, 0.004354780591420803), (2255, 0.004350245683127277), (3322, 0.004339605694268221), (889, 0.004339452741200944), (2350, 0.004332803038390854), (2901, 0.004329142991024351), (3944, 0.004326932912466935), (1395, 0.004320777755555583), (4230, 0.004320365801402259), (4142, 0.004310914877552805), (2838, 0.004309139809155649), (2286, 0.004309076793784948), (3980, 0.004306196776359504), (4400, 0.004298343166577685), (2774, 0.004289303743007902), (4102, 0.004281213180852378), (3848, 0.004277821961019839), (294, 0.004273960439658219), (3015, 0.004272774121743495), (2078, 0.004269048320676117), (4606, 0.0042687460151376215), (2306, 0.00426603464234817), (3828, 0.00426436521606625), (807, 0.0042618821731912815), (2377, 0.004261056699844961), (3239, 0.0042511137980146265), (3128, 0.004250410792638166), (668, 0.0042466727185845226), (3354, 0.004245194162547443), (1711, 0.004228368762385771), (168, 0.004218706523233494), (3249, 0.004217208004673128), (2326, 0.00421495611366684), (4469, 0.0042129027195636475), (3687, 0.004211467308210285), (4692, 0.004208979145225339), (4521, 0.004208687096587479), (4544, 0.004206319093182803), (3363, 0.004205227004800984), (3357, 0.00419123532271174), (3537, 0.004182258720753776), (2557, 0.004181855513225368), (3159, 0.004173163656940051), (4306, 0.004168683751588883), (4107, 0.004163515544019728), (3922, 0.004162453215106658), (2857, 0.004162160692846729), (3613, 0.004158946077079896), (4724, 0.004156492891131365), (670, 0.004155415127152184), (3521, 0.004153952255300114), (3004, 0.004153077886067091), (3999, 0.004151804343152315), (4572, 0.00413824071117389), (3074, 0.004136887682178872), (4443, 0.00413058341994273), (326, 0.004129334643369845), (2797, 0.004127100557525), (3154, 0.004126950762620704), (2957, 0.004125105400838801), (3874, 0.004123215704362157), (2488, 0.004120764265602466), (3832, 0.004116316353828333), (2848, 0.004115763514406077), (2188, 0.004115063528532818), (402, 0.004110481641951444), (3302, 0.004108280982949826), (369, 0.004108110592454145), (2879, 0.004106382356269661), (3620, 0.004105869731693107), (4147, 0.004105657201155205), (3544, 0.004104398217639348), (2459, 0.004104084888226155), (1655, 0.0041015760580632036), (2966, 0.0040989841428645995), (3358, 0.004093546408941069), (3020, 0.004093385639405344), (2415, 0.004091496424753319), (2454, 0.00407160033369824), (2993, 0.0040669779620033), (3901, 0.004066445360203765), (3257, 0.004062904491836946), (1264, 0.004061638950141612), (2619, 0.004060541530239217), (1429, 0.0040535500163321634), (2398, 0.004052676444887712), (3413, 0.00404998785251127), (3356, 0.0040485678880144635), (4373, 0.004040817391471493), (2895, 0.0040359981718007774), (489, 0.004033569516982505), (2434, 0.004030977303801837), (4458, 0.004021447618984194), (3766, 0.0040210304552065635), (3675, 0.0040193835190859145), (4701, 0.004018683474735998), (4637, 0.004001031342311889), (4490, 0.003998749951695451), (1049, 0.003998232770053036), (4280, 0.003996093271800733), (2772, 0.003994204413172311), (3308, 0.003991873257130428), (4735, 0.003990010123888609), (2986, 0.003988366563756303), (4717, 0.003981417166893977), (2769, 0.00397988108721771), (431, 0.003976498550805438), (4632, 0.003975214756573663), (2613, 0.0039723142512013985), (4416, 0.0039689904594321194), (2378, 0.003968151399595913), (3621, 0.003967676319663841), (1053, 0.003965944104091171), (1792, 0.003962503419400789), (2089, 0.003962066091093517), (4694, 0.003961819253580375), (1187, 0.003961594622133201), (4145, 0.003960820141121078), (2406, 0.003960640834030757), (2707, 0.003957391804807646), (518, 0.003952912413529977), (1885, 0.003950786934155674), (4412, 0.003949833725122034), (2417, 0.003947929324495369), (1748, 0.003947735900922884), (4030, 0.003946623373855818), (1169, 0.0039462758758263446), (2846, 0.0039454066103279594), (3094, 0.003945335442399751), (3275, 0.003941000806507822), (937, 0.003939411962859011), (4075, 0.003934393201417583), (3540, 0.003932723838176407), (3019, 0.003925248838690164), (3359, 0.003924051673262479), (4126, 0.003923616488556897), (3884, 0.003923079658933326), (2696, 0.003919637405308748), (3307, 0.003916730441989844), (1947, 0.003914261428942377), (3754, 0.003910364645798402), (4163, 0.003909259014542599), (3729, 0.003907666576751282), (3425, 0.003906938300194167), (860, 0.003906750597784166), (4713, 0.003903296141506888), (443, 0.0038999926444620633), (3408, 0.0038992830739968997), (4398, 0.003896243189348428), (2987, 0.0038926626154605366), (2884, 0.00389239859310385), (3337, 0.0038905864327921018), (3396, 0.0038892480839765255), (823, 0.003886560784316677), (4650, 0.0038858420978056356), (2872, 0.0038813122941827065), (4369, 0.0038792360166520507), (3355, 0.003879194449031201), (925, 0.003877055525396536), (3165, 0.003872820850949103), (274, 0.003871557450549872), (2478, 0.003870777363641427), (2187, 0.0038698335136425712), (3952, 0.0038667776569299567), (4516, 0.003866493818640703), (1656, 0.003865787526753094), (4244, 0.0038628510798646323), (3639, 0.003858975648519194), (2796, 0.0038587597771822142), (3423, 0.003858145981069097), (2702, 0.003853778505025818), (1924, 0.00385213798195117), (4295, 0.0038497533029166393), (876, 0.003848668470390863), (1497, 0.0038481820237625548), (739, 0.003847579083671158), (4753, 0.0038448357115146805), (3883, 0.003843511076422024), (4243, 0.003838580372574493), (3296, 0.003835023947636766), (2223, 0.0038338127913265622), (2346, 0.003833756252529524), (3611, 0.003831171852759821), (2051, 0.0038309572602248237), (3867, 0.003830430780665816), (2437, 0.003827206611806216), (1909, 0.0038271651951545214), (4187, 0.003825905041055928), (1843, 0.0038243817401935895), (107, 0.003824223769985629), (2893, 0.0038237419782944236), (3186, 0.003823215187641028), (998, 0.003822430800380318), (999, 0.0038193024071789257), (2881, 0.0038188315955708374), (2411, 0.003818065049792577), (3148, 0.0038176521725427387), (4731, 0.003817638051625254), (2623, 0.0038171774440985628), (3043, 0.003817065160749977), (2936, 0.003816954237642278), (478, 0.0038160657618577054), (2400, 0.0038137344192764678), (2914, 0.003813331382845082), (3680, 0.003812897021840119), (3992, 0.0038114553144388014), (4494, 0.0038091988456524814), (1148, 0.003807035028380951), (281, 0.003806468868433136), (1383, 0.003806233702586909), (3013, 0.003803711440424185), (3274, 0.003799136287641161), (3373, 0.003795080709064327), (4333, 0.00379416437964594), (533, 0.003792476928885761), (1023, 0.003790184303269846), (1489, 0.003788821322502815), (3962, 0.0037869259346800673), (2974, 0.003785673169429874), (922, 0.003782991683381645), (4718, 0.0037816314422817483), (2903, 0.0037812938506942796), (3196, 0.003781020790996972), (4160, 0.0037804738600707866), (3012, 0.003780346383909065), (2579, 0.003779498067086807), (596, 0.0037779869201781885), (2916, 0.0037768400035551814), (1862, 0.003776327747606193), (1499, 0.003774527964721686), (3032, 0.0037741912141294335), (436, 0.0037725148229062707), (4396, 0.0037724456841067983), (3146, 0.0037715732564008748), (308, 0.003770504415107069), (2356, 0.0037693457332943965), (4401, 0.0037672560514116294), (3737, 0.003765080113115153), (3593, 0.003763992442404407), (4293, 0.003762566697674823), (458, 0.003762323014142991), (4051, 0.003761792736817936), (3804, 0.00376132802063655), (3248, 0.0037604744168371366), (444, 0.0037569692714374808), (3273, 0.0037538775287453098), (2209, 0.0037538519340590444), (2782, 0.0037534168119051077), (3157, 0.0037530412818507657), (2830, 0.0037526565793438876), (4397, 0.0037526158039349836), (4593, 0.0037493847989618014), (4706, 0.0037460836327760554), (3003, 0.003745688785217456), (4259, 0.0037453409542393856), (2505, 0.003744665679125065), (2108, 0.0037424902418822788), (1890, 0.0037414332389279904), (3062, 0.0037382325301530644), (4138, 0.0037374481290382146), (2535, 0.003737176427983171), (888, 0.0037370204641391687), (1960, 0.003733276949499081), (1658, 0.003733086131084721), (3797, 0.0037312659293479546), (3967, 0.0037274356035123897), (3026, 0.0037253361075587983), (3101, 0.0037252162131528833), (857, 0.0037234649021457324), (967, 0.0037227043446944), (62, 0.003722701729843548), (3961, 0.0037216886220820056), (2428, 0.0037211186101532815), (2890, 0.0037206765213571693), (4619, 0.003720272154956273), (2159, 0.0037181263634456503), (3097, 0.003718051649902008), (2049, 0.0037172730774462782), (254, 0.0037164637642508745), (587, 0.003708293006064293), (3116, 0.0037052510810763927), (476, 0.0037012955173244514), (450, 0.00369988524666712), (2410, 0.0036990139817738125), (1479, 0.0036981963414564416), (2464, 0.0036980129691821908), (4308, 0.0036977047564210174), (4046, 0.00369645273564427), (2390, 0.003696389844659656), (3183, 0.0036923279571071366), (4048, 0.003691287377166932), (4601, 0.0036906334188090144), (2624, 0.003689525907136717), (253, 0.003686510121043734), (3714, 0.0036855371849288466), (2229, 0.003684861608148064), (3497, 0.003684094186471054), (1866, 0.0036817940021578333), (673, 0.0036795641527675783), (3813, 0.0036790297365848503), (1243, 0.0036777509431589225), (4133, 0.0036766209612712837), (1905, 0.0036760879757885352), (4116, 0.003676076017143727), (3044, 0.0036754618164360864), (4522, 0.0036745509904894794), (1805, 0.0036736861657426212), (350, 0.0036707931390018785), (499, 0.0036694674192037213), (481, 0.003666905658594442), (2915, 0.0036667842418105865), (2748, 0.003666597604037584), (3258, 0.0036665210427693344), (887, 0.003666319080450089), (2214, 0.003666129766184141), (2507, 0.0036628303950296376), (2595, 0.0036572020695425284), (3889, 0.003656818093004638), (3642, 0.0036563923105604012), (4722, 0.0036554359201594316), (1325, 0.003654678989857114), (2888, 0.003652499957481768), (3771, 0.003652128502585695), (2705, 0.003650967515388217), (3694, 0.0036491104746528774), (3269, 0.0036473581279173285), (952, 0.0036449240935284856), (1015, 0.0036448695360128468), (1874, 0.0036439921403808757), (4734, 0.003643923446768985), (3704, 0.0036437940246741205), (3893, 0.0036426007409347647), (4024, 0.0036412486333019215), (2116, 0.003639173030839248), (728, 0.0036367550819078357), (2190, 0.003634534360877543), (4579, 0.0036344268726902457), (210, 0.0036340010556775715), (2776, 0.0036315537851887847), (3692, 0.0036304837731050512), (1848, 0.003629758220663436), (4132, 0.0036294125567515973), (430, 0.003629208400609999), (4161, 0.0036274374878374426), (2475, 0.0036261200944317827), (3112, 0.0036257804885433944), (1995, 0.0036256839876248705), (1359, 0.0036232189596381937), (4540, 0.003623044852565604), (4245, 0.0036227471613475056), (3184, 0.003621598901868137), (2162, 0.003620951065860211), (3095, 0.0036200001273615735), (991, 0.003619426970205426), (3496, 0.003619352201601451), (2254, 0.003618311382012147), (395, 0.003617646600186251), (1637, 0.003616846834493077), (4371, 0.0036158081448167075), (485, 0.0036134390385320356), (3781, 0.003612776406380015), (4495, 0.0036116222971950855), (2786, 0.003610868127709656), (4111, 0.0036096242020961767), (1683, 0.003608179461445251), (1409, 0.003607275128836306), (2260, 0.0036070065877137425), (3904, 0.0036065428685051982), (3728, 0.0036056402914422564), (3873, 0.0036054528519818664), (1712, 0.00360416055068183), (1141, 0.003603395757528805), (4005, 0.0036029177439605526), (2949, 0.003602738940684133), (3007, 0.0036021746687804326), (2104, 0.003601023545778716), (4231, 0.003596857770768278), (1324, 0.0035967642289509126), (826, 0.003596042197049353), (3601, 0.0035960179688572097), (3235, 0.0035945132294470826), (2970, 0.0035940211004504), (2096, 0.0035939478001390966), (4355, 0.003592149929705808), (4169, 0.0035917340814422705), (3987, 0.0035912516813097393), (2105, 0.0035905155790433483), (4175, 0.0035903888510616065), (3973, 0.003589983989640738), (1779, 0.0035898856369377657), (1572, 0.003587791910713574), (3434, 0.0035871923388103065), (246, 0.00358586944261294), (1339, 0.0035839960044085966), (622, 0.003582870975683489), (3590, 0.0035817411667626955), (623, 0.0035811658724098556), (493, 0.0035800247642239808), (612, 0.003579975726730039), (208, 0.003579761993102388), (2821, 0.0035795759765932527), (2565, 0.003576875966919861), (206, 0.0035767942175360585), (2361, 0.003576516002770954), (3084, 0.003576212747254622), (4489, 0.0035761555530613004), (3314, 0.003576092647138966), (68, 0.003576013758936244), (4471, 0.0035756162578777077), (4054, 0.0035753357631571614), (3326, 0.003571229467902008), (3483, 0.003570067083950653), (4505, 0.003569087405216816), (1853, 0.003569051399575761), (2953, 0.0035690211668431035), (4575, 0.003567644947059298), (2288, 0.0035665296481554453), (2196, 0.0035657132701582424), (193, 0.0035650195447029893), (4286, 0.003564953039093349), (2849, 0.0035646848147006293), (4052, 0.003563635263346821), (1918, 0.0035616096065830337), (4123, 0.00356023285800439), (3037, 0.0035591696956506326), (4, 0.0035576881444419144), (4033, 0.003557195436343581), (470, 0.003556230102598938), (4420, 0.0035554468548463676), (4566, 0.0035544814230880424), (1916, 0.0035532324293692584), (2394, 0.0035529228398962147), (2385, 0.0035513991122525907), (4474, 0.0035502803024875743), (1007, 0.003549713077433648), (3511, 0.0035493266425447997), (1670, 0.003548899577658837), (3187, 0.0035482898862137834), (51, 0.0035475757884747988), (3984, 0.003546077905393097), (1570, 0.0035460754557375563), (830, 0.003544461435867113), (1902, 0.003544157911060288), (2419, 0.0035424669154511734), (4757, 0.0035409291348734682), (3242, 0.0035400821958535954), (4225, 0.00353952266917025), (1188, 0.0035390939693293625), (1821, 0.0035383030154904852), (173, 0.003533866489621913), (429, 0.0035337833590246407), (255, 0.0035308801650303077), (1439, 0.003530454414687), (4430, 0.0035302939390271927), (4497, 0.0035301602920744923), (845, 0.0035300089616041226), (502, 0.0035299454625292857), (1736, 0.00352984652337904), (20, 0.003526831196926696), (2926, 0.0035263247660170228), (580, 0.003523440988984184), (3862, 0.003521537962220895), (1229, 0.0035201878468800536), (3514, 0.003520090858764544), (482, 0.0035194324004522554), (3351, 0.003519133016430449), (3241, 0.0035177050143111763), (3845, 0.0035169976879268683), (4419, 0.0035151514319986593), (1475, 0.003515086562873114), (23, 0.003513749119253273), (2545, 0.0035129388462634592), (2370, 0.0035128829726157936), (1513, 0.0035124592603244568), (543, 0.003511820463507782), (3224, 0.003510505409793888), (34, 0.003508636273261681), (3902, 0.00350831843843165), (1083, 0.0035082634535173345), (2904, 0.0035070856285565953), (2405, 0.0035069271828489035), (1727, 0.0035057954268202414), (3353, 0.003505487034106215), (2650, 0.003503253698773219), (2319, 0.0035028190952869644), (447, 0.00350122427593333), (4625, 0.003501030205104163), (3666, 0.003501027341207272), (4756, 0.0034998476791703653), (3349, 0.0034982241569574014), (987, 0.003497324500335697), (1124, 0.003495750102070375), (4079, 0.0034954017907959938), (774, 0.003493724583967546), (637, 0.0034916924167655607), (3517, 0.003491233244313858), (2123, 0.003490074790401247), (584, 0.0034889213504889563), (1703, 0.0034887059553533484), (1765, 0.0034873757674255762), (4334, 0.0034849784644450468), (980, 0.0034848881963960767), (2919, 0.003483291833102427), (3198, 0.0034832468943020362), (606, 0.0034818453729947184), (1382, 0.0034803648484657474), (4249, 0.0034790397047079783), (2988, 0.003477671173319438), (120, 0.0034774745119177993), (4470, 0.003476336036126523), (3636, 0.00347482267208407), (1516, 0.003472534319917932), (3153, 0.003472117953213939), (3290, 0.003469989788245571), (4643, 0.003468385626288787), (743, 0.003464878115167745), (1946, 0.0034648734557798633), (176, 0.003464709454500733), (871, 0.0034645070816482176), (2321, 0.0034642506960512257), (2466, 0.003462834423469452), (3016, 0.003461507524119468), (1334, 0.0034613787304625717), (2894, 0.0034601842858539168), (509, 0.0034578927739306264), (4098, 0.003456289798780403), (3289, 0.003455556082670794), (3225, 0.003455288688834849), (71, 0.0034543416495507796), (3445, 0.0034532007974139804), (1355, 0.0034529404917929604), (3000, 0.003452324761996244), (4273, 0.0034504564796621773), (3542, 0.003449899524538914), (652, 0.003448878896159477), (2386, 0.003447314540028964), (1936, 0.0034461693882295538), (1931, 0.0034450714104553794), (3699, 0.0034439862175473655), (933, 0.0034435852091232078), (1176, 0.0034418716932073513), (1182, 0.0034401949117445806), (406, 0.0034401789001929427), (3113, 0.003439107876282631), (238, 0.003439042820248402), (4197, 0.0034374091309004456), (3653, 0.0034371446805213095), (2073, 0.0034364704365117526), (750, 0.0034351517358952623), (3182, 0.00343483125256333), (1122, 0.0034328406472525818), (3707, 0.003431771014903652), (1942, 0.0034304961081269725), (2397, 0.0034292695896830146), (3792, 0.0034289994939110447), (2746, 0.003428382067346689), (2313, 0.003423335694825112), (4049, 0.0034220574071381696), (198, 0.0034211352016776135), (1204, 0.0034210690755237614), (1533, 0.0034203391560560037), (4004, 0.0034195134183714), (579, 0.0034180389497114987), (2374, 0.0034172387491777888), (2887, 0.0034165585771466114), (1476, 0.003416131387800175), (4014, 0.003411630461789864), (1872, 0.0034103518810074873), (2652, 0.003408815287513823), (1410, 0.0034078788470563205), (4391, 0.0034075784145156927), (636, 0.003405294216199511), (1722, 0.0034049668541567034), (2122, 0.0034039615613473207), (1922, 0.0034037925815636884), (2745, 0.0034034067385727194), (1175, 0.0034028644452742812), (2396, 0.003402489560242554), (2554, 0.003401542700363387), (3210, 0.0034011412977185042), (3670, 0.0034006703446623886), (3227, 0.0033997869647382096), (1232, 0.003397854569706803), (2934, 0.0033964104005035018), (2192, 0.0033956290592792706), (2606, 0.0033951312339181), (3155, 0.0033949095542162053), (696, 0.003393949340558104), (2783, 0.003393327150787788), (2067, 0.003392116538007456), (3541, 0.003391787212055106), (2533, 0.003391312189838922), (2284, 0.0033900367478869563), (2826, 0.0033898486851395753), (4435, 0.003387930080571216), (378, 0.0033862850056149228), (697, 0.0033859394246071152), (1131, 0.0033830968386558643), (172, 0.0033825357178604355), (5, 0.003381876597953319), (4715, 0.003380542958296819), (1488, 0.0033803217436169978), (2340, 0.0033801970697046766), (2344, 0.0033788527046259356), (2695, 0.0033760034963635148), (114, 0.0033750510125623292), (761, 0.0033723448358598876), (3478, 0.0033718519218704085), (2495, 0.0033715459876385717), (226, 0.003371381817716759), (986, 0.003369270203090158), (1378, 0.0033689803624654025), (4427, 0.0033680596464705868), (479, 0.003367862591000909), (370, 0.003366382258906813), (66, 0.003365266854150942), (2387, 0.0033645116466934277), (3346, 0.003362880747215831), (109, 0.0033616280388234078), (2943, 0.003359725583881183), (1021, 0.0033586376283999443), (1112, 0.003358361954041851), (4268, 0.003358226149875996), (3673, 0.003358188286591641), (2853, 0.0033549501577682444), (3807, 0.003354164615161701), (4056, 0.0033536239107544615), (1298, 0.0033531637121516395), (2999, 0.0033527241479529564), (4409, 0.003351897333449288), (4060, 0.0033499859961651558), (2289, 0.0033484947710184535), (2512, 0.0033476488287690572), (1102, 0.0033464879238800137), (1483, 0.003345690919813946), (3441, 0.003344149738499836), (2174, 0.0033422248953375163), (3553, 0.003341805365123696), (1252, 0.003340698596709873), (3624, 0.0033405990580309547), (1072, 0.0033396540740660064), (1438, 0.0033392745058285944), (490, 0.003338903558687263), (3565, 0.0033370210648974194), (3596, 0.00333700486960082), (3888, 0.0033362656617186666), (1831, 0.0033339111864453975), (247, 0.003333910917781877), (464, 0.00333290277620083), (2569, 0.003331784859436212), (3381, 0.003331581696629127), (4228, 0.003331200935827446), (174, 0.0033305378265060274), (61, 0.0033289598899823923), (1598, 0.0033284981367090066), (374, 0.003326749881161434), (1621, 0.0033240382654010476), (880, 0.003323425146454009), (4668, 0.0033223986017969402), (4487, 0.003321979520924862), (3173, 0.003320641507869499), (2173, 0.0033203014123028758), (2961, 0.003318969396618591), (3093, 0.0033183671961394003), (2946, 0.003318328278369634), (3195, 0.0033182148287771163), (3906, 0.003317476141416174), (3647, 0.0033174609766277565), (2687, 0.0033173615409774174), (989, 0.003316462260994642), (1100, 0.003316039991339026), (4349, 0.0033155727886648987), (3499, 0.00331245770665587), (3827, 0.0033060144175924193), (3379, 0.00330578399367481), (1286, 0.003305586146020393), (2216, 0.003304588206318227), (1882, 0.003303686985524498), (2111, 0.0033028603807952256), (98, 0.003301684011695674), (4362, 0.0033015546403290033), (2945, 0.003300607230770209), (1527, 0.003299929515304177), (26, 0.003299172017586711), (2087, 0.003297900818923762), (4530, 0.0032976400713133265), (4299, 0.0032916319526012914), (3719, 0.003291108678585129), (4309, 0.003291019733596602), (3706, 0.003290681021962409), (4743, 0.003289976096593293), (446, 0.0032892597042317178), (2909, 0.0032885014145848965), (799, 0.0032870338103416085), (2279, 0.0032853442905706525), (1350, 0.003284470417393911), (1284, 0.0032823263499305645), (693, 0.0032817909260769856), (1096, 0.003280341653109777), (358, 0.0032793561280909777), (1017, 0.003277365695714616), (2401, 0.003276981906762912), (755, 0.0032768521534854923), (1967, 0.0032756494578640347), (4693, 0.003275313375878285), (959, 0.003275085456274541), (3075, 0.0032747507143925125), (522, 0.003273049076806744), (3370, 0.0032729430470818015), (329, 0.0032709506332515934), (349, 0.00327026231975163), (676, 0.0032689241623169957), (4381, 0.003268871029531861), (2912, 0.003264931203958873), (1261, 0.0032646174668080996), (1671, 0.00326451806698756), (1030, 0.0032639146583333853), (4129, 0.0032637086969370434), (1481, 0.003263482903396136), (3348, 0.003263134319329992), (817, 0.0032629921125061955), (2080, 0.003257807240217193), (3298, 0.003257118971154037), (4069, 0.0032568401486228575), (1247, 0.0032567406876105494), (651, 0.0032553512715332174), (87, 0.0032550015304189665), (19, 0.003253239077482603), (2467, 0.003253160921446892), (3660, 0.0032515863439420123), (4461, 0.00324603470499986), (85, 0.0032437538735505503), (1864, 0.0032431043458310805), (3352, 0.003242556442100452), (646, 0.0032425423220295395), (3900, 0.003242337729335519), (396, 0.0032402274767140524), (1117, 0.0032391783870832328), (620, 0.003238537761041503), (2117, 0.0032343178199396084), (3503, 0.0032332664862028213), (4670, 0.0032298987712122778), (1034, 0.0032290658065011763), (1478, 0.0032288658156375137), (2024, 0.003228861767908574), (487, 0.0032277935365892328), (2752, 0.003225003985993594), (52, 0.0032239709800181344), (4567, 0.003222607513319345), (1416, 0.0032221785776376404), (4536, 0.0032214360926524272), (3315, 0.0032210616429989136), (4614, 0.0032207104500269848), (1854, 0.0032193234960269214), (3214, 0.003219067985457491), (2779, 0.0032188180332972096), (3268, 0.0032181987693212597), (2886, 0.0032169275809136194), (1744, 0.0032166723725006474), (3978, 0.00321613494230402), (1929, 0.0032144548833019193), (2540, 0.003213628156129646), (157, 0.0032113182752630076), (2121, 0.0032100475836551404), (3035, 0.003209969014862534), (4085, 0.003209235308352167), (3691, 0.003208466060089036), (164, 0.0032084452767109453), (3170, 0.0032077684922126857), (3171, 0.0032074411345980173), (984, 0.003207317827302509), (4213, 0.0032062579072896368), (2242, 0.0032049276869449564), (2068, 0.0032040407701749932), (1255, 0.0032037673117150402), (505, 0.0032031866982861075), (2965, 0.003203005896868983), (4206, 0.003202862400343067), (1160, 0.0032004380275661424), (3898, 0.0031997596505853624), (437, 0.003199416772868566), (4345, 0.003198343889069734), (3799, 0.0031962393251531076), (2572, 0.0031940557080638618), (4246, 0.0031925642151207777), (2679, 0.003190667839468037), (203, 0.003190423541455167), (698, 0.003190186295798133), (2651, 0.0031901628020017396), (2598, 0.003190132517923615), (434, 0.003189934329785398), (2133, 0.003189275194141284), (2997, 0.003187015904597086), (2800, 0.0031856555791622194), (1032, 0.0031847292279724433), (197, 0.0031837293853442857), (3014, 0.003183115010226201), (116, 0.0031823597151726416), (578, 0.0031823298809163358), (126, 0.0031813579947726966), (939, 0.003180367944291641), (3734, 0.0031802358770551533), (276, 0.0031792739624442665), (3811, 0.0031786811279613815), (2972, 0.0031782933501003597), (2348, 0.0031760014202790376), (3615, 0.00317523212529007), (3433, 0.0031749038989948054), (2004, 0.0031691001612949806), (3300, 0.003168681289439443), (236, 0.0031672261173688854), (4011, 0.003166672594706874), (4254, 0.0031660042277763677), (1203, 0.003165877130638927), (1693, 0.0031658744595313613), (1372, 0.0031629947994640606), (886, 0.0031611249040868652), (903, 0.003160658842249583), (140, 0.0031585038889021828), (941, 0.0031580670870211412), (3243, 0.0031580549361974516), (1665, 0.0031570871206575927), (975, 0.003156562962084914), (2496, 0.0031532640164976407), (900, 0.0031526228090302515), (2099, 0.003151591149000996), (1884, 0.0031515574985060604), (2149, 0.003150472313004473), (655, 0.0031487234082923743), (4603, 0.0031452539264053285), (3452, 0.0031441757438881728), (229, 0.00314354773543388), (598, 0.0031416227903818456), (944, 0.0031414797604396834), (1819, 0.003141343303936251), (659, 0.0031408443764742175), (3725, 0.003139583859428143), (213, 0.00313825000424335), (1107, 0.0031371898103426657), (2201, 0.0031366449179435455), (4356, 0.0031358447636118665), (838, 0.0031353422626087956), (1558, 0.0031343948986597057), (2528, 0.003131273878090549), (868, 0.0031306260167583582), (1183, 0.0031297432113176525), (3500, 0.00312826096424591), (2907, 0.0031271700746211667), (1641, 0.0031267804917038083), (2556, 0.0031265735343295646), (589, 0.003124927759737407), (463, 0.0031249274434996407), (2129, 0.0031243717072205256), (399, 0.0031243665732939943), (3120, 0.003121735685496661), (766, 0.0031198823115684187), (3627, 0.0031198140572688392), (2868, 0.003119580076987687), (1519, 0.003118045890264627), (1760, 0.0031174875301539164), (1448, 0.0031156079074692376), (4616, 0.003114756379478093), (136, 0.003113752083021452), (2735, 0.0031132211776950134), (3558, 0.0031129303543188883), (2399, 0.0031124753326739157), (2593, 0.003110929738354537), (3369, 0.003110197290345891), (3839, 0.003110081513834004), (558, 0.0031092379106426576), (355, 0.003109161062791635), (638, 0.0031076987725473753), (1667, 0.0031075164720703423), (1357, 0.0031073133594678084), (1543, 0.0031065290097090545), (1814, 0.0031046344627106925), (2674, 0.0031038672435578824), (604, 0.0031010546561898783), (1079, 0.003100726077905449), (2347, 0.0030996310245435116), (2453, 0.0030990204057124047), (121, 0.003099009437390169), (3455, 0.0030960103977600625), (3876, 0.0030951319881114335), (43, 0.003094933569055445), (457, 0.0030947125626197536), (1462, 0.0030927254201722934), (183, 0.0030923693469628232), (4326, 0.003091378014694095), (2362, 0.0030908525093721125), (3050, 0.003089241976525509), (4277, 0.0030884583514795504), (910, 0.0030865773143672775), (1628, 0.0030852210953377177), (624, 0.003084137482786029), (3329, 0.003082560411615819), (1065, 0.0030818501685494727), (3742, 0.003079917451758122), (4502, 0.003079599737549179), (1434, 0.0030784854657455525), (4359, 0.00307839285081184), (465, 0.0030783359048017376), (199, 0.003074499088020612), (1730, 0.003074070257341257), (2728, 0.003069143025350933), (2803, 0.003068516725932913), (3953, 0.0030679025734402284), (3278, 0.0030659638606221618), (3474, 0.003063884464250735), (1528, 0.0030625855799699406), (1680, 0.0030622968174212942), (1892, 0.0030617887331372768), (2265, 0.0030610287346044063), (1237, 0.003060820571642478), (1538, 0.003060589480561178), (3418, 0.0030599926951533334), (4053, 0.0030595864490264328), (3267, 0.003059525763834858), (608, 0.0030564820380647837), (2402, 0.003053616863047144), (1869, 0.0030528670909251306), (3614, 0.0030519872334739), (3705, 0.003051127573647988), (449, 0.003049534059234435), (1826, 0.003049030875820255), (4154, 0.00304684165643766), (1605, 0.0030462104490992683), (1161, 0.0030437357232574883), (2323, 0.0030428319151477624), (1366, 0.0030415513412586173), (563, 0.0030404626721130335), (515, 0.0030393376613667552), (3318, 0.0030389304911447126), (581, 0.0030385714133213493), (1690, 0.003037914437076545), (4712, 0.003037486895447079), (1080, 0.0030354439629788578), (3974, 0.0030348575331387243), (804, 0.0030327106356982316), (4475, 0.0030321257423176545), (1625, 0.0030320040622281606), (1739, 0.0030317912303668808), (2248, 0.003031359436875872), (161, 0.003030791491595508), (3863, 0.003029933999117434), (4304, 0.00302625714887434), (2591, 0.0030250625289372584), (1219, 0.003024895787591785), (158, 0.0030245615121909613), (1980, 0.0030243048705380165), (2191, 0.003023943289726795), (4080, 0.0030232893175993533), (2607, 0.0030223368658723257), (1004, 0.0030222455585447957), (3801, 0.003020938081353993), (2976, 0.003020515564985104), (3167, 0.003019663440573323), (917, 0.0030181125272209066), (3795, 0.003016208944089927), (3556, 0.003014870247311602), (1921, 0.003013419123762979), (2580, 0.0030111725827803035), (1934, 0.0030107196324961494), (856, 0.0030097603629611995), (2163, 0.003008645948064805), (1414, 0.0030081005758153573), (268, 0.0030073535461153044), (1318, 0.003007148061158489), (2213, 0.003006879727692469), (672, 0.003006676899437036), (4141, 0.003006358930943922), (3956, 0.0030053170068893346), (2264, 0.002995581571770858), (3380, 0.002993176935267216), (1423, 0.002992481912531317), (1009, 0.0029912513996994557), (132, 0.002989377591553958), (4661, 0.002988852760661929), (4104, 0.0029887648486067423), (1830, 0.0029876687350699352), (1290, 0.0029872188246775006), (1954, 0.0029868702534877984), (252, 0.0029867249156306595), (705, 0.0029850957710451514), (1251, 0.002983728801190466), (4343, 0.0029824515373318263), (3755, 0.002980014594825119), (200, 0.00297938244478576), (712, 0.002979001943407653), (519, 0.0029771598024699304), (2502, 0.002974946497853054), (4220, 0.0029745596495043387), (1199, 0.002974455076916465), (2617, 0.002972809078393384), (808, 0.002972557524866782), (2753, 0.0029704685334434005), (92, 0.002967353965805222), (605, 0.002966946307624553), (4066, 0.0029611238068189476), (3910, 0.00296026318219518), (2240, 0.002958961444806815), (480, 0.0029587861367719992), (647, 0.002958459489562022), (32, 0.0029569052637916037), (851, 0.0029538576499128877), (317, 0.0029524647897527794), (4432, 0.0029512850982008646), (3880, 0.0029417379764316185), (4296, 0.0029370196633742795), (4232, 0.0029313475951259806), (3096, 0.002931042766547028), (2721, 0.0029298450683045616), (2692, 0.0029279919041756575), (4429, 0.002927634391606953), (1217, 0.0029273094088418912), (2520, 0.0029229906208714284), (2747, 0.002921671558014821), (103, 0.0029205008116943), (242, 0.002919355553617167), (147, 0.002917191330232233), (1397, 0.0029158520072431102), (2270, 0.002913333494233907), (642, 0.0029124769026370036), (4386, 0.0029080699620443835), (1370, 0.0029073608749281997), (278, 0.002904046079485293), (861, 0.002903579862251482), (364, 0.002900815009539761), (2527, 0.0029000428741117637), (3629, 0.002895785669697789), (286, 0.0028934432130752366), (4411, 0.0028886643137964537), (2382, 0.002888397948854419), (1763, 0.002887464810153656), (1833, 0.002887269239237133), (445, 0.0028865331458078924), (1088, 0.002882386104215441), (1627, 0.0028822788762311153), (2146, 0.0028815583391927956), (1050, 0.002872557587142384), (3065, 0.002864027680879915), (1340, 0.0028635162091551884), (2771, 0.0028611087513437483), (1202, 0.002860074354586272), (3669, 0.002857481155176055), (267, 0.002857443692081792), (2035, 0.0028564714433522154), (617, 0.0028468151804818143), (951, 0.002846470318047795), (2039, 0.0028362831177021547), (707, 0.0028360632302246217), (2157, 0.0028352555050258476), (3347, 0.0028300355374984995), (4610, 0.00282987894575773), (3091, 0.002822282101797458), (2132, 0.0028169468554398356), (1042, 0.0028161099584206625), (2355, 0.0028110911867017955), (3331, 0.0028107379056427017), (16, 0.002810390065620565), (616, 0.002809905912205898), (1209, 0.0028098424303448152), (3252, 0.0028096068696997494), (1078, 0.0028080137447849015), (44, 0.0028068180234205055), (796, 0.002799377416974019), (2602, 0.002797786020373924), (3056, 0.002793319270473862), (142, 0.002789725792660097), (3024, 0.0027892922098789338), (4200, 0.002787803336783692), (149, 0.0027844224493768057), (2034, 0.00277797157339877), (843, 0.002772900494893336), (3548, 0.0027728297821401266), (1415, 0.0027625801887337766), (2697, 0.0027603925371989043), (433, 0.002758147919670794), (3254, 0.0027569703723787473), (645, 0.002753925701702381), (1098, 0.0027495408269735777), (1624, 0.0027438300660217033), (1037, 0.0027428722096442546), (942, 0.002741196337855315), (4744, 0.00273339964611298), (1317, 0.0027319559242399982), (2441, 0.0027304356219521406), (4626, 0.0027261082224027703), (3575, 0.0027240391231530283), (1303, 0.0027185768619441167), (1989, 0.002708220615245609), (3431, 0.0027076906734279198), (2925, 0.002707240332028528), (1871, 0.002683703709478576), (3471, 0.002680965679013123), (527, 0.0026693704262107073), (2010, 0.002662793983914826), (3301, 0.00264043583381719), (2469, 0.0026399485094894424), (1040, 0.002633554979999036), (1747, 0.0026240576314657317), (571, 0.0025997442189531436), (607, 0.002598221820377238), (1403, 0.00259063595808677), (2760, 0.002588025186367075), (271, 0.002584111829387164), (224, 0.0025797942487642794), (453, 0.0025783386860365946), (1774, 0.002574546817439382), (351, 0.002572508946604671), (4182, 0.0025581618244111793), (1861, 0.0025558276096296034), (3645, 0.0025415056263072043), (3285, 0.0025348674000525307), (4445, 0.0025312756640043206), (296, 0.0025271251516903455), (256, 0.002519057829686327), (4301, 0.00250164440537216), (2902, 0.002479900057864895), (283, 0.002467523044589013), (641, 0.0024145712605585035), (455, 0.002392667323784456), (831, 0.0023803785108148508), (542, 0.0023644928298075015), (940, 0.0023598074683352614), (824, 0.0023480419126174416), (3421, 0.0023327555335333834), (858, 0.002276661297880702), (740, 0.0022619705299813495), (3392, 0.00224042244123494), (24, 0.0022022421226389802), (1780, 0.002199578615288167), (3608, 0.0021962493994856567), (3835, 0.002030765828863159), (2538, 0.0020174776985893267), (475, 0.0011787617410483893), (1, 0.0), (6, 0.0), (13, 0.0), (17, 0.0), (22, 0.0), (27, 0.0), (30, 0.0), (36, 0.0), (42, 0.0), (47, 0.0), (49, 0.0), (53, 0.0), (54, 0.0), (55, 0.0), (69, 0.0), (70, 0.0), (76, 0.0), (77, 0.0), (81, 0.0), (89, 0.0), (90, 0.0), (93, 0.0), (95, 0.0), (99, 0.0), (117, 0.0), (118, 0.0), (128, 0.0), (133, 0.0), (134, 0.0), (141, 0.0), (143, 0.0), (145, 0.0), (151, 0.0), (155, 0.0), (180, 0.0), (181, 0.0), (187, 0.0), (188, 0.0), (205, 0.0), (207, 0.0), (219, 0.0), (230, 0.0), (231, 0.0), (241, 0.0), (248, 0.0), (258, 0.0), (265, 0.0), (273, 0.0), (275, 0.0), (289, 0.0), (290, 0.0), (295, 0.0), (300, 0.0), (302, 0.0), (303, 0.0), (312, 0.0), (313, 0.0), (314, 0.0), (323, 0.0), (334, 0.0), (339, 0.0), (340, 0.0), (362, 0.0), (363, 0.0), (366, 0.0), (367, 0.0), (376, 0.0), (379, 0.0), (382, 0.0), (383, 0.0), (384, 0.0), (385, 0.0), (390, 0.0), (394, 0.0), (397, 0.0), (398, 0.0), (401, 0.0), (405, 0.0), (413, 0.0), (414, 0.0), (422, 0.0), (423, 0.0), (435, 0.0), (438, 0.0), (451, 0.0), (459, 0.0), (461, 0.0), (462, 0.0), (467, 0.0), (468, 0.0), (474, 0.0), (494, 0.0), (501, 0.0), (503, 0.0), (506, 0.0), (514, 0.0), (516, 0.0), (517, 0.0), (520, 0.0), (528, 0.0), (531, 0.0), (532, 0.0), (536, 0.0), (537, 0.0), (539, 0.0), (546, 0.0), (552, 0.0), (554, 0.0), (556, 0.0), (557, 0.0), (559, 0.0), (565, 0.0), (567, 0.0), (572, 0.0), (573, 0.0), (582, 0.0), (586, 0.0), (591, 0.0), (592, 0.0), (601, 0.0), (602, 0.0), (619, 0.0), (621, 0.0), (629, 0.0), (630, 0.0), (632, 0.0), (633, 0.0), (634, 0.0), (648, 0.0), (656, 0.0), (662, 0.0), (663, 0.0), (665, 0.0), (667, 0.0), (671, 0.0), (674, 0.0), (678, 0.0), (679, 0.0), (682, 0.0), (686, 0.0), (695, 0.0), (702, 0.0), (708, 0.0), (709, 0.0), (710, 0.0), (711, 0.0), (718, 0.0), (720, 0.0), (724, 0.0), (730, 0.0), (741, 0.0), (745, 0.0), (746, 0.0), (753, 0.0), (754, 0.0), (760, 0.0), (764, 0.0), (770, 0.0), (784, 0.0), (793, 0.0), (795, 0.0), (797, 0.0), (801, 0.0), (802, 0.0), (809, 0.0), (811, 0.0), (812, 0.0), (819, 0.0), (822, 0.0), (827, 0.0), (833, 0.0), (834, 0.0), (836, 0.0), (837, 0.0), (839, 0.0), (841, 0.0), (849, 0.0), (855, 0.0), (859, 0.0), (869, 0.0), (873, 0.0), (877, 0.0), (892, 0.0), (902, 0.0), (905, 0.0), (906, 0.0), (909, 0.0), (912, 0.0), (914, 0.0), (920, 0.0), (926, 0.0), (927, 0.0), (932, 0.0), (946, 0.0), (950, 0.0), (954, 0.0), (956, 0.0), (960, 0.0), (961, 0.0), (964, 0.0), (976, 0.0), (977, 0.0), (979, 0.0), (983, 0.0), (992, 0.0), (996, 0.0), (997, 0.0), (1008, 0.0), (1012, 0.0), (1016, 0.0), (1024, 0.0), (1028, 0.0), (1045, 0.0), (1051, 0.0), (1057, 0.0), (1058, 0.0), (1062, 0.0), (1067, 0.0), (1069, 0.0), (1070, 0.0), (1074, 0.0), (1081, 0.0), (1089, 0.0), (1091, 0.0), (1092, 0.0), (1094, 0.0), (1097, 0.0), (1099, 0.0), (1101, 0.0), (1103, 0.0), (1115, 0.0), (1125, 0.0), (1127, 0.0), (1133, 0.0), (1134, 0.0), (1135, 0.0), (1137, 0.0), (1139, 0.0), (1142, 0.0), (1143, 0.0), (1147, 0.0), (1149, 0.0), (1151, 0.0), (1154, 0.0), (1156, 0.0), (1159, 0.0), (1162, 0.0), (1164, 0.0), (1165, 0.0), (1166, 0.0), (1167, 0.0), (1172, 0.0), (1180, 0.0), (1181, 0.0), (1189, 0.0), (1190, 0.0), (1193, 0.0), (1196, 0.0), (1197, 0.0), (1198, 0.0), (1200, 0.0), (1201, 0.0), (1207, 0.0), (1212, 0.0), (1222, 0.0), (1226, 0.0), (1227, 0.0), (1230, 0.0), (1231, 0.0), (1233, 0.0), (1235, 0.0), (1236, 0.0), (1240, 0.0), (1242, 0.0), (1244, 0.0), (1249, 0.0), (1253, 0.0), (1256, 0.0), (1258, 0.0), (1265, 0.0), (1268, 0.0), (1269, 0.0), (1271, 0.0), (1272, 0.0), (1276, 0.0), (1280, 0.0), (1281, 0.0), (1285, 0.0), (1287, 0.0), (1289, 0.0), (1292, 0.0), (1293, 0.0), (1295, 0.0), (1300, 0.0), (1309, 0.0), (1311, 0.0), (1315, 0.0), (1316, 0.0), (1320, 0.0), (1323, 0.0), (1327, 0.0), (1328, 0.0), (1330, 0.0), (1331, 0.0), (1332, 0.0), (1333, 0.0), (1344, 0.0), (1345, 0.0), (1348, 0.0), (1353, 0.0), (1358, 0.0), (1361, 0.0), (1362, 0.0), (1363, 0.0), (1371, 0.0), (1376, 0.0), (1379, 0.0), (1386, 0.0), (1388, 0.0), (1389, 0.0), (1391, 0.0), (1393, 0.0), (1399, 0.0), (1401, 0.0), (1405, 0.0), (1407, 0.0), (1424, 0.0), (1428, 0.0), (1432, 0.0), (1435, 0.0), (1437, 0.0), (1441, 0.0), (1449, 0.0), (1452, 0.0), (1457, 0.0), (1460, 0.0), (1466, 0.0), (1469, 0.0), (1470, 0.0), (1473, 0.0), (1480, 0.0), (1485, 0.0), (1490, 0.0), (1491, 0.0), (1492, 0.0), (1505, 0.0), (1507, 0.0), (1508, 0.0), (1512, 0.0), (1529, 0.0), (1531, 0.0), (1532, 0.0), (1534, 0.0), (1536, 0.0), (1541, 0.0), (1542, 0.0), (1544, 0.0), (1549, 0.0), (1552, 0.0), (1556, 0.0), (1557, 0.0), (1561, 0.0), (1566, 0.0), (1567, 0.0), (1569, 0.0), (1573, 0.0), (1575, 0.0), (1581, 0.0), (1585, 0.0), (1588, 0.0), (1589, 0.0), (1590, 0.0), (1591, 0.0), (1596, 0.0), (1599, 0.0), (1600, 0.0), (1601, 0.0), (1602, 0.0), (1603, 0.0), (1604, 0.0), (1607, 0.0), (1609, 0.0), (1611, 0.0), (1614, 0.0), (1615, 0.0), (1618, 0.0), (1622, 0.0), (1623, 0.0), (1635, 0.0), (1638, 0.0), (1639, 0.0), (1644, 0.0), (1646, 0.0), (1647, 0.0), (1651, 0.0), (1652, 0.0), (1654, 0.0), (1657, 0.0), (1659, 0.0), (1664, 0.0), (1673, 0.0), (1684, 0.0), (1694, 0.0), (1697, 0.0), (1699, 0.0), (1705, 0.0), (1713, 0.0), (1715, 0.0), (1720, 0.0), (1721, 0.0), (1724, 0.0), (1729, 0.0), (1734, 0.0), (1735, 0.0), (1737, 0.0), (1745, 0.0), (1752, 0.0), (1753, 0.0), (1757, 0.0), (1761, 0.0), (1766, 0.0), (1767, 0.0), (1771, 0.0), (1773, 0.0), (1777, 0.0), (1785, 0.0), (1786, 0.0), (1789, 0.0), (1790, 0.0), (1791, 0.0), (1795, 0.0), (1800, 0.0), (1803, 0.0), (1806, 0.0), (1815, 0.0), (1820, 0.0), (1829, 0.0), (1834, 0.0), (1835, 0.0), (1836, 0.0), (1838, 0.0), (1839, 0.0), (1840, 0.0), (1842, 0.0), (1844, 0.0), (1846, 0.0), (1847, 0.0), (1849, 0.0), (1855, 0.0), (1856, 0.0), (1863, 0.0), (1867, 0.0), (1868, 0.0), (1879, 0.0), (1880, 0.0), (1883, 0.0), (1889, 0.0), (1894, 0.0), (1898, 0.0), (1899, 0.0), (1901, 0.0), (1904, 0.0), (1906, 0.0), (1917, 0.0), (1926, 0.0), (1927, 0.0), (1930, 0.0), (1932, 0.0), (1933, 0.0), (1937, 0.0), (1938, 0.0), (1939, 0.0), (1940, 0.0), (1944, 0.0), (1945, 0.0), (1949, 0.0), (1953, 0.0), (1956, 0.0), (1962, 0.0), (1965, 0.0), (1966, 0.0), (1970, 0.0), (1974, 0.0), (1975, 0.0), (1978, 0.0), (1979, 0.0), (1993, 0.0), (1996, 0.0), (1998, 0.0), (1999, 0.0), (2001, 0.0), (2006, 0.0), (2018, 0.0), (2021, 0.0), (2025, 0.0), (2026, 0.0), (2030, 0.0), (2041, 0.0), (2042, 0.0), (2044, 0.0), (2052, 0.0), (2054, 0.0), (2059, 0.0), (2063, 0.0), (2064, 0.0), (2081, 0.0), (2082, 0.0), (2084, 0.0), (2085, 0.0), (2090, 0.0), (2093, 0.0), (2095, 0.0), (2098, 0.0), (2100, 0.0), (2106, 0.0), (2107, 0.0), (2110, 0.0), (2113, 0.0), (2120, 0.0), (2124, 0.0), (2125, 0.0), (2130, 0.0), (2135, 0.0), (2136, 0.0), (2138, 0.0), (2140, 0.0), (2152, 0.0), (2153, 0.0), (2158, 0.0), (2164, 0.0), (2168, 0.0), (2170, 0.0), (2171, 0.0), (2172, 0.0), (2179, 0.0), (2181, 0.0), (2184, 0.0), (2185, 0.0), (2186, 0.0), (2197, 0.0), (2200, 0.0), (2202, 0.0), (2205, 0.0), (2206, 0.0), (2207, 0.0), (2219, 0.0), (2220, 0.0), (2227, 0.0), (2231, 0.0), (2232, 0.0), (2235, 0.0), (2238, 0.0), (2244, 0.0), (2247, 0.0), (2249, 0.0), (2256, 0.0), (2258, 0.0), (2267, 0.0), (2272, 0.0), (2273, 0.0), (2274, 0.0), (2275, 0.0), (2280, 0.0), (2281, 0.0), (2282, 0.0), (2297, 0.0), (2298, 0.0), (2300, 0.0), (2304, 0.0), (2307, 0.0), (2312, 0.0), (2314, 0.0), (2316, 0.0), (2325, 0.0), (2328, 0.0), (2331, 0.0), (2332, 0.0), (2333, 0.0), (2335, 0.0), (2337, 0.0), (2341, 0.0), (2345, 0.0), (2352, 0.0), (2353, 0.0), (2357, 0.0), (2358, 0.0), (2360, 0.0), (2364, 0.0), (2365, 0.0), (2366, 0.0), (2368, 0.0), (2369, 0.0), (2371, 0.0), (2372, 0.0), (2373, 0.0), (2381, 0.0), (2383, 0.0), (2384, 0.0), (2389, 0.0), (2395, 0.0), (2408, 0.0), (2413, 0.0), (2424, 0.0), (2426, 0.0), (2433, 0.0), (2435, 0.0), (2439, 0.0), (2442, 0.0), (2449, 0.0), (2450, 0.0), (2451, 0.0), (2452, 0.0), (2455, 0.0), (2460, 0.0), (2465, 0.0), (2468, 0.0), (2471, 0.0), (2476, 0.0), (2479, 0.0), (2483, 0.0), (2493, 0.0), (2499, 0.0), (2500, 0.0), (2506, 0.0), (2508, 0.0), (2515, 0.0), (2517, 0.0), (2519, 0.0), (2521, 0.0), (2523, 0.0), (2524, 0.0), (2536, 0.0), (2541, 0.0), (2544, 0.0), (2548, 0.0), (2551, 0.0), (2564, 0.0), (2566, 0.0), (2567, 0.0), (2573, 0.0), (2574, 0.0), (2575, 0.0), (2576, 0.0), (2577, 0.0), (2578, 0.0), (2583, 0.0), (2586, 0.0), (2588, 0.0), (2589, 0.0), (2590, 0.0), (2594, 0.0), (2596, 0.0), (2597, 0.0), (2599, 0.0), (2600, 0.0), (2604, 0.0), (2605, 0.0), (2618, 0.0), (2620, 0.0), (2630, 0.0), (2639, 0.0), (2641, 0.0), (2644, 0.0), (2646, 0.0), (2648, 0.0), (2657, 0.0), (2658, 0.0), (2659, 0.0), (2662, 0.0), (2663, 0.0), (2671, 0.0), (2676, 0.0), (2677, 0.0), (2681, 0.0), (2684, 0.0), (2685, 0.0), (2688, 0.0), (2690, 0.0), (2693, 0.0), (2699, 0.0), (2700, 0.0), (2701, 0.0), (2703, 0.0), (2704, 0.0), (2708, 0.0), (2709, 0.0), (2710, 0.0), (2711, 0.0), (2715, 0.0), (2717, 0.0), (2726, 0.0), (2727, 0.0), (2736, 0.0), (2737, 0.0), (2742, 0.0), (2750, 0.0), (2751, 0.0), (2754, 0.0), (2759, 0.0), (2762, 0.0), (2770, 0.0), (2773, 0.0), (2780, 0.0), (2781, 0.0), (2787, 0.0), (2806, 0.0), (2810, 0.0), (2811, 0.0), (2815, 0.0), (2819, 0.0), (2820, 0.0), (2823, 0.0), (2827, 0.0), (2828, 0.0), (2833, 0.0), (2835, 0.0), (2837, 0.0), (2839, 0.0), (2850, 0.0), (2851, 0.0), (2852, 0.0), (2860, 0.0), (2864, 0.0), (2866, 0.0), (2869, 0.0), (2871, 0.0), (2875, 0.0), (2880, 0.0), (2885, 0.0), (2891, 0.0), (2896, 0.0), (2898, 0.0), (2905, 0.0), (2913, 0.0), (2921, 0.0), (2922, 0.0), (2927, 0.0), (2928, 0.0), (2930, 0.0), (2935, 0.0), (2939, 0.0), (2948, 0.0), (2950, 0.0), (2952, 0.0), (2955, 0.0), (2956, 0.0), (2958, 0.0), (2959, 0.0), (2960, 0.0), (2967, 0.0), (2968, 0.0), (2971, 0.0), (2978, 0.0), (2982, 0.0), (2983, 0.0), (2984, 0.0), (2990, 0.0), (2991, 0.0), (2994, 0.0), (3001, 0.0), (3002, 0.0), (3005, 0.0), (3008, 0.0), (3009, 0.0), (3023, 0.0), (3034, 0.0), (3038, 0.0), (3045, 0.0), (3047, 0.0), (3049, 0.0), (3054, 0.0), (3058, 0.0), (3059, 0.0), (3060, 0.0), (3068, 0.0), (3070, 0.0), (3077, 0.0), (3078, 0.0), (3079, 0.0), (3080, 0.0), (3082, 0.0), (3085, 0.0), (3087, 0.0), (3088, 0.0), (3089, 0.0), (3090, 0.0), (3092, 0.0), (3098, 0.0), (3099, 0.0), (3100, 0.0), (3104, 0.0), (3105, 0.0), (3106, 0.0), (3107, 0.0), (3114, 0.0), (3115, 0.0), (3117, 0.0), (3118, 0.0), (3124, 0.0), (3126, 0.0), (3130, 0.0), (3132, 0.0), (3134, 0.0), (3135, 0.0), (3136, 0.0), (3138, 0.0), (3143, 0.0), (3156, 0.0), (3158, 0.0), (3160, 0.0), (3162, 0.0), (3163, 0.0), (3168, 0.0), (3169, 0.0), (3175, 0.0), (3176, 0.0), (3177, 0.0), (3179, 0.0), (3185, 0.0), (3188, 0.0), (3189, 0.0), (3190, 0.0), (3197, 0.0), (3202, 0.0), (3204, 0.0), (3207, 0.0), (3209, 0.0), (3213, 0.0), (3215, 0.0), (3223, 0.0), (3229, 0.0), (3236, 0.0), (3244, 0.0), (3245, 0.0), (3247, 0.0), (3250, 0.0), (3251, 0.0), (3253, 0.0), (3255, 0.0), (3261, 0.0), (3263, 0.0), (3266, 0.0), (3272, 0.0), (3279, 0.0), (3281, 0.0), (3286, 0.0), (3287, 0.0), (3288, 0.0), (3309, 0.0), (3310, 0.0), (3319, 0.0), (3323, 0.0), (3324, 0.0), (3332, 0.0), (3333, 0.0), (3334, 0.0), (3350, 0.0), (3366, 0.0), (3367, 0.0), (3371, 0.0), (3375, 0.0), (3377, 0.0), (3383, 0.0), (3385, 0.0), (3387, 0.0), (3394, 0.0), (3395, 0.0), (3400, 0.0), (3404, 0.0), (3405, 0.0), (3416, 0.0), (3422, 0.0), (3427, 0.0), (3428, 0.0), (3439, 0.0), (3442, 0.0), (3443, 0.0), (3453, 0.0), (3462, 0.0), (3466, 0.0), (3467, 0.0), (3470, 0.0), (3473, 0.0), (3475, 0.0), (3476, 0.0), (3482, 0.0), (3485, 0.0), (3486, 0.0), (3488, 0.0), (3489, 0.0), (3490, 0.0), (3494, 0.0), (3495, 0.0), (3505, 0.0), (3508, 0.0), (3509, 0.0), (3510, 0.0), (3519, 0.0), (3520, 0.0), (3522, 0.0), (3525, 0.0), (3528, 0.0), (3529, 0.0), (3530, 0.0), (3532, 0.0), (3533, 0.0), (3535, 0.0), (3539, 0.0), (3545, 0.0), (3547, 0.0), (3550, 0.0), (3554, 0.0), (3555, 0.0), (3559, 0.0), (3570, 0.0), (3572, 0.0), (3573, 0.0), (3576, 0.0), (3580, 0.0), (3581, 0.0), (3582, 0.0), (3583, 0.0), (3584, 0.0), (3585, 0.0), (3588, 0.0), (3589, 0.0), (3591, 0.0), (3592, 0.0), (3597, 0.0), (3600, 0.0), (3602, 0.0), (3603, 0.0), (3605, 0.0), (3607, 0.0), (3609, 0.0), (3617, 0.0), (3619, 0.0), (3622, 0.0), (3625, 0.0), (3630, 0.0), (3632, 0.0), (3649, 0.0), (3652, 0.0), (3659, 0.0), (3662, 0.0), (3663, 0.0), (3664, 0.0), (3671, 0.0), (3676, 0.0), (3679, 0.0), (3682, 0.0), (3683, 0.0), (3685, 0.0), (3686, 0.0), (3688, 0.0), (3693, 0.0), (3695, 0.0), (3697, 0.0), (3700, 0.0), (3702, 0.0), (3703, 0.0), (3708, 0.0), (3710, 0.0), (3715, 0.0), (3716, 0.0), (3717, 0.0), (3721, 0.0), (3723, 0.0), (3726, 0.0), (3735, 0.0), (3738, 0.0), (3740, 0.0), (3744, 0.0), (3750, 0.0), (3753, 0.0), (3759, 0.0), (3760, 0.0), (3761, 0.0), (3768, 0.0), (3769, 0.0), (3773, 0.0), (3774, 0.0), (3782, 0.0), (3783, 0.0), (3785, 0.0), (3787, 0.0), (3788, 0.0), (3789, 0.0), (3790, 0.0), (3791, 0.0), (3794, 0.0), (3798, 0.0), (3800, 0.0), (3805, 0.0), (3806, 0.0), (3808, 0.0), (3812, 0.0), (3814, 0.0), (3815, 0.0), (3820, 0.0), (3824, 0.0), (3830, 0.0), (3833, 0.0), (3834, 0.0), (3837, 0.0), (3838, 0.0), (3840, 0.0), (3842, 0.0), (3843, 0.0), (3844, 0.0), (3846, 0.0), (3847, 0.0), (3849, 0.0), (3850, 0.0), (3851, 0.0), (3856, 0.0), (3859, 0.0), (3860, 0.0), (3861, 0.0), (3871, 0.0), (3872, 0.0), (3881, 0.0), (3885, 0.0), (3887, 0.0), (3896, 0.0), (3905, 0.0), (3908, 0.0), (3916, 0.0), (3918, 0.0), (3923, 0.0), (3929, 0.0), (3931, 0.0), (3934, 0.0), (3936, 0.0), (3937, 0.0), (3938, 0.0), (3940, 0.0), (3942, 0.0), (3943, 0.0), (3946, 0.0), (3947, 0.0), (3948, 0.0), (3949, 0.0), (3958, 0.0), (3964, 0.0), (3965, 0.0), (3968, 0.0), (3972, 0.0), (3975, 0.0), (3976, 0.0), (3977, 0.0), (3981, 0.0), (3982, 0.0), (3985, 0.0), (3988, 0.0), (3989, 0.0), (3991, 0.0), (3993, 0.0), (3995, 0.0), (3996, 0.0), (3997, 0.0), (4003, 0.0), (4008, 0.0), (4010, 0.0), (4021, 0.0), (4022, 0.0), (4026, 0.0), (4027, 0.0), (4028, 0.0), (4034, 0.0), (4035, 0.0), (4037, 0.0), (4039, 0.0), (4040, 0.0), (4041, 0.0), (4043, 0.0), (4044, 0.0), (4045, 0.0), (4047, 0.0), (4050, 0.0), (4058, 0.0), (4063, 0.0), (4065, 0.0), (4071, 0.0), (4072, 0.0), (4073, 0.0), (4078, 0.0), (4086, 0.0), (4088, 0.0), (4090, 0.0), (4094, 0.0), (4096, 0.0), (4097, 0.0), (4100, 0.0), (4103, 0.0), (4105, 0.0), (4114, 0.0), (4122, 0.0), (4127, 0.0), (4128, 0.0), (4131, 0.0), (4134, 0.0), (4144, 0.0), (4146, 0.0), (4148, 0.0), (4153, 0.0), (4159, 0.0), (4162, 0.0), (4164, 0.0), (4165, 0.0), (4167, 0.0), (4170, 0.0), (4173, 0.0), (4177, 0.0), (4179, 0.0), (4180, 0.0), (4181, 0.0), (4184, 0.0), (4188, 0.0), (4190, 0.0), (4191, 0.0), (4193, 0.0), (4195, 0.0), (4196, 0.0), (4198, 0.0), (4199, 0.0), (4204, 0.0), (4207, 0.0), (4211, 0.0), (4214, 0.0), (4215, 0.0), (4216, 0.0), (4219, 0.0), (4229, 0.0), (4233, 0.0), (4234, 0.0), (4235, 0.0), (4237, 0.0), (4238, 0.0), (4239, 0.0), (4250, 0.0), (4253, 0.0), (4256, 0.0), (4258, 0.0), (4261, 0.0), (4270, 0.0), (4274, 0.0), (4275, 0.0), (4276, 0.0), (4285, 0.0), (4289, 0.0), (4291, 0.0), (4294, 0.0), (4300, 0.0), (4302, 0.0), (4303, 0.0), (4305, 0.0), (4307, 0.0), (4313, 0.0), (4315, 0.0), (4316, 0.0), (4317, 0.0), (4319, 0.0), (4323, 0.0), (4324, 0.0), (4325, 0.0), (4327, 0.0), (4329, 0.0), (4331, 0.0), (4335, 0.0), (4337, 0.0), (4341, 0.0), (4346, 0.0), (4347, 0.0), (4352, 0.0), (4358, 0.0), (4360, 0.0), (4365, 0.0), (4366, 0.0), (4367, 0.0), (4377, 0.0), (4378, 0.0), (4380, 0.0), (4383, 0.0), (4384, 0.0), (4385, 0.0), (4389, 0.0), (4390, 0.0), (4393, 0.0), (4405, 0.0), (4408, 0.0), (4410, 0.0), (4413, 0.0), (4417, 0.0), (4421, 0.0), (4424, 0.0), (4425, 0.0), (4426, 0.0), (4433, 0.0), (4434, 0.0), (4437, 0.0), (4439, 0.0), (4447, 0.0), (4451, 0.0), (4452, 0.0), (4453, 0.0), (4455, 0.0), (4456, 0.0), (4457, 0.0), (4463, 0.0), (4466, 0.0), (4478, 0.0), (4480, 0.0), (4485, 0.0), (4488, 0.0), (4491, 0.0), (4493, 0.0), (4496, 0.0), (4498, 0.0), (4499, 0.0), (4506, 0.0), (4508, 0.0), (4509, 0.0), (4512, 0.0), (4513, 0.0), (4514, 0.0), (4519, 0.0), (4525, 0.0), (4526, 0.0), (4532, 0.0), (4534, 0.0), (4537, 0.0), (4538, 0.0), (4539, 0.0), (4543, 0.0), (4547, 0.0), (4552, 0.0), (4553, 0.0), (4557, 0.0), (4558, 0.0), (4559, 0.0), (4560, 0.0), (4561, 0.0), (4562, 0.0), (4565, 0.0), (4569, 0.0), (4570, 0.0), (4578, 0.0), (4580, 0.0), (4581, 0.0), (4582, 0.0), (4583, 0.0), (4585, 0.0), (4586, 0.0), (4588, 0.0), (4595, 0.0), (4597, 0.0), (4609, 0.0), (4615, 0.0), (4623, 0.0), (4628, 0.0), (4630, 0.0), (4631, 0.0), (4639, 0.0), (4642, 0.0), (4644, 0.0), (4645, 0.0), (4648, 0.0), (4651, 0.0), (4653, 0.0), (4655, 0.0), (4662, 0.0), (4663, 0.0), (4664, 0.0), (4665, 0.0), (4666, 0.0), (4667, 0.0), (4671, 0.0), (4672, 0.0), (4676, 0.0), (4681, 0.0), (4683, 0.0), (4688, 0.0), (4690, 0.0), (4691, 0.0), (4697, 0.0), (4698, 0.0), (4700, 0.0), (4703, 0.0), (4707, 0.0), (4708, 0.0), (4709, 0.0), (4711, 0.0), (4714, 0.0), (4716, 0.0), (4720, 0.0), (4721, 0.0), (4725, 0.0), (4726, 0.0), (4728, 0.0), (4730, 0.0), (4736, 0.0), (4737, 0.0), (4738, 0.0), (4740, 0.0), (4741, 0.0), (4742, 0.0), (4746, 0.0), (4747, 0.0), (4750, 0.0), (4754, 0.0), (4758, 0.0), (4759, 0.0)]\n"
          ]
        }
      ]
    },
    {
      "cell_type": "code",
      "source": [
        "print('Top 20 Movies Suggested for You : \\n')\n",
        "\n",
        "i = 1\n",
        "for movie in Sorted_Similar_Movies:\n",
        "  index = movie[0]\n",
        "  title_from_index = df[df.index==index]['Movie_Title'].values[0]\n",
        "  if (i<21):\n",
        "    print(i, '.',title_from_index)\n",
        "    i+=1"
      ],
      "metadata": {
        "colab": {
          "base_uri": "https://localhost:8080/"
        },
        "id": "PZ1tgR-nXyNc",
        "outputId": "0730b0f1-a394-4a5d-e661-8af55f04f99e"
      },
      "execution_count": 63,
      "outputs": [
        {
          "output_type": "stream",
          "name": "stdout",
          "text": [
            "Top 20 Movies Suggested for You : \n",
            "\n",
            "1 . Secretariat\n",
            "2 . Dreamer: Inspired By a True Story\n",
            "3 . The Man in the Iron Mask\n",
            "4 . Slow West\n",
            "5 . Heaven is for Real\n",
            "6 . Sinister\n",
            "7 . The Mask of Zorro\n",
            "8 . The Infiltrator\n",
            "9 . Adaptation.\n",
            "10 . Red Dawn\n",
            "11 . The Right Stuff\n",
            "12 . Hardball\n",
            "13 . Hidalgo\n",
            "14 . Mary Reilly\n",
            "15 . Saving Mr. Banks\n",
            "16 . Dwegons\n",
            "17 . Must Love Dogs\n",
            "18 . The Perfect Storm\n",
            "19 . Chairman of the Board\n",
            "20 . The Messenger: The Story of Joan of Arc\n"
          ]
        }
      ]
    },
    {
      "cell_type": "markdown",
      "source": [
        "**Top 10 Movie Recommendation System**"
      ],
      "metadata": {
        "id": "YFkSEGb1an2r"
      }
    },
    {
      "cell_type": "code",
      "source": [
        "Movie_Name = input('Enter Your Favourite Movie Name: ')\n",
        "\n",
        "list_of_all_titles = df['Movie_Title'].tolist()\n",
        "\n",
        "Find_Close_Match = difflib.get_close_matches(Movie_Name, list_of_all_titles)\n",
        "\n",
        "Close_Match = Find_Close_Match[0]\n",
        "\n",
        "Index_of_Movie = df[df.Movie_Title == Close_Match]['Movie_ID'].values[0]\n",
        "\n",
        "Recommendation_Score = list(enumerate(Similarity_Score[Index_of_Movie]))\n",
        "\n",
        "sorted_similar_movies = sorted(Recommendation_Score, key = lambda x:x[1], reverse = True)\n",
        "\n",
        "print('Top 10 Movies Suggested For You : \\n')\n",
        "\n",
        "i = 1\n",
        "for movie in Sorted_Similar_Movies:\n",
        "  index = movie[0]\n",
        "  title_from_index = df[df.Movie_ID==index]['Movie_Title'].values\n",
        "  if (i<11):\n",
        "    print(i, '.',title_from_index)\n",
        "    i+=1"
      ],
      "metadata": {
        "colab": {
          "base_uri": "https://localhost:8080/"
        },
        "id": "u4hFEo4haw7N",
        "outputId": "4616b867-393a-44eb-9260-298f756ce1e9"
      },
      "execution_count": 64,
      "outputs": [
        {
          "output_type": "stream",
          "name": "stdout",
          "text": [
            "Enter Your Favourite Movie Name: Mission: Impossible\n",
            "Top 10 Movies Suggested For You : \n",
            "\n",
            "1 . ['Beloved']\n",
            "2 . ['No End in Sight']\n",
            "3 . ['Mortal Kombat']\n",
            "4 . ['Of Horses and Men']\n",
            "5 . ['The Book of Life']\n",
            "6 . ['Lockout']\n",
            "7 . ['The Core']\n",
            "8 . ['The Boy']\n",
            "9 . ['The Abyss']\n",
            "10 . ['Fear and Loathing in Las Vegas']\n"
          ]
        }
      ]
    },
    {
      "cell_type": "markdown",
      "source": [
        "Explaination:\n",
        "The code imports the necessary libraries for data manipulation and machine learning, including pandas, numpy, and sklearn.\n",
        "The movie dataset is loaded into a pandas DataFrame (df) from the provided URL using pd.read_csv().\n",
        "The movie features ('Movie_Genre', 'Movie_Keywords', 'Movie_Tagline', 'Movie_Cast', 'Movie_Director') are selected and stored in a new DataFrame df_features. Missing values in these features are filled with empty strings.\n",
        "The movie features are combined into a single string for each movie in the 'x' variable, which will be used for TF-IDF vectorization.\n",
        "TF-IDF vectorization is applied to convert the combined movie features into numerical tokens using TfidfVectorizer from sklearn's feature_extraction.text module. The fit_transform() method is applied to 'x' to create the feature matrix x.\n",
        "Cosine similarity is calculated between movies using cosine_similarity from sklearn's metrics.pairwise module, based on the TF-IDF vectors. The resulting Similarity_Score matrix represents the similarity between all pairs of movies.\n",
        "The user is asked to enter their favorite movie name, and the code validates for the closest spelling match using the difflib.get_close_matches() function.\n",
        "The movie recommendations are then generated based on similarity scores for the user's favorite movie. The top 20 movies with the highest recommendation scores are displayed as suggestions to the user."
      ],
      "metadata": {
        "id": "lqlSsM5gdkcA"
      }
    }
  ]
}